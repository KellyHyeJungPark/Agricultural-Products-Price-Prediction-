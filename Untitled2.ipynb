{
 "cells": [
  {
   "cell_type": "code",
   "execution_count": 1,
   "metadata": {},
   "outputs": [],
   "source": [
    "import pandas as pd"
   ]
  },
  {
   "cell_type": "code",
   "execution_count": 2,
   "metadata": {},
   "outputs": [],
   "source": [
    "df = pd.read_csv('소비자물가지수_품목별_연도별_월별_filtered.csv')"
   ]
  },
  {
   "cell_type": "code",
   "execution_count": 4,
   "metadata": {
    "scrolled": false
   },
   "outputs": [
    {
     "data": {
      "text/plain": [
       "0            총지수\n",
       "1          농축수산물\n",
       "2     　　　(농산물)곡물\n",
       "3        　　　　　　쌀\n",
       "4       　　　　　　현미\n",
       "5       　　　　　　찹쌀\n",
       "6      　　　　　　보리쌀\n",
       "7        　　　　　　콩\n",
       "8       　　　　　　땅콩\n",
       "9      　　　　　　혼식곡\n",
       "10    　　　(농산물)채소\n",
       "11      　　　　　　배추\n",
       "12      　　　　　　상추\n",
       "13     　　　　　　시금치\n",
       "14     　　　　　　양배추\n",
       "15     　　　　　　미나리\n",
       "16      　　　　　　깻잎\n",
       "17      　　　　　　부추\n",
       "18       　　　　　　무\n",
       "19      　　　　　　열무\n",
       "20      　　　　　　당근\n",
       "21      　　　　　　감자\n",
       "22     　　　　　　고구마\n",
       "23     　　　　　　도라지\n",
       "24     　　　　　　콩나물\n",
       "25      　　　　　　버섯\n",
       "26      　　　　　　오이\n",
       "27     　　　　　　풋고추\n",
       "28      　　　　　　호박\n",
       "29      　　　　　　가지\n",
       "30     　　　　　　토마토\n",
       "31       　　　　　　파\n",
       "32      　　　　　　양파\n",
       "33      　　　　　　마늘\n",
       "34    　　　　　　브로콜리\n",
       "35     　　　　　　고사리\n",
       "36    　　　　　　파프리카\n",
       "37      　　　　　　생강\n",
       "38    　　　(농산물)과실\n",
       "39      　　　　　　사과\n",
       "40       　　　　　　배\n",
       "41     　　　　　　복숭아\n",
       "42      　　　　　　포도\n",
       "43       　　　　　　밤\n",
       "44       　　　　　　감\n",
       "45       　　　　　　귤\n",
       "46     　　　　　　오렌지\n",
       "47      　　　　　　참외\n",
       "48      　　　　　　수박\n",
       "49      　　　　　　딸기\n",
       "50     　　　　　　바나나\n",
       "51      　　　　　　키위\n",
       "Name: 품목별, dtype: object"
      ]
     },
     "execution_count": 4,
     "metadata": {},
     "output_type": "execute_result"
    }
   ],
   "source": [
    "df['품목별']"
   ]
  },
  {
   "cell_type": "code",
   "execution_count": null,
   "metadata": {},
   "outputs": [],
   "source": []
  }
 ],
 "metadata": {
  "kernelspec": {
   "display_name": "Python 3",
   "language": "python",
   "name": "python3"
  },
  "language_info": {
   "codemirror_mode": {
    "name": "ipython",
    "version": 3
   },
   "file_extension": ".py",
   "mimetype": "text/x-python",
   "name": "python",
   "nbconvert_exporter": "python",
   "pygments_lexer": "ipython3",
   "version": "3.8.5"
  }
 },
 "nbformat": 4,
 "nbformat_minor": 4
}
