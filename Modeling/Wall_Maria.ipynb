{
 "cells": [
  {
   "attachments": {},
   "cell_type": "markdown",
   "metadata": {},
   "source": [
    "# Wall_Maria (가제)"
   ]
  },
  {
   "cell_type": "code",
   "execution_count": null,
   "metadata": {},
   "outputs": [],
   "source": [
    "# standard Library ---- ---- ---- ----\n",
    "import random\n",
    "import os\n",
    "import sys\n",
    "print(\"sys.version :\", sys.version)\n",
    "import glob\n",
    "from pprint import pprint\n",
    "import time\n",
    "\n",
    "\n",
    "\n",
    "# etc ---- ---- ---- ----\n",
    "import warnings\n",
    "warnings.filterwarnings(action='ignore') \n",
    "import tqdm\n",
    "# if (\"cv2\" in sys.modules) == False:\n",
    "#     !pip install opencv-python\n",
    "import cv2\n",
    "print(\"cv2.__version__ :\", cv2.__version__)\n",
    "\n",
    "\n",
    "\n",
    "# Data ---- ---- ---- ----\n",
    "import numpy as np\n",
    "print(\"np.__version__ :\", np.__version__)\n",
    "import pandas as pd\n",
    "print(\"pd.__version__ :\", pd.__version__)\n",
    "pd.options.display.float_format = '{:.3f}'.format\n",
    "import matplotlib.pyplot as plt\n",
    "import seaborn as sns\n",
    "\n",
    "\n",
    "\n",
    "# ML, DL ---- ---- ---- ----\n",
    "import tensorflow as tf\n",
    "print(\"tf.__version__ :\", tf.__version__)\n",
    "from tensorflow.python.client import device_lib\n",
    "print(device_lib.list_local_devices())\n",
    "import torch\n",
    "print(\"torch.__version__ :\", torch.__version__)\n",
    "device = torch.device('cuda') if torch.cuda.is_available() else torch.device('cpu')\n",
    "\n",
    "gpu_info = !nvidia-smi\n",
    "gpu_info = '\\n'.join(gpu_info)\n",
    "if gpu_info.find('failed') >= 0:\n",
    "    print('Not connected to a GPU')\n",
    "else:\n",
    "    print(gpu_info)\n",
    "\n",
    "\n",
    "sys.path.append(\"../Import\")\n",
    "from definitions import crop_list2\n",
    "from modul import reduce_mem_usage"
   ]
  }
 ],
 "metadata": {
  "kernelspec": {
   "display_name": "asd1",
   "language": "python",
   "name": "python3"
  },
  "language_info": {
   "name": "python",
   "version": "3.10.8 | packaged by conda-forge | (main, Nov 22 2022, 08:16:53) [MSC v.1929 64 bit (AMD64)]"
  },
  "orig_nbformat": 4,
  "vscode": {
   "interpreter": {
    "hash": "07badbe185019afce09527cdf66b20ec507f3045aabcc27b0da70607b5630dc4"
   }
  }
 },
 "nbformat": 4,
 "nbformat_minor": 2
}
