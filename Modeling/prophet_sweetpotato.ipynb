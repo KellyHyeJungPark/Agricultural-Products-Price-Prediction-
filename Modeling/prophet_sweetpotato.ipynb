{
 "cells": [
  {
   "cell_type": "code",
   "execution_count": 1,
   "metadata": {},
   "outputs": [
    {
     "name": "stderr",
     "output_type": "stream",
     "text": [
      "/home/work/.local/lib/python3.8/site-packages/pandas/core/computation/expressions.py:20: UserWarning: Pandas requires version '2.7.3' or newer of 'numexpr' (version '2.7.0' currently installed).\n",
      "  from pandas.core.computation.check import NUMEXPR_INSTALLED\n"
     ]
    }
   ],
   "source": [
    "import numpy as np \n",
    "from prophet import Prophet\n",
    "from prophet.plot import plot_plotly, plot_components_plotly\n",
    "from prophet.diagnostics import cross_validation\n",
    "from prophet.diagnostics import performance_metrics\n",
    "import warnings\n",
    "warnings.filterwarnings('ignore')  \n",
    "warnings.simplefilter(action = \"ignore\", category = RuntimeWarning)\n",
    "import datetime as dt\n",
    "import pandas as pd\n",
    "pd.core.common.is_list_like = pd.api.types.is_list_like\n",
    "import pandas_datareader.data as web\n",
    "import numpy as np\n",
    "import matplotlib.pyplot as plt\n",
    "import seaborn as sns\n",
    "import matplotlib.dates as mdates\n",
    "import pandas as pd\n",
    "from plotnine import *\n",
    "import io\n",
    "\n",
    "import statistics as st\n",
    "%matplotlib inline\n",
    "import matplotlib.dates as mdates\n",
    "from pandas import DataFrame\n",
    "from pandas import to_datetime\n",
    "from statsmodels.tsa.stattools import kpss\n",
    "from statsmodels.tsa.stattools import adfuller\n",
    "from  sklearn.metrics import mean_absolute_error"
   ]
  },
  {
   "cell_type": "code",
   "execution_count": 2,
   "metadata": {},
   "outputs": [
    {
     "data": {
      "text/html": [
       "<div>\n",
       "<style scoped>\n",
       "    .dataframe tbody tr th:only-of-type {\n",
       "        vertical-align: middle;\n",
       "    }\n",
       "\n",
       "    .dataframe tbody tr th {\n",
       "        vertical-align: top;\n",
       "    }\n",
       "\n",
       "    .dataframe thead th {\n",
       "        text-align: right;\n",
       "    }\n",
       "</style>\n",
       "<table border=\"1\" class=\"dataframe\">\n",
       "  <thead>\n",
       "    <tr style=\"text-align: right;\">\n",
       "      <th></th>\n",
       "      <th>YMD</th>\n",
       "      <th>YM</th>\n",
       "      <th>MD</th>\n",
       "      <th>Product</th>\n",
       "      <th>Price</th>\n",
       "      <th>KRW_USD_EXR</th>\n",
       "      <th>Annual_Call_Rate</th>\n",
       "      <th>item_PPI</th>\n",
       "      <th>item_CPI</th>\n",
       "      <th>Food_Price_Index</th>\n",
       "      <th>Cereals_Price_Index</th>\n",
       "      <th>DayAvg_Temperature</th>\n",
       "      <th>DayDiff_Temperature</th>\n",
       "      <th>DayAvg_RelativeHumidity</th>\n",
       "      <th>DaySum_Rainfall</th>\n",
       "      <th>DayAvg_WindSpeed</th>\n",
       "      <th>DaySum_Sunshine</th>\n",
       "      <th>Warning_Count</th>\n",
       "    </tr>\n",
       "  </thead>\n",
       "  <tbody>\n",
       "    <tr>\n",
       "      <th>0</th>\n",
       "      <td>2005-01-03</td>\n",
       "      <td>200501</td>\n",
       "      <td>103</td>\n",
       "      <td>마늘</td>\n",
       "      <td>20785.714286</td>\n",
       "      <td>1013.00</td>\n",
       "      <td>3.33</td>\n",
       "      <td>49.58</td>\n",
       "      <td>58.27</td>\n",
       "      <td>65.4</td>\n",
       "      <td>60.5</td>\n",
       "      <td>4.400000</td>\n",
       "      <td>12.800000</td>\n",
       "      <td>35.200000</td>\n",
       "      <td>0.000000</td>\n",
       "      <td>2.600000</td>\n",
       "      <td>1.600000</td>\n",
       "      <td>0.000000</td>\n",
       "    </tr>\n",
       "    <tr>\n",
       "      <th>1</th>\n",
       "      <td>2005-01-04</td>\n",
       "      <td>200501</td>\n",
       "      <td>104</td>\n",
       "      <td>마늘</td>\n",
       "      <td>20785.714286</td>\n",
       "      <td>1013.00</td>\n",
       "      <td>3.33</td>\n",
       "      <td>49.58</td>\n",
       "      <td>58.27</td>\n",
       "      <td>65.4</td>\n",
       "      <td>60.5</td>\n",
       "      <td>-0.200000</td>\n",
       "      <td>8.800000</td>\n",
       "      <td>26.000000</td>\n",
       "      <td>0.000000</td>\n",
       "      <td>2.800000</td>\n",
       "      <td>2.800000</td>\n",
       "      <td>0.000000</td>\n",
       "    </tr>\n",
       "    <tr>\n",
       "      <th>2</th>\n",
       "      <td>2005-01-05</td>\n",
       "      <td>200501</td>\n",
       "      <td>105</td>\n",
       "      <td>마늘</td>\n",
       "      <td>20928.571429</td>\n",
       "      <td>1013.00</td>\n",
       "      <td>3.33</td>\n",
       "      <td>49.58</td>\n",
       "      <td>58.27</td>\n",
       "      <td>65.4</td>\n",
       "      <td>60.5</td>\n",
       "      <td>-1.400000</td>\n",
       "      <td>11.200000</td>\n",
       "      <td>33.400000</td>\n",
       "      <td>0.000000</td>\n",
       "      <td>0.600000</td>\n",
       "      <td>3.200000</td>\n",
       "      <td>0.000000</td>\n",
       "    </tr>\n",
       "    <tr>\n",
       "      <th>3</th>\n",
       "      <td>2005-01-06</td>\n",
       "      <td>200501</td>\n",
       "      <td>106</td>\n",
       "      <td>마늘</td>\n",
       "      <td>21071.428571</td>\n",
       "      <td>1013.00</td>\n",
       "      <td>3.33</td>\n",
       "      <td>49.58</td>\n",
       "      <td>58.27</td>\n",
       "      <td>65.4</td>\n",
       "      <td>60.5</td>\n",
       "      <td>2.800000</td>\n",
       "      <td>7.800000</td>\n",
       "      <td>31.200000</td>\n",
       "      <td>1.200000</td>\n",
       "      <td>1.200000</td>\n",
       "      <td>2.600000</td>\n",
       "      <td>0.000000</td>\n",
       "    </tr>\n",
       "    <tr>\n",
       "      <th>4</th>\n",
       "      <td>2005-01-07</td>\n",
       "      <td>200501</td>\n",
       "      <td>107</td>\n",
       "      <td>마늘</td>\n",
       "      <td>21071.428571</td>\n",
       "      <td>1013.00</td>\n",
       "      <td>3.33</td>\n",
       "      <td>49.58</td>\n",
       "      <td>58.27</td>\n",
       "      <td>65.4</td>\n",
       "      <td>60.5</td>\n",
       "      <td>2.000000</td>\n",
       "      <td>7.600000</td>\n",
       "      <td>28.400000</td>\n",
       "      <td>0.000000</td>\n",
       "      <td>2.800000</td>\n",
       "      <td>2.800000</td>\n",
       "      <td>0.000000</td>\n",
       "    </tr>\n",
       "    <tr>\n",
       "      <th>...</th>\n",
       "      <td>...</td>\n",
       "      <td>...</td>\n",
       "      <td>...</td>\n",
       "      <td>...</td>\n",
       "      <td>...</td>\n",
       "      <td>...</td>\n",
       "      <td>...</td>\n",
       "      <td>...</td>\n",
       "      <td>...</td>\n",
       "      <td>...</td>\n",
       "      <td>...</td>\n",
       "      <td>...</td>\n",
       "      <td>...</td>\n",
       "      <td>...</td>\n",
       "      <td>...</td>\n",
       "      <td>...</td>\n",
       "      <td>...</td>\n",
       "      <td>...</td>\n",
       "    </tr>\n",
       "    <tr>\n",
       "      <th>15875</th>\n",
       "      <td>2020-12-24</td>\n",
       "      <td>202012</td>\n",
       "      <td>1224</td>\n",
       "      <td>고구마</td>\n",
       "      <td>10258.695652</td>\n",
       "      <td>1180.05</td>\n",
       "      <td>0.70</td>\n",
       "      <td>137.90</td>\n",
       "      <td>96.13</td>\n",
       "      <td>108.6</td>\n",
       "      <td>116.4</td>\n",
       "      <td>3.529412</td>\n",
       "      <td>8.588235</td>\n",
       "      <td>59.117647</td>\n",
       "      <td>0.000000</td>\n",
       "      <td>1.705882</td>\n",
       "      <td>3.529412</td>\n",
       "      <td>0.000000</td>\n",
       "    </tr>\n",
       "    <tr>\n",
       "      <th>15876</th>\n",
       "      <td>2020-12-28</td>\n",
       "      <td>202012</td>\n",
       "      <td>1228</td>\n",
       "      <td>고구마</td>\n",
       "      <td>10431.323529</td>\n",
       "      <td>1180.05</td>\n",
       "      <td>0.70</td>\n",
       "      <td>137.90</td>\n",
       "      <td>96.13</td>\n",
       "      <td>108.6</td>\n",
       "      <td>116.4</td>\n",
       "      <td>3.941176</td>\n",
       "      <td>11.941176</td>\n",
       "      <td>80.352941</td>\n",
       "      <td>0.058824</td>\n",
       "      <td>0.411765</td>\n",
       "      <td>3.117647</td>\n",
       "      <td>0.000000</td>\n",
       "    </tr>\n",
       "    <tr>\n",
       "      <th>15877</th>\n",
       "      <td>2020-12-29</td>\n",
       "      <td>202012</td>\n",
       "      <td>1229</td>\n",
       "      <td>고구마</td>\n",
       "      <td>10431.323529</td>\n",
       "      <td>1180.05</td>\n",
       "      <td>0.70</td>\n",
       "      <td>137.90</td>\n",
       "      <td>96.13</td>\n",
       "      <td>108.6</td>\n",
       "      <td>116.4</td>\n",
       "      <td>1.590909</td>\n",
       "      <td>9.227273</td>\n",
       "      <td>77.227273</td>\n",
       "      <td>1.272727</td>\n",
       "      <td>1.863636</td>\n",
       "      <td>0.636364</td>\n",
       "      <td>0.772727</td>\n",
       "    </tr>\n",
       "    <tr>\n",
       "      <th>15878</th>\n",
       "      <td>2020-12-30</td>\n",
       "      <td>202012</td>\n",
       "      <td>1230</td>\n",
       "      <td>고구마</td>\n",
       "      <td>10460.735294</td>\n",
       "      <td>1180.05</td>\n",
       "      <td>0.70</td>\n",
       "      <td>137.90</td>\n",
       "      <td>96.13</td>\n",
       "      <td>108.6</td>\n",
       "      <td>116.4</td>\n",
       "      <td>-5.500000</td>\n",
       "      <td>6.250000</td>\n",
       "      <td>65.375000</td>\n",
       "      <td>0.291667</td>\n",
       "      <td>3.958333</td>\n",
       "      <td>2.666667</td>\n",
       "      <td>0.833333</td>\n",
       "    </tr>\n",
       "    <tr>\n",
       "      <th>15879</th>\n",
       "      <td>2020-12-31</td>\n",
       "      <td>202012</td>\n",
       "      <td>1231</td>\n",
       "      <td>고구마</td>\n",
       "      <td>10700.294118</td>\n",
       "      <td>1180.05</td>\n",
       "      <td>0.70</td>\n",
       "      <td>137.90</td>\n",
       "      <td>96.13</td>\n",
       "      <td>108.6</td>\n",
       "      <td>116.4</td>\n",
       "      <td>-5.222222</td>\n",
       "      <td>9.222222</td>\n",
       "      <td>66.944444</td>\n",
       "      <td>0.333333</td>\n",
       "      <td>1.666667</td>\n",
       "      <td>3.611111</td>\n",
       "      <td>0.555556</td>\n",
       "    </tr>\n",
       "  </tbody>\n",
       "</table>\n",
       "<p>15880 rows × 18 columns</p>\n",
       "</div>"
      ],
      "text/plain": [
       "              YMD      YM    MD Product         Price  KRW_USD_EXR  \\\n",
       "0      2005-01-03  200501   103      마늘  20785.714286      1013.00   \n",
       "1      2005-01-04  200501   104      마늘  20785.714286      1013.00   \n",
       "2      2005-01-05  200501   105      마늘  20928.571429      1013.00   \n",
       "3      2005-01-06  200501   106      마늘  21071.428571      1013.00   \n",
       "4      2005-01-07  200501   107      마늘  21071.428571      1013.00   \n",
       "...           ...     ...   ...     ...           ...          ...   \n",
       "15875  2020-12-24  202012  1224     고구마  10258.695652      1180.05   \n",
       "15876  2020-12-28  202012  1228     고구마  10431.323529      1180.05   \n",
       "15877  2020-12-29  202012  1229     고구마  10431.323529      1180.05   \n",
       "15878  2020-12-30  202012  1230     고구마  10460.735294      1180.05   \n",
       "15879  2020-12-31  202012  1231     고구마  10700.294118      1180.05   \n",
       "\n",
       "       Annual_Call_Rate  item_PPI  item_CPI  Food_Price_Index  \\\n",
       "0                  3.33     49.58     58.27              65.4   \n",
       "1                  3.33     49.58     58.27              65.4   \n",
       "2                  3.33     49.58     58.27              65.4   \n",
       "3                  3.33     49.58     58.27              65.4   \n",
       "4                  3.33     49.58     58.27              65.4   \n",
       "...                 ...       ...       ...               ...   \n",
       "15875              0.70    137.90     96.13             108.6   \n",
       "15876              0.70    137.90     96.13             108.6   \n",
       "15877              0.70    137.90     96.13             108.6   \n",
       "15878              0.70    137.90     96.13             108.6   \n",
       "15879              0.70    137.90     96.13             108.6   \n",
       "\n",
       "       Cereals_Price_Index  DayAvg_Temperature  DayDiff_Temperature  \\\n",
       "0                     60.5            4.400000            12.800000   \n",
       "1                     60.5           -0.200000             8.800000   \n",
       "2                     60.5           -1.400000            11.200000   \n",
       "3                     60.5            2.800000             7.800000   \n",
       "4                     60.5            2.000000             7.600000   \n",
       "...                    ...                 ...                  ...   \n",
       "15875                116.4            3.529412             8.588235   \n",
       "15876                116.4            3.941176            11.941176   \n",
       "15877                116.4            1.590909             9.227273   \n",
       "15878                116.4           -5.500000             6.250000   \n",
       "15879                116.4           -5.222222             9.222222   \n",
       "\n",
       "       DayAvg_RelativeHumidity  DaySum_Rainfall  DayAvg_WindSpeed  \\\n",
       "0                    35.200000         0.000000          2.600000   \n",
       "1                    26.000000         0.000000          2.800000   \n",
       "2                    33.400000         0.000000          0.600000   \n",
       "3                    31.200000         1.200000          1.200000   \n",
       "4                    28.400000         0.000000          2.800000   \n",
       "...                        ...              ...               ...   \n",
       "15875                59.117647         0.000000          1.705882   \n",
       "15876                80.352941         0.058824          0.411765   \n",
       "15877                77.227273         1.272727          1.863636   \n",
       "15878                65.375000         0.291667          3.958333   \n",
       "15879                66.944444         0.333333          1.666667   \n",
       "\n",
       "       DaySum_Sunshine  Warning_Count  \n",
       "0             1.600000       0.000000  \n",
       "1             2.800000       0.000000  \n",
       "2             3.200000       0.000000  \n",
       "3             2.600000       0.000000  \n",
       "4             2.800000       0.000000  \n",
       "...                ...            ...  \n",
       "15875         3.529412       0.000000  \n",
       "15876         3.117647       0.000000  \n",
       "15877         0.636364       0.772727  \n",
       "15878         2.666667       0.833333  \n",
       "15879         3.611111       0.555556  \n",
       "\n",
       "[15880 rows x 18 columns]"
      ]
     },
     "execution_count": 2,
     "metadata": {},
     "output_type": "execute_result"
    }
   ],
   "source": [
    "df = pd.read_csv('Agri_all.csv')\n",
    "df"
   ]
  },
  {
   "cell_type": "code",
   "execution_count": 3,
   "metadata": {},
   "outputs": [
    {
     "data": {
      "text/plain": [
       "array(['마늘', '깻잎', '감자', '고구마'], dtype=object)"
      ]
     },
     "execution_count": 3,
     "metadata": {},
     "output_type": "execute_result"
    }
   ],
   "source": [
    "df[\"Product\"].unique()"
   ]
  },
  {
   "cell_type": "code",
   "execution_count": 4,
   "metadata": {},
   "outputs": [
    {
     "data": {
      "text/html": [
       "<div>\n",
       "<style scoped>\n",
       "    .dataframe tbody tr th:only-of-type {\n",
       "        vertical-align: middle;\n",
       "    }\n",
       "\n",
       "    .dataframe tbody tr th {\n",
       "        vertical-align: top;\n",
       "    }\n",
       "\n",
       "    .dataframe thead th {\n",
       "        text-align: right;\n",
       "    }\n",
       "</style>\n",
       "<table border=\"1\" class=\"dataframe\">\n",
       "  <thead>\n",
       "    <tr style=\"text-align: right;\">\n",
       "      <th></th>\n",
       "      <th>ds</th>\n",
       "      <th>YM</th>\n",
       "      <th>MD</th>\n",
       "      <th>Product</th>\n",
       "      <th>y</th>\n",
       "      <th>KRW_USD_EXR</th>\n",
       "      <th>Annual_Call_Rate</th>\n",
       "      <th>item_PPI</th>\n",
       "      <th>item_CPI</th>\n",
       "      <th>Food_Price_Index</th>\n",
       "      <th>Cereals_Price_Index</th>\n",
       "      <th>DayAvg_Temperature</th>\n",
       "      <th>DayDiff_Temperature</th>\n",
       "      <th>DayAvg_RelativeHumidity</th>\n",
       "      <th>DaySum_Rainfall</th>\n",
       "      <th>DayAvg_WindSpeed</th>\n",
       "      <th>DaySum_Sunshine</th>\n",
       "      <th>Warning_Count</th>\n",
       "    </tr>\n",
       "  </thead>\n",
       "  <tbody>\n",
       "    <tr>\n",
       "      <th>0</th>\n",
       "      <td>2005-01-03</td>\n",
       "      <td>200501</td>\n",
       "      <td>103</td>\n",
       "      <td>고구마</td>\n",
       "      <td>4291.111111</td>\n",
       "      <td>1013.00</td>\n",
       "      <td>3.33</td>\n",
       "      <td>53.12</td>\n",
       "      <td>41.811</td>\n",
       "      <td>65.4</td>\n",
       "      <td>60.5</td>\n",
       "      <td>4.000000</td>\n",
       "      <td>7.000000</td>\n",
       "      <td>0.000000</td>\n",
       "      <td>1.000000</td>\n",
       "      <td>4.000000</td>\n",
       "      <td>0.000000</td>\n",
       "      <td>0.000000</td>\n",
       "    </tr>\n",
       "    <tr>\n",
       "      <th>1</th>\n",
       "      <td>2005-01-04</td>\n",
       "      <td>200501</td>\n",
       "      <td>104</td>\n",
       "      <td>고구마</td>\n",
       "      <td>4374.444444</td>\n",
       "      <td>1013.00</td>\n",
       "      <td>3.33</td>\n",
       "      <td>53.12</td>\n",
       "      <td>41.811</td>\n",
       "      <td>65.4</td>\n",
       "      <td>60.5</td>\n",
       "      <td>-3.000000</td>\n",
       "      <td>5.000000</td>\n",
       "      <td>0.000000</td>\n",
       "      <td>0.000000</td>\n",
       "      <td>4.000000</td>\n",
       "      <td>0.000000</td>\n",
       "      <td>0.000000</td>\n",
       "    </tr>\n",
       "    <tr>\n",
       "      <th>2</th>\n",
       "      <td>2005-01-05</td>\n",
       "      <td>200501</td>\n",
       "      <td>105</td>\n",
       "      <td>고구마</td>\n",
       "      <td>4603.720930</td>\n",
       "      <td>1013.00</td>\n",
       "      <td>3.33</td>\n",
       "      <td>53.12</td>\n",
       "      <td>41.811</td>\n",
       "      <td>65.4</td>\n",
       "      <td>60.5</td>\n",
       "      <td>-5.000000</td>\n",
       "      <td>13.000000</td>\n",
       "      <td>0.000000</td>\n",
       "      <td>0.000000</td>\n",
       "      <td>0.000000</td>\n",
       "      <td>0.000000</td>\n",
       "      <td>0.000000</td>\n",
       "    </tr>\n",
       "    <tr>\n",
       "      <th>3</th>\n",
       "      <td>2005-01-06</td>\n",
       "      <td>200501</td>\n",
       "      <td>106</td>\n",
       "      <td>고구마</td>\n",
       "      <td>4640.930233</td>\n",
       "      <td>1013.00</td>\n",
       "      <td>3.33</td>\n",
       "      <td>53.12</td>\n",
       "      <td>41.811</td>\n",
       "      <td>65.4</td>\n",
       "      <td>60.5</td>\n",
       "      <td>0.000000</td>\n",
       "      <td>8.000000</td>\n",
       "      <td>0.000000</td>\n",
       "      <td>0.000000</td>\n",
       "      <td>1.000000</td>\n",
       "      <td>0.000000</td>\n",
       "      <td>0.000000</td>\n",
       "    </tr>\n",
       "    <tr>\n",
       "      <th>4</th>\n",
       "      <td>2005-01-07</td>\n",
       "      <td>200501</td>\n",
       "      <td>107</td>\n",
       "      <td>고구마</td>\n",
       "      <td>4515.454545</td>\n",
       "      <td>1013.00</td>\n",
       "      <td>3.33</td>\n",
       "      <td>53.12</td>\n",
       "      <td>41.811</td>\n",
       "      <td>65.4</td>\n",
       "      <td>60.5</td>\n",
       "      <td>-2.000000</td>\n",
       "      <td>9.000000</td>\n",
       "      <td>0.000000</td>\n",
       "      <td>0.000000</td>\n",
       "      <td>4.000000</td>\n",
       "      <td>0.000000</td>\n",
       "      <td>0.000000</td>\n",
       "    </tr>\n",
       "    <tr>\n",
       "      <th>...</th>\n",
       "      <td>...</td>\n",
       "      <td>...</td>\n",
       "      <td>...</td>\n",
       "      <td>...</td>\n",
       "      <td>...</td>\n",
       "      <td>...</td>\n",
       "      <td>...</td>\n",
       "      <td>...</td>\n",
       "      <td>...</td>\n",
       "      <td>...</td>\n",
       "      <td>...</td>\n",
       "      <td>...</td>\n",
       "      <td>...</td>\n",
       "      <td>...</td>\n",
       "      <td>...</td>\n",
       "      <td>...</td>\n",
       "      <td>...</td>\n",
       "      <td>...</td>\n",
       "    </tr>\n",
       "    <tr>\n",
       "      <th>3965</th>\n",
       "      <td>2020-12-24</td>\n",
       "      <td>202012</td>\n",
       "      <td>1224</td>\n",
       "      <td>고구마</td>\n",
       "      <td>10258.695652</td>\n",
       "      <td>1180.05</td>\n",
       "      <td>0.70</td>\n",
       "      <td>137.90</td>\n",
       "      <td>96.130</td>\n",
       "      <td>108.6</td>\n",
       "      <td>116.4</td>\n",
       "      <td>3.529412</td>\n",
       "      <td>8.588235</td>\n",
       "      <td>59.117647</td>\n",
       "      <td>0.000000</td>\n",
       "      <td>1.705882</td>\n",
       "      <td>3.529412</td>\n",
       "      <td>0.000000</td>\n",
       "    </tr>\n",
       "    <tr>\n",
       "      <th>3966</th>\n",
       "      <td>2020-12-28</td>\n",
       "      <td>202012</td>\n",
       "      <td>1228</td>\n",
       "      <td>고구마</td>\n",
       "      <td>10431.323529</td>\n",
       "      <td>1180.05</td>\n",
       "      <td>0.70</td>\n",
       "      <td>137.90</td>\n",
       "      <td>96.130</td>\n",
       "      <td>108.6</td>\n",
       "      <td>116.4</td>\n",
       "      <td>3.941176</td>\n",
       "      <td>11.941176</td>\n",
       "      <td>80.352941</td>\n",
       "      <td>0.058824</td>\n",
       "      <td>0.411765</td>\n",
       "      <td>3.117647</td>\n",
       "      <td>0.000000</td>\n",
       "    </tr>\n",
       "    <tr>\n",
       "      <th>3967</th>\n",
       "      <td>2020-12-29</td>\n",
       "      <td>202012</td>\n",
       "      <td>1229</td>\n",
       "      <td>고구마</td>\n",
       "      <td>10431.323529</td>\n",
       "      <td>1180.05</td>\n",
       "      <td>0.70</td>\n",
       "      <td>137.90</td>\n",
       "      <td>96.130</td>\n",
       "      <td>108.6</td>\n",
       "      <td>116.4</td>\n",
       "      <td>1.590909</td>\n",
       "      <td>9.227273</td>\n",
       "      <td>77.227273</td>\n",
       "      <td>1.272727</td>\n",
       "      <td>1.863636</td>\n",
       "      <td>0.636364</td>\n",
       "      <td>0.772727</td>\n",
       "    </tr>\n",
       "    <tr>\n",
       "      <th>3968</th>\n",
       "      <td>2020-12-30</td>\n",
       "      <td>202012</td>\n",
       "      <td>1230</td>\n",
       "      <td>고구마</td>\n",
       "      <td>10460.735294</td>\n",
       "      <td>1180.05</td>\n",
       "      <td>0.70</td>\n",
       "      <td>137.90</td>\n",
       "      <td>96.130</td>\n",
       "      <td>108.6</td>\n",
       "      <td>116.4</td>\n",
       "      <td>-5.500000</td>\n",
       "      <td>6.250000</td>\n",
       "      <td>65.375000</td>\n",
       "      <td>0.291667</td>\n",
       "      <td>3.958333</td>\n",
       "      <td>2.666667</td>\n",
       "      <td>0.833333</td>\n",
       "    </tr>\n",
       "    <tr>\n",
       "      <th>3969</th>\n",
       "      <td>2020-12-31</td>\n",
       "      <td>202012</td>\n",
       "      <td>1231</td>\n",
       "      <td>고구마</td>\n",
       "      <td>10700.294118</td>\n",
       "      <td>1180.05</td>\n",
       "      <td>0.70</td>\n",
       "      <td>137.90</td>\n",
       "      <td>96.130</td>\n",
       "      <td>108.6</td>\n",
       "      <td>116.4</td>\n",
       "      <td>-5.222222</td>\n",
       "      <td>9.222222</td>\n",
       "      <td>66.944444</td>\n",
       "      <td>0.333333</td>\n",
       "      <td>1.666667</td>\n",
       "      <td>3.611111</td>\n",
       "      <td>0.555556</td>\n",
       "    </tr>\n",
       "  </tbody>\n",
       "</table>\n",
       "<p>3970 rows × 18 columns</p>\n",
       "</div>"
      ],
      "text/plain": [
       "              ds      YM    MD Product             y  KRW_USD_EXR  \\\n",
       "0     2005-01-03  200501   103     고구마   4291.111111      1013.00   \n",
       "1     2005-01-04  200501   104     고구마   4374.444444      1013.00   \n",
       "2     2005-01-05  200501   105     고구마   4603.720930      1013.00   \n",
       "3     2005-01-06  200501   106     고구마   4640.930233      1013.00   \n",
       "4     2005-01-07  200501   107     고구마   4515.454545      1013.00   \n",
       "...          ...     ...   ...     ...           ...          ...   \n",
       "3965  2020-12-24  202012  1224     고구마  10258.695652      1180.05   \n",
       "3966  2020-12-28  202012  1228     고구마  10431.323529      1180.05   \n",
       "3967  2020-12-29  202012  1229     고구마  10431.323529      1180.05   \n",
       "3968  2020-12-30  202012  1230     고구마  10460.735294      1180.05   \n",
       "3969  2020-12-31  202012  1231     고구마  10700.294118      1180.05   \n",
       "\n",
       "      Annual_Call_Rate  item_PPI  item_CPI  Food_Price_Index  \\\n",
       "0                 3.33     53.12    41.811              65.4   \n",
       "1                 3.33     53.12    41.811              65.4   \n",
       "2                 3.33     53.12    41.811              65.4   \n",
       "3                 3.33     53.12    41.811              65.4   \n",
       "4                 3.33     53.12    41.811              65.4   \n",
       "...                ...       ...       ...               ...   \n",
       "3965              0.70    137.90    96.130             108.6   \n",
       "3966              0.70    137.90    96.130             108.6   \n",
       "3967              0.70    137.90    96.130             108.6   \n",
       "3968              0.70    137.90    96.130             108.6   \n",
       "3969              0.70    137.90    96.130             108.6   \n",
       "\n",
       "      Cereals_Price_Index  DayAvg_Temperature  DayDiff_Temperature  \\\n",
       "0                    60.5            4.000000             7.000000   \n",
       "1                    60.5           -3.000000             5.000000   \n",
       "2                    60.5           -5.000000            13.000000   \n",
       "3                    60.5            0.000000             8.000000   \n",
       "4                    60.5           -2.000000             9.000000   \n",
       "...                   ...                 ...                  ...   \n",
       "3965                116.4            3.529412             8.588235   \n",
       "3966                116.4            3.941176            11.941176   \n",
       "3967                116.4            1.590909             9.227273   \n",
       "3968                116.4           -5.500000             6.250000   \n",
       "3969                116.4           -5.222222             9.222222   \n",
       "\n",
       "      DayAvg_RelativeHumidity  DaySum_Rainfall  DayAvg_WindSpeed  \\\n",
       "0                    0.000000         1.000000          4.000000   \n",
       "1                    0.000000         0.000000          4.000000   \n",
       "2                    0.000000         0.000000          0.000000   \n",
       "3                    0.000000         0.000000          1.000000   \n",
       "4                    0.000000         0.000000          4.000000   \n",
       "...                       ...              ...               ...   \n",
       "3965                59.117647         0.000000          1.705882   \n",
       "3966                80.352941         0.058824          0.411765   \n",
       "3967                77.227273         1.272727          1.863636   \n",
       "3968                65.375000         0.291667          3.958333   \n",
       "3969                66.944444         0.333333          1.666667   \n",
       "\n",
       "      DaySum_Sunshine  Warning_Count  \n",
       "0            0.000000       0.000000  \n",
       "1            0.000000       0.000000  \n",
       "2            0.000000       0.000000  \n",
       "3            0.000000       0.000000  \n",
       "4            0.000000       0.000000  \n",
       "...               ...            ...  \n",
       "3965         3.529412       0.000000  \n",
       "3966         3.117647       0.000000  \n",
       "3967         0.636364       0.772727  \n",
       "3968         2.666667       0.833333  \n",
       "3969         3.611111       0.555556  \n",
       "\n",
       "[3970 rows x 18 columns]"
      ]
     },
     "execution_count": 4,
     "metadata": {},
     "output_type": "execute_result"
    }
   ],
   "source": [
    "df = df[df['Product'] == '고구마']\n",
    "df.rename(columns = {'YMD' : 'ds', 'Price' : 'y'}, inplace=True)\n",
    "df = df.reset_index()\n",
    "df = df.drop(columns='index')\n",
    "df"
   ]
  },
  {
   "cell_type": "code",
   "execution_count": 5,
   "metadata": {},
   "outputs": [
    {
     "data": {
      "text/html": [
       "<div>\n",
       "<style scoped>\n",
       "    .dataframe tbody tr th:only-of-type {\n",
       "        vertical-align: middle;\n",
       "    }\n",
       "\n",
       "    .dataframe tbody tr th {\n",
       "        vertical-align: top;\n",
       "    }\n",
       "\n",
       "    .dataframe thead th {\n",
       "        text-align: right;\n",
       "    }\n",
       "</style>\n",
       "<table border=\"1\" class=\"dataframe\">\n",
       "  <thead>\n",
       "    <tr style=\"text-align: right;\">\n",
       "      <th></th>\n",
       "      <th>ds</th>\n",
       "    </tr>\n",
       "  </thead>\n",
       "  <tbody>\n",
       "    <tr>\n",
       "      <th>0</th>\n",
       "      <td>2005-01-01</td>\n",
       "    </tr>\n",
       "    <tr>\n",
       "      <th>1</th>\n",
       "      <td>2005-01-02</td>\n",
       "    </tr>\n",
       "    <tr>\n",
       "      <th>2</th>\n",
       "      <td>2005-01-03</td>\n",
       "    </tr>\n",
       "    <tr>\n",
       "      <th>3</th>\n",
       "      <td>2005-01-04</td>\n",
       "    </tr>\n",
       "    <tr>\n",
       "      <th>4</th>\n",
       "      <td>2005-01-05</td>\n",
       "    </tr>\n",
       "    <tr>\n",
       "      <th>...</th>\n",
       "      <td>...</td>\n",
       "    </tr>\n",
       "    <tr>\n",
       "      <th>5839</th>\n",
       "      <td>2020-12-27</td>\n",
       "    </tr>\n",
       "    <tr>\n",
       "      <th>5840</th>\n",
       "      <td>2020-12-28</td>\n",
       "    </tr>\n",
       "    <tr>\n",
       "      <th>5841</th>\n",
       "      <td>2020-12-29</td>\n",
       "    </tr>\n",
       "    <tr>\n",
       "      <th>5842</th>\n",
       "      <td>2020-12-30</td>\n",
       "    </tr>\n",
       "    <tr>\n",
       "      <th>5843</th>\n",
       "      <td>2020-12-31</td>\n",
       "    </tr>\n",
       "  </tbody>\n",
       "</table>\n",
       "<p>5844 rows × 1 columns</p>\n",
       "</div>"
      ],
      "text/plain": [
       "             ds\n",
       "0    2005-01-01\n",
       "1    2005-01-02\n",
       "2    2005-01-03\n",
       "3    2005-01-04\n",
       "4    2005-01-05\n",
       "...         ...\n",
       "5839 2020-12-27\n",
       "5840 2020-12-28\n",
       "5841 2020-12-29\n",
       "5842 2020-12-30\n",
       "5843 2020-12-31\n",
       "\n",
       "[5844 rows x 1 columns]"
      ]
     },
     "execution_count": 5,
     "metadata": {},
     "output_type": "execute_result"
    }
   ],
   "source": [
    "start_date = pd.to_datetime('2005-01-01') ## 시작 날짜\n",
    "end_date = pd.to_datetime('2020-12-31') ## 마지막 날짜\n",
    " \n",
    "dates = pd.date_range(start_date,end_date,freq='D') ## 일단위로 생성\n",
    "dates = pd.DataFrame(dates)\n",
    "dates = dates.rename(columns={0 : 'ds'})\n",
    "dates"
   ]
  },
  {
   "cell_type": "code",
   "execution_count": 6,
   "metadata": {},
   "outputs": [],
   "source": [
    "df['ds'] = pd.to_datetime(df['ds'])"
   ]
  },
  {
   "cell_type": "code",
   "execution_count": 7,
   "metadata": {},
   "outputs": [],
   "source": [
    "def _fig_plot(df, X, Y):\n",
    "  ''' Function plots the data. requires to provide dataframe in the\n",
    "  format of date as ds, observation as y, Preset other variables e.g., axis name\n",
    "  '''\n",
    "  df.plot(x = X, y = Y, figsize=Figsize, label = Label)\n",
    "  plt.xlabel(xAxisLabel, fontsize = 16) # matplotlib.pyplot\n",
    "  plt.ylabel(yAxisLabel, fontsize = 16)\n",
    "  plt.legend()\n",
    "  plt.title(Title, fontsize = 20)\n",
    "  ax = plt.gca().get_xaxis()"
   ]
  },
  {
   "cell_type": "code",
   "execution_count": 8,
   "metadata": {},
   "outputs": [
    {
     "data": {
      "image/png": "[encoded data removed]",
      "text/plain": [
       "<Figure size 1200x600 with 1 Axes>"
      ]
     },
     "metadata": {},
     "output_type": "display_data"
    }
   ],
   "source": [
    "X = 'ds'\n",
    "Y = 'y'\n",
    "Label = \"total visit\"\n",
    "Figsize = (12,6)\n",
    "Title = \"Daily Sweet potato Price\"\n",
    "xAxisLabel = 'Time (Day)'\n",
    "yAxisLabel = 'Price'\n",
    "_fig_plot(df, X, Y)"
   ]
  },
  {
   "cell_type": "code",
   "execution_count": 9,
   "metadata": {},
   "outputs": [
    {
     "data": {
      "image/png": "[encoded data removed]",
      "text/plain": [
       "<Figure size 640x480 with 1 Axes>"
      ]
     },
     "metadata": {},
     "output_type": "display_data"
    }
   ],
   "source": [
    "plt.hist(df.y)\n",
    "plt.show()"
   ]
  },
  {
   "cell_type": "code",
   "execution_count": 10,
   "metadata": {},
   "outputs": [
    {
     "data": {
      "image/png": "[encoded data removed]",
      "text/plain": [
       "<Figure size 640x480 with 1 Axes>"
      ]
     },
     "metadata": {},
     "output_type": "display_data"
    }
   ],
   "source": [
    "plt.boxplot(df.y)\n",
    "plt.show()"
   ]
  },
  {
   "cell_type": "code",
   "execution_count": 11,
   "metadata": {},
   "outputs": [],
   "source": [
    "df_raw = df.copy()\n",
    "df['y'] = np.log(df['y'])"
   ]
  },
  {
   "cell_type": "code",
   "execution_count": 12,
   "metadata": {},
   "outputs": [
    {
     "data": {
      "image/png": "[encoded data removed]",
      "text/plain": [
       "<Figure size 640x480 with 1 Axes>"
      ]
     },
     "metadata": {},
     "output_type": "display_data"
    }
   ],
   "source": [
    "plt.boxplot(df.y.values)\n",
    "plt.show()"
   ]
  },
  {
   "cell_type": "code",
   "execution_count": 13,
   "metadata": {},
   "outputs": [
    {
     "data": {
      "image/png": "[encoded data removed]",
      "text/plain": [
       "<Figure size 640x480 with 1 Axes>"
      ]
     },
     "metadata": {},
     "output_type": "display_data"
    }
   ],
   "source": [
    "plt.hist(df.y)\n",
    "plt.show()"
   ]
  },
  {
   "cell_type": "code",
   "execution_count": 14,
   "metadata": {},
   "outputs": [
    {
     "name": "stdout",
     "output_type": "stream",
     "text": [
      "8.27863199660938 9.65700116543277\n"
     ]
    }
   ],
   "source": [
    "Q1=df.y.quantile(0.25)\n",
    "Q3=df.y.quantile(0.75)\n",
    "IQR = Q3-Q1\n",
    "LT=Q1-1.5*IQR\n",
    "HT= Q3+1.5*IQR\n",
    "print(LT, HT)\n",
    "df['outlier']=np.where(((df['y']<LT)|(df['y']>HT)),'yes','no')"
   ]
  },
  {
   "cell_type": "code",
   "execution_count": 15,
   "metadata": {},
   "outputs": [
    {
     "data": {
      "text/plain": [
       "no     3938\n",
       "yes      32\n",
       "Name: outlier, dtype: int64"
      ]
     },
     "execution_count": 15,
     "metadata": {},
     "output_type": "execute_result"
    }
   ],
   "source": [
    "df['outlier'].value_counts()"
   ]
  },
  {
   "cell_type": "code",
   "execution_count": 16,
   "metadata": {},
   "outputs": [
    {
     "data": {
      "image/png": "[encoded data removed]",
      "text/plain": [
       "<Figure size 640x480 with 1 Axes>"
      ]
     },
     "metadata": {},
     "output_type": "display_data"
    }
   ],
   "source": [
    "plt.boxplot(df[df.outlier=='no'].y)\n",
    "plt.show()"
   ]
  },
  {
   "cell_type": "code",
   "execution_count": 17,
   "metadata": {},
   "outputs": [
    {
     "data": {
      "image/png": "[encoded data removed]",
      "text/plain": [
       "<Figure size 640x480 with 1 Axes>"
      ]
     },
     "metadata": {},
     "output_type": "display_data"
    }
   ],
   "source": [
    "plt.hist(df[df.outlier=='no'].y)\n",
    "plt.show()"
   ]
  },
  {
   "cell_type": "code",
   "execution_count": 18,
   "metadata": {},
   "outputs": [
    {
     "name": "stderr",
     "output_type": "stream",
     "text": [
      "14:34:30 - cmdstanpy - INFO - Chain [1] start processing\n",
      "14:34:31 - cmdstanpy - INFO - Chain [1] done processing\n"
     ]
    },
    {
     "data": {
      "image/png": "[encoded data removed]",
      "text/plain": [
       "<Figure size 1000x600 with 1 Axes>"
      ]
     },
     "metadata": {},
     "output_type": "display_data"
    }
   ],
   "source": [
    "m = Prophet()\n",
    "m.fit(df_raw)\n",
    "future = m.make_future_dataframe(periods=366)\n",
    "forecast = m.predict(future)\n",
    "fig = m.plot(forecast)\n",
    "plt.show()"
   ]
  },
  {
   "cell_type": "code",
   "execution_count": 19,
   "metadata": {},
   "outputs": [],
   "source": [
    "# evaluation_model = cross_validation(m, initial='730 days', period='180 days', horizon = '30 days')\n",
    "# evaluation_metrix = performance_metrics(evaluation_model)\n",
    "# evaluation_metrix.head(5)"
   ]
  },
  {
   "cell_type": "code",
   "execution_count": 20,
   "metadata": {},
   "outputs": [
    {
     "name": "stdout",
     "output_type": "stream",
     "text": [
      "Total Possible Models 150\n"
     ]
    }
   ],
   "source": [
    "from sklearn.model_selection import ParameterGrid\n",
    "params_grid = {\n",
    "              'seasonality_mode':('multiplicative','additive'),\n",
    "               'changepoint_prior_scale':[0.1,0.2,0.3,0.4,0.5],\n",
    "              'holidays_prior_scale':[0.1,0.2,0.3,0.4,0.5],\n",
    "              'n_changepoints' : [100,150,200]\n",
    "               }\n",
    "grid = ParameterGrid(params_grid)\n",
    "cnt = 0\n",
    "for p in grid:\n",
    "    cnt = cnt+1\n",
    "\n",
    "print('Total Possible Models',cnt)"
   ]
  },
  {
   "cell_type": "code",
   "execution_count": 21,
   "metadata": {},
   "outputs": [
    {
     "data": {
      "text/html": [
       "<div>\n",
       "<style scoped>\n",
       "    .dataframe tbody tr th:only-of-type {\n",
       "        vertical-align: middle;\n",
       "    }\n",
       "\n",
       "    .dataframe tbody tr th {\n",
       "        vertical-align: top;\n",
       "    }\n",
       "\n",
       "    .dataframe thead th {\n",
       "        text-align: right;\n",
       "    }\n",
       "</style>\n",
       "<table border=\"1\" class=\"dataframe\">\n",
       "  <thead>\n",
       "    <tr style=\"text-align: right;\">\n",
       "      <th></th>\n",
       "      <th>ds</th>\n",
       "      <th>YM</th>\n",
       "      <th>MD</th>\n",
       "      <th>Product</th>\n",
       "      <th>y</th>\n",
       "      <th>KRW_USD_EXR</th>\n",
       "      <th>Annual_Call_Rate</th>\n",
       "      <th>item_PPI</th>\n",
       "      <th>item_CPI</th>\n",
       "      <th>Food_Price_Index</th>\n",
       "      <th>Cereals_Price_Index</th>\n",
       "      <th>DayAvg_Temperature</th>\n",
       "      <th>DayDiff_Temperature</th>\n",
       "      <th>DayAvg_RelativeHumidity</th>\n",
       "      <th>DaySum_Rainfall</th>\n",
       "      <th>DayAvg_WindSpeed</th>\n",
       "      <th>DaySum_Sunshine</th>\n",
       "      <th>Warning_Count</th>\n",
       "      <th>outlier</th>\n",
       "    </tr>\n",
       "  </thead>\n",
       "  <tbody>\n",
       "    <tr>\n",
       "      <th>3721</th>\n",
       "      <td>2019-12-31</td>\n",
       "      <td>201912</td>\n",
       "      <td>1231</td>\n",
       "      <td>고구마</td>\n",
       "      <td>8.806789</td>\n",
       "      <td>1157.8</td>\n",
       "      <td>1.59</td>\n",
       "      <td>82.97</td>\n",
       "      <td>72.648</td>\n",
       "      <td>101.0</td>\n",
       "      <td>97.4</td>\n",
       "      <td>-3.5</td>\n",
       "      <td>6.444444</td>\n",
       "      <td>53.222222</td>\n",
       "      <td>0.0</td>\n",
       "      <td>2.944444</td>\n",
       "      <td>4.5</td>\n",
       "      <td>0.777778</td>\n",
       "      <td>no</td>\n",
       "    </tr>\n",
       "  </tbody>\n",
       "</table>\n",
       "</div>"
      ],
      "text/plain": [
       "             ds      YM    MD Product         y  KRW_USD_EXR  \\\n",
       "3721 2019-12-31  201912  1231     고구마  8.806789       1157.8   \n",
       "\n",
       "      Annual_Call_Rate  item_PPI  item_CPI  Food_Price_Index  \\\n",
       "3721              1.59     82.97    72.648             101.0   \n",
       "\n",
       "      Cereals_Price_Index  DayAvg_Temperature  DayDiff_Temperature  \\\n",
       "3721                 97.4                -3.5             6.444444   \n",
       "\n",
       "      DayAvg_RelativeHumidity  DaySum_Rainfall  DayAvg_WindSpeed  \\\n",
       "3721                53.222222              0.0          2.944444   \n",
       "\n",
       "      DaySum_Sunshine  Warning_Count outlier  \n",
       "3721              4.5       0.777778      no  "
      ]
     },
     "execution_count": 21,
     "metadata": {},
     "output_type": "execute_result"
    }
   ],
   "source": [
    "df[df['ds'] == '2019-12-31']"
   ]
  },
  {
   "cell_type": "code",
   "execution_count": 22,
   "metadata": {},
   "outputs": [],
   "source": [
    "train = df.iloc[:3722]      \n",
    "test = df.iloc[3722:]"
   ]
  },
  {
   "cell_type": "code",
   "execution_count": 23,
   "metadata": {},
   "outputs": [
    {
     "name": "stdout",
     "output_type": "stream",
     "text": [
      "Training data, last date: 3721   2019-12-31\n",
      "Name: ds, dtype: datetime64[ns] testing data, last date: 3969   2020-12-31\n",
      "Name: ds, dtype: datetime64[ns]\n"
     ]
    }
   ],
   "source": [
    "print('Training data, last date: ' + str(train.tail(1)['ds']) + ' ' + 'testing data, last date: ' + str(test.tail(1)['ds']))"
   ]
  },
  {
   "cell_type": "code",
   "execution_count": 24,
   "metadata": {},
   "outputs": [
    {
     "data": {
      "text/html": [
       "<div>\n",
       "<style scoped>\n",
       "    .dataframe tbody tr th:only-of-type {\n",
       "        vertical-align: middle;\n",
       "    }\n",
       "\n",
       "    .dataframe tbody tr th {\n",
       "        vertical-align: top;\n",
       "    }\n",
       "\n",
       "    .dataframe thead th {\n",
       "        text-align: right;\n",
       "    }\n",
       "</style>\n",
       "<table border=\"1\" class=\"dataframe\">\n",
       "  <thead>\n",
       "    <tr style=\"text-align: right;\">\n",
       "      <th></th>\n",
       "      <th>ds</th>\n",
       "      <th>holiday</th>\n",
       "    </tr>\n",
       "  </thead>\n",
       "  <tbody>\n",
       "    <tr>\n",
       "      <th>0</th>\n",
       "      <td>2010-01-01</td>\n",
       "      <td>New Year's Day</td>\n",
       "    </tr>\n",
       "    <tr>\n",
       "      <th>1</th>\n",
       "      <td>2010-01-02</td>\n",
       "      <td>non-holiday</td>\n",
       "    </tr>\n",
       "    <tr>\n",
       "      <th>2</th>\n",
       "      <td>2010-01-03</td>\n",
       "      <td>non-holiday</td>\n",
       "    </tr>\n",
       "    <tr>\n",
       "      <th>3</th>\n",
       "      <td>2010-01-04</td>\n",
       "      <td>non-holiday</td>\n",
       "    </tr>\n",
       "    <tr>\n",
       "      <th>4</th>\n",
       "      <td>2010-01-05</td>\n",
       "      <td>non-holiday</td>\n",
       "    </tr>\n",
       "  </tbody>\n",
       "</table>\n",
       "</div>"
      ],
      "text/plain": [
       "          ds         holiday\n",
       "0 2010-01-01  New Year's Day\n",
       "1 2010-01-02     non-holiday\n",
       "2 2010-01-03     non-holiday\n",
       "3 2010-01-04     non-holiday\n",
       "4 2010-01-05     non-holiday"
      ]
     },
     "execution_count": 24,
     "metadata": {},
     "output_type": "execute_result"
    }
   ],
   "source": [
    "# 휴일 생성\n",
    "import holidays\n",
    "\n",
    "# 필요한 날짜만큼 생성\n",
    "date_list = pd.date_range('2010-01-01', '2020-12-31')\n",
    "\n",
    "# 한국 휴일 객체 생성\n",
    "kr_holidays = holidays.KR()\n",
    "\n",
    "# generate holiday table\n",
    "holiday = pd.DataFrame(columns=['ds','holiday'])\n",
    "holiday['ds'] = sorted(date_list)\n",
    "holiday['holiday'] = holiday.ds.apply(lambda x: kr_holidays.get(x) if x in kr_holidays else 'non-holiday')\n",
    "holiday.head()"
   ]
  },
  {
   "cell_type": "markdown",
   "metadata": {},
   "source": [
    "# 그리드서치"
   ]
  },
  {
   "cell_type": "code",
   "execution_count": 24,
   "metadata": {
    "scrolled": true
   },
   "outputs": [
    {
     "name": "stdout",
     "output_type": "stream",
     "text": [
      "{'changepoint_prior_scale': 0.1, 'holidays_prior_scale': 0.1, 'n_changepoints': 100, 'seasonality_mode': 'multiplicative'}\n"
     ]
    },
    {
     "name": "stderr",
     "output_type": "stream",
     "text": [
      "08:45:06 - cmdstanpy - INFO - Chain [1] start processing\n",
      "08:45:19 - cmdstanpy - INFO - Chain [1] done processing\n"
     ]
    },
    {
     "name": "stdout",
     "output_type": "stream",
     "text": [
      "Mean Absolute Error: 2258.594\n",
      "{'changepoint_prior_scale': 0.1, 'holidays_prior_scale': 0.1, 'n_changepoints': 100, 'seasonality_mode': 'additive'}\n"
     ]
    },
    {
     "name": "stderr",
     "output_type": "stream",
     "text": [
      "08:45:21 - cmdstanpy - INFO - Chain [1] start processing\n",
      "08:45:35 - cmdstanpy - INFO - Chain [1] done processing\n"
     ]
    },
    {
     "name": "stdout",
     "output_type": "stream",
     "text": [
      "Mean Absolute Error: 2072.115\n",
      "{'changepoint_prior_scale': 0.1, 'holidays_prior_scale': 0.1, 'n_changepoints': 150, 'seasonality_mode': 'multiplicative'}\n"
     ]
    },
    {
     "name": "stderr",
     "output_type": "stream",
     "text": [
      "08:45:37 - cmdstanpy - INFO - Chain [1] start processing\n",
      "08:45:57 - cmdstanpy - INFO - Chain [1] done processing\n"
     ]
    },
    {
     "name": "stdout",
     "output_type": "stream",
     "text": [
      "Mean Absolute Error: 2255.466\n",
      "{'changepoint_prior_scale': 0.1, 'holidays_prior_scale': 0.1, 'n_changepoints': 150, 'seasonality_mode': 'additive'}\n"
     ]
    },
    {
     "name": "stderr",
     "output_type": "stream",
     "text": [
      "08:45:59 - cmdstanpy - INFO - Chain [1] start processing\n",
      "08:46:16 - cmdstanpy - INFO - Chain [1] done processing\n"
     ]
    },
    {
     "name": "stdout",
     "output_type": "stream",
     "text": [
      "Mean Absolute Error: 2071.449\n",
      "{'changepoint_prior_scale': 0.1, 'holidays_prior_scale': 0.1, 'n_changepoints': 200, 'seasonality_mode': 'multiplicative'}\n"
     ]
    },
    {
     "name": "stderr",
     "output_type": "stream",
     "text": [
      "08:46:19 - cmdstanpy - INFO - Chain [1] start processing\n",
      "08:46:54 - cmdstanpy - INFO - Chain [1] done processing\n"
     ]
    },
    {
     "name": "stdout",
     "output_type": "stream",
     "text": [
      "Mean Absolute Error: 2256.593\n",
      "{'changepoint_prior_scale': 0.1, 'holidays_prior_scale': 0.1, 'n_changepoints': 200, 'seasonality_mode': 'additive'}\n"
     ]
    },
    {
     "name": "stderr",
     "output_type": "stream",
     "text": [
      "08:46:56 - cmdstanpy - INFO - Chain [1] start processing\n",
      "08:47:21 - cmdstanpy - INFO - Chain [1] done processing\n"
     ]
    },
    {
     "name": "stdout",
     "output_type": "stream",
     "text": [
      "Mean Absolute Error: 2071.616\n",
      "{'changepoint_prior_scale': 0.1, 'holidays_prior_scale': 0.2, 'n_changepoints': 100, 'seasonality_mode': 'multiplicative'}\n"
     ]
    },
    {
     "name": "stderr",
     "output_type": "stream",
     "text": [
      "08:47:24 - cmdstanpy - INFO - Chain [1] start processing\n",
      "08:47:44 - cmdstanpy - INFO - Chain [1] done processing\n"
     ]
    },
    {
     "name": "stdout",
     "output_type": "stream",
     "text": [
      "Mean Absolute Error: 2238.150\n",
      "{'changepoint_prior_scale': 0.1, 'holidays_prior_scale': 0.2, 'n_changepoints': 100, 'seasonality_mode': 'additive'}\n"
     ]
    },
    {
     "name": "stderr",
     "output_type": "stream",
     "text": [
      "08:47:46 - cmdstanpy - INFO - Chain [1] start processing\n",
      "08:47:58 - cmdstanpy - INFO - Chain [1] done processing\n"
     ]
    },
    {
     "name": "stdout",
     "output_type": "stream",
     "text": [
      "Mean Absolute Error: 2071.717\n",
      "{'changepoint_prior_scale': 0.1, 'holidays_prior_scale': 0.2, 'n_changepoints': 150, 'seasonality_mode': 'multiplicative'}\n"
     ]
    },
    {
     "name": "stderr",
     "output_type": "stream",
     "text": [
      "08:48:00 - cmdstanpy - INFO - Chain [1] start processing\n",
      "08:48:28 - cmdstanpy - INFO - Chain [1] done processing\n"
     ]
    },
    {
     "name": "stdout",
     "output_type": "stream",
     "text": [
      "Mean Absolute Error: 2230.221\n",
      "{'changepoint_prior_scale': 0.1, 'holidays_prior_scale': 0.2, 'n_changepoints': 150, 'seasonality_mode': 'additive'}\n"
     ]
    },
    {
     "name": "stderr",
     "output_type": "stream",
     "text": [
      "08:48:30 - cmdstanpy - INFO - Chain [1] start processing\n",
      "08:48:47 - cmdstanpy - INFO - Chain [1] done processing\n"
     ]
    },
    {
     "name": "stdout",
     "output_type": "stream",
     "text": [
      "Mean Absolute Error: 2071.158\n",
      "{'changepoint_prior_scale': 0.1, 'holidays_prior_scale': 0.2, 'n_changepoints': 200, 'seasonality_mode': 'multiplicative'}\n"
     ]
    },
    {
     "name": "stderr",
     "output_type": "stream",
     "text": [
      "08:48:49 - cmdstanpy - INFO - Chain [1] start processing\n",
      "08:49:25 - cmdstanpy - INFO - Chain [1] done processing\n"
     ]
    },
    {
     "name": "stdout",
     "output_type": "stream",
     "text": [
      "Mean Absolute Error: 2248.975\n",
      "{'changepoint_prior_scale': 0.1, 'holidays_prior_scale': 0.2, 'n_changepoints': 200, 'seasonality_mode': 'additive'}\n"
     ]
    },
    {
     "name": "stderr",
     "output_type": "stream",
     "text": [
      "08:49:27 - cmdstanpy - INFO - Chain [1] start processing\n",
      "08:49:48 - cmdstanpy - INFO - Chain [1] done processing\n"
     ]
    },
    {
     "name": "stdout",
     "output_type": "stream",
     "text": [
      "Mean Absolute Error: 2071.707\n",
      "{'changepoint_prior_scale': 0.1, 'holidays_prior_scale': 0.3, 'n_changepoints': 100, 'seasonality_mode': 'multiplicative'}\n"
     ]
    },
    {
     "name": "stderr",
     "output_type": "stream",
     "text": [
      "08:49:50 - cmdstanpy - INFO - Chain [1] start processing\n",
      "08:50:11 - cmdstanpy - INFO - Chain [1] done processing\n"
     ]
    },
    {
     "name": "stdout",
     "output_type": "stream",
     "text": [
      "Mean Absolute Error: 2251.483\n",
      "{'changepoint_prior_scale': 0.1, 'holidays_prior_scale': 0.3, 'n_changepoints': 100, 'seasonality_mode': 'additive'}\n"
     ]
    },
    {
     "name": "stderr",
     "output_type": "stream",
     "text": [
      "08:50:13 - cmdstanpy - INFO - Chain [1] start processing\n",
      "08:50:22 - cmdstanpy - INFO - Chain [1] done processing\n"
     ]
    },
    {
     "name": "stdout",
     "output_type": "stream",
     "text": [
      "Mean Absolute Error: 2071.745\n",
      "{'changepoint_prior_scale': 0.1, 'holidays_prior_scale': 0.3, 'n_changepoints': 150, 'seasonality_mode': 'multiplicative'}\n"
     ]
    },
    {
     "name": "stderr",
     "output_type": "stream",
     "text": [
      "08:50:24 - cmdstanpy - INFO - Chain [1] start processing\n",
      "08:50:51 - cmdstanpy - INFO - Chain [1] done processing\n"
     ]
    },
    {
     "name": "stdout",
     "output_type": "stream",
     "text": [
      "Mean Absolute Error: 2239.782\n",
      "{'changepoint_prior_scale': 0.1, 'holidays_prior_scale': 0.3, 'n_changepoints': 150, 'seasonality_mode': 'additive'}\n"
     ]
    },
    {
     "name": "stderr",
     "output_type": "stream",
     "text": [
      "08:50:54 - cmdstanpy - INFO - Chain [1] start processing\n",
      "08:51:13 - cmdstanpy - INFO - Chain [1] done processing\n"
     ]
    },
    {
     "name": "stdout",
     "output_type": "stream",
     "text": [
      "Mean Absolute Error: 2071.520\n",
      "{'changepoint_prior_scale': 0.1, 'holidays_prior_scale': 0.3, 'n_changepoints': 200, 'seasonality_mode': 'multiplicative'}\n"
     ]
    },
    {
     "name": "stderr",
     "output_type": "stream",
     "text": [
      "08:51:15 - cmdstanpy - INFO - Chain [1] start processing\n",
      "08:51:51 - cmdstanpy - INFO - Chain [1] done processing\n"
     ]
    },
    {
     "name": "stdout",
     "output_type": "stream",
     "text": [
      "Mean Absolute Error: 2238.534\n",
      "{'changepoint_prior_scale': 0.1, 'holidays_prior_scale': 0.3, 'n_changepoints': 200, 'seasonality_mode': 'additive'}\n"
     ]
    },
    {
     "name": "stderr",
     "output_type": "stream",
     "text": [
      "08:51:53 - cmdstanpy - INFO - Chain [1] start processing\n",
      "08:52:15 - cmdstanpy - INFO - Chain [1] done processing\n"
     ]
    },
    {
     "name": "stdout",
     "output_type": "stream",
     "text": [
      "Mean Absolute Error: 2071.793\n",
      "{'changepoint_prior_scale': 0.1, 'holidays_prior_scale': 0.4, 'n_changepoints': 100, 'seasonality_mode': 'multiplicative'}\n"
     ]
    },
    {
     "name": "stderr",
     "output_type": "stream",
     "text": [
      "08:52:17 - cmdstanpy - INFO - Chain [1] start processing\n",
      "08:52:38 - cmdstanpy - INFO - Chain [1] done processing\n"
     ]
    },
    {
     "name": "stdout",
     "output_type": "stream",
     "text": [
      "Mean Absolute Error: 2243.460\n",
      "{'changepoint_prior_scale': 0.1, 'holidays_prior_scale': 0.4, 'n_changepoints': 100, 'seasonality_mode': 'additive'}\n"
     ]
    },
    {
     "name": "stderr",
     "output_type": "stream",
     "text": [
      "08:52:40 - cmdstanpy - INFO - Chain [1] start processing\n",
      "08:52:50 - cmdstanpy - INFO - Chain [1] done processing\n"
     ]
    },
    {
     "name": "stdout",
     "output_type": "stream",
     "text": [
      "Mean Absolute Error: 2072.473\n",
      "{'changepoint_prior_scale': 0.1, 'holidays_prior_scale': 0.4, 'n_changepoints': 150, 'seasonality_mode': 'multiplicative'}\n"
     ]
    },
    {
     "name": "stderr",
     "output_type": "stream",
     "text": [
      "08:52:53 - cmdstanpy - INFO - Chain [1] start processing\n",
      "08:53:19 - cmdstanpy - INFO - Chain [1] done processing\n"
     ]
    },
    {
     "name": "stdout",
     "output_type": "stream",
     "text": [
      "Mean Absolute Error: 2237.743\n",
      "{'changepoint_prior_scale': 0.1, 'holidays_prior_scale': 0.4, 'n_changepoints': 150, 'seasonality_mode': 'additive'}\n"
     ]
    },
    {
     "name": "stderr",
     "output_type": "stream",
     "text": [
      "08:53:22 - cmdstanpy - INFO - Chain [1] start processing\n",
      "08:53:40 - cmdstanpy - INFO - Chain [1] done processing\n"
     ]
    },
    {
     "name": "stdout",
     "output_type": "stream",
     "text": [
      "Mean Absolute Error: 2070.860\n",
      "{'changepoint_prior_scale': 0.1, 'holidays_prior_scale': 0.4, 'n_changepoints': 200, 'seasonality_mode': 'multiplicative'}\n"
     ]
    },
    {
     "name": "stderr",
     "output_type": "stream",
     "text": [
      "08:53:42 - cmdstanpy - INFO - Chain [1] start processing\n",
      "08:54:17 - cmdstanpy - INFO - Chain [1] done processing\n"
     ]
    },
    {
     "name": "stdout",
     "output_type": "stream",
     "text": [
      "Mean Absolute Error: 2233.962\n",
      "{'changepoint_prior_scale': 0.1, 'holidays_prior_scale': 0.4, 'n_changepoints': 200, 'seasonality_mode': 'additive'}\n"
     ]
    },
    {
     "name": "stderr",
     "output_type": "stream",
     "text": [
      "08:54:20 - cmdstanpy - INFO - Chain [1] start processing\n",
      "08:54:37 - cmdstanpy - INFO - Chain [1] done processing\n"
     ]
    },
    {
     "name": "stdout",
     "output_type": "stream",
     "text": [
      "Mean Absolute Error: 2072.313\n",
      "{'changepoint_prior_scale': 0.1, 'holidays_prior_scale': 0.5, 'n_changepoints': 100, 'seasonality_mode': 'multiplicative'}\n"
     ]
    },
    {
     "name": "stderr",
     "output_type": "stream",
     "text": [
      "08:54:39 - cmdstanpy - INFO - Chain [1] start processing\n",
      "08:55:00 - cmdstanpy - INFO - Chain [1] done processing\n"
     ]
    },
    {
     "name": "stdout",
     "output_type": "stream",
     "text": [
      "Mean Absolute Error: 2257.234\n",
      "{'changepoint_prior_scale': 0.1, 'holidays_prior_scale': 0.5, 'n_changepoints': 100, 'seasonality_mode': 'additive'}\n"
     ]
    },
    {
     "name": "stderr",
     "output_type": "stream",
     "text": [
      "08:55:02 - cmdstanpy - INFO - Chain [1] start processing\n",
      "08:55:13 - cmdstanpy - INFO - Chain [1] done processing\n"
     ]
    },
    {
     "name": "stdout",
     "output_type": "stream",
     "text": [
      "Mean Absolute Error: 2071.770\n",
      "{'changepoint_prior_scale': 0.1, 'holidays_prior_scale': 0.5, 'n_changepoints': 150, 'seasonality_mode': 'multiplicative'}\n"
     ]
    },
    {
     "name": "stderr",
     "output_type": "stream",
     "text": [
      "08:55:15 - cmdstanpy - INFO - Chain [1] start processing\n",
      "08:55:42 - cmdstanpy - INFO - Chain [1] done processing\n"
     ]
    },
    {
     "name": "stdout",
     "output_type": "stream",
     "text": [
      "Mean Absolute Error: 2237.894\n",
      "{'changepoint_prior_scale': 0.1, 'holidays_prior_scale': 0.5, 'n_changepoints': 150, 'seasonality_mode': 'additive'}\n"
     ]
    },
    {
     "name": "stderr",
     "output_type": "stream",
     "text": [
      "08:55:45 - cmdstanpy - INFO - Chain [1] start processing\n",
      "08:56:01 - cmdstanpy - INFO - Chain [1] done processing\n"
     ]
    },
    {
     "name": "stdout",
     "output_type": "stream",
     "text": [
      "Mean Absolute Error: 2070.952\n",
      "{'changepoint_prior_scale': 0.1, 'holidays_prior_scale': 0.5, 'n_changepoints': 200, 'seasonality_mode': 'multiplicative'}\n"
     ]
    },
    {
     "name": "stderr",
     "output_type": "stream",
     "text": [
      "08:56:04 - cmdstanpy - INFO - Chain [1] start processing\n",
      "08:56:40 - cmdstanpy - INFO - Chain [1] done processing\n"
     ]
    },
    {
     "name": "stdout",
     "output_type": "stream",
     "text": [
      "Mean Absolute Error: 2235.249\n",
      "{'changepoint_prior_scale': 0.1, 'holidays_prior_scale': 0.5, 'n_changepoints': 200, 'seasonality_mode': 'additive'}\n"
     ]
    },
    {
     "name": "stderr",
     "output_type": "stream",
     "text": [
      "08:56:42 - cmdstanpy - INFO - Chain [1] start processing\n",
      "08:57:08 - cmdstanpy - INFO - Chain [1] done processing\n"
     ]
    },
    {
     "name": "stdout",
     "output_type": "stream",
     "text": [
      "Mean Absolute Error: 2071.498\n",
      "{'changepoint_prior_scale': 0.2, 'holidays_prior_scale': 0.1, 'n_changepoints': 100, 'seasonality_mode': 'multiplicative'}\n"
     ]
    },
    {
     "name": "stderr",
     "output_type": "stream",
     "text": [
      "08:57:10 - cmdstanpy - INFO - Chain [1] start processing\n",
      "08:57:30 - cmdstanpy - INFO - Chain [1] done processing\n"
     ]
    },
    {
     "name": "stdout",
     "output_type": "stream",
     "text": [
      "Mean Absolute Error: 2268.594\n",
      "{'changepoint_prior_scale': 0.2, 'holidays_prior_scale': 0.1, 'n_changepoints': 100, 'seasonality_mode': 'additive'}\n"
     ]
    },
    {
     "name": "stderr",
     "output_type": "stream",
     "text": [
      "08:57:33 - cmdstanpy - INFO - Chain [1] start processing\n",
      "08:57:52 - cmdstanpy - INFO - Chain [1] done processing\n"
     ]
    },
    {
     "name": "stdout",
     "output_type": "stream",
     "text": [
      "Mean Absolute Error: 2107.475\n",
      "{'changepoint_prior_scale': 0.2, 'holidays_prior_scale': 0.1, 'n_changepoints': 150, 'seasonality_mode': 'multiplicative'}\n"
     ]
    },
    {
     "name": "stderr",
     "output_type": "stream",
     "text": [
      "08:57:55 - cmdstanpy - INFO - Chain [1] start processing\n",
      "08:58:23 - cmdstanpy - INFO - Chain [1] done processing\n"
     ]
    },
    {
     "name": "stdout",
     "output_type": "stream",
     "text": [
      "Mean Absolute Error: 2244.186\n",
      "{'changepoint_prior_scale': 0.2, 'holidays_prior_scale': 0.1, 'n_changepoints': 150, 'seasonality_mode': 'additive'}\n"
     ]
    },
    {
     "name": "stderr",
     "output_type": "stream",
     "text": [
      "08:58:25 - cmdstanpy - INFO - Chain [1] start processing\n",
      "08:58:51 - cmdstanpy - INFO - Chain [1] done processing\n"
     ]
    },
    {
     "name": "stdout",
     "output_type": "stream",
     "text": [
      "Mean Absolute Error: 2107.559\n",
      "{'changepoint_prior_scale': 0.2, 'holidays_prior_scale': 0.1, 'n_changepoints': 200, 'seasonality_mode': 'multiplicative'}\n"
     ]
    },
    {
     "name": "stderr",
     "output_type": "stream",
     "text": [
      "08:58:53 - cmdstanpy - INFO - Chain [1] start processing\n",
      "08:59:28 - cmdstanpy - INFO - Chain [1] done processing\n"
     ]
    },
    {
     "name": "stdout",
     "output_type": "stream",
     "text": [
      "Mean Absolute Error: 2251.451\n",
      "{'changepoint_prior_scale': 0.2, 'holidays_prior_scale': 0.1, 'n_changepoints': 200, 'seasonality_mode': 'additive'}\n"
     ]
    },
    {
     "name": "stderr",
     "output_type": "stream",
     "text": [
      "08:59:31 - cmdstanpy - INFO - Chain [1] start processing\n",
      "09:00:04 - cmdstanpy - INFO - Chain [1] done processing\n"
     ]
    },
    {
     "name": "stdout",
     "output_type": "stream",
     "text": [
      "Mean Absolute Error: 2110.050\n",
      "{'changepoint_prior_scale': 0.2, 'holidays_prior_scale': 0.2, 'n_changepoints': 100, 'seasonality_mode': 'multiplicative'}\n"
     ]
    },
    {
     "name": "stderr",
     "output_type": "stream",
     "text": [
      "09:00:06 - cmdstanpy - INFO - Chain [1] start processing\n",
      "09:00:27 - cmdstanpy - INFO - Chain [1] done processing\n"
     ]
    },
    {
     "name": "stdout",
     "output_type": "stream",
     "text": [
      "Mean Absolute Error: 2244.374\n",
      "{'changepoint_prior_scale': 0.2, 'holidays_prior_scale': 0.2, 'n_changepoints': 100, 'seasonality_mode': 'additive'}\n"
     ]
    },
    {
     "name": "stderr",
     "output_type": "stream",
     "text": [
      "09:00:29 - cmdstanpy - INFO - Chain [1] start processing\n",
      "09:00:49 - cmdstanpy - INFO - Chain [1] done processing\n"
     ]
    },
    {
     "name": "stdout",
     "output_type": "stream",
     "text": [
      "Mean Absolute Error: 2108.147\n",
      "{'changepoint_prior_scale': 0.2, 'holidays_prior_scale': 0.2, 'n_changepoints': 150, 'seasonality_mode': 'multiplicative'}\n"
     ]
    },
    {
     "name": "stderr",
     "output_type": "stream",
     "text": [
      "09:00:51 - cmdstanpy - INFO - Chain [1] start processing\n",
      "09:01:18 - cmdstanpy - INFO - Chain [1] done processing\n"
     ]
    },
    {
     "name": "stdout",
     "output_type": "stream",
     "text": [
      "Mean Absolute Error: 2237.540\n",
      "{'changepoint_prior_scale': 0.2, 'holidays_prior_scale': 0.2, 'n_changepoints': 150, 'seasonality_mode': 'additive'}\n"
     ]
    },
    {
     "name": "stderr",
     "output_type": "stream",
     "text": [
      "09:01:20 - cmdstanpy - INFO - Chain [1] start processing\n",
      "09:01:46 - cmdstanpy - INFO - Chain [1] done processing\n"
     ]
    },
    {
     "name": "stdout",
     "output_type": "stream",
     "text": [
      "Mean Absolute Error: 2106.706\n",
      "{'changepoint_prior_scale': 0.2, 'holidays_prior_scale': 0.2, 'n_changepoints': 200, 'seasonality_mode': 'multiplicative'}\n"
     ]
    },
    {
     "name": "stderr",
     "output_type": "stream",
     "text": [
      "09:01:48 - cmdstanpy - INFO - Chain [1] start processing\n",
      "09:02:23 - cmdstanpy - INFO - Chain [1] done processing\n"
     ]
    },
    {
     "name": "stdout",
     "output_type": "stream",
     "text": [
      "Mean Absolute Error: 2244.811\n",
      "{'changepoint_prior_scale': 0.2, 'holidays_prior_scale': 0.2, 'n_changepoints': 200, 'seasonality_mode': 'additive'}\n"
     ]
    },
    {
     "name": "stderr",
     "output_type": "stream",
     "text": [
      "09:02:25 - cmdstanpy - INFO - Chain [1] start processing\n",
      "09:02:59 - cmdstanpy - INFO - Chain [1] done processing\n"
     ]
    },
    {
     "name": "stdout",
     "output_type": "stream",
     "text": [
      "Mean Absolute Error: 2113.041\n",
      "{'changepoint_prior_scale': 0.2, 'holidays_prior_scale': 0.3, 'n_changepoints': 100, 'seasonality_mode': 'multiplicative'}\n"
     ]
    },
    {
     "name": "stderr",
     "output_type": "stream",
     "text": [
      "09:03:01 - cmdstanpy - INFO - Chain [1] start processing\n",
      "09:03:22 - cmdstanpy - INFO - Chain [1] done processing\n"
     ]
    },
    {
     "name": "stdout",
     "output_type": "stream",
     "text": [
      "Mean Absolute Error: 2241.739\n",
      "{'changepoint_prior_scale': 0.2, 'holidays_prior_scale': 0.3, 'n_changepoints': 100, 'seasonality_mode': 'additive'}\n"
     ]
    },
    {
     "name": "stderr",
     "output_type": "stream",
     "text": [
      "09:03:24 - cmdstanpy - INFO - Chain [1] start processing\n",
      "09:03:44 - cmdstanpy - INFO - Chain [1] done processing\n"
     ]
    },
    {
     "name": "stdout",
     "output_type": "stream",
     "text": [
      "Mean Absolute Error: 2106.080\n",
      "{'changepoint_prior_scale': 0.2, 'holidays_prior_scale': 0.3, 'n_changepoints': 150, 'seasonality_mode': 'multiplicative'}\n"
     ]
    },
    {
     "name": "stderr",
     "output_type": "stream",
     "text": [
      "09:03:46 - cmdstanpy - INFO - Chain [1] start processing\n",
      "09:04:13 - cmdstanpy - INFO - Chain [1] done processing\n"
     ]
    },
    {
     "name": "stdout",
     "output_type": "stream",
     "text": [
      "Mean Absolute Error: 2232.963\n",
      "{'changepoint_prior_scale': 0.2, 'holidays_prior_scale': 0.3, 'n_changepoints': 150, 'seasonality_mode': 'additive'}\n"
     ]
    },
    {
     "name": "stderr",
     "output_type": "stream",
     "text": [
      "09:04:15 - cmdstanpy - INFO - Chain [1] start processing\n",
      "09:04:41 - cmdstanpy - INFO - Chain [1] done processing\n"
     ]
    },
    {
     "name": "stdout",
     "output_type": "stream",
     "text": [
      "Mean Absolute Error: 2110.967\n",
      "{'changepoint_prior_scale': 0.2, 'holidays_prior_scale': 0.3, 'n_changepoints': 200, 'seasonality_mode': 'multiplicative'}\n"
     ]
    },
    {
     "name": "stderr",
     "output_type": "stream",
     "text": [
      "09:04:43 - cmdstanpy - INFO - Chain [1] start processing\n",
      "09:05:19 - cmdstanpy - INFO - Chain [1] done processing\n"
     ]
    },
    {
     "name": "stdout",
     "output_type": "stream",
     "text": [
      "Mean Absolute Error: 2230.333\n",
      "{'changepoint_prior_scale': 0.2, 'holidays_prior_scale': 0.3, 'n_changepoints': 200, 'seasonality_mode': 'additive'}\n"
     ]
    },
    {
     "name": "stderr",
     "output_type": "stream",
     "text": [
      "09:05:21 - cmdstanpy - INFO - Chain [1] start processing\n",
      "09:05:55 - cmdstanpy - INFO - Chain [1] done processing\n"
     ]
    },
    {
     "name": "stdout",
     "output_type": "stream",
     "text": [
      "Mean Absolute Error: 2110.399\n",
      "{'changepoint_prior_scale': 0.2, 'holidays_prior_scale': 0.4, 'n_changepoints': 100, 'seasonality_mode': 'multiplicative'}\n"
     ]
    },
    {
     "name": "stderr",
     "output_type": "stream",
     "text": [
      "09:05:57 - cmdstanpy - INFO - Chain [1] start processing\n",
      "09:06:17 - cmdstanpy - INFO - Chain [1] done processing\n"
     ]
    },
    {
     "name": "stdout",
     "output_type": "stream",
     "text": [
      "Mean Absolute Error: 2236.688\n",
      "{'changepoint_prior_scale': 0.2, 'holidays_prior_scale': 0.4, 'n_changepoints': 100, 'seasonality_mode': 'additive'}\n"
     ]
    },
    {
     "name": "stderr",
     "output_type": "stream",
     "text": [
      "09:06:19 - cmdstanpy - INFO - Chain [1] start processing\n",
      "09:06:39 - cmdstanpy - INFO - Chain [1] done processing\n"
     ]
    },
    {
     "name": "stdout",
     "output_type": "stream",
     "text": [
      "Mean Absolute Error: 2113.935\n",
      "{'changepoint_prior_scale': 0.2, 'holidays_prior_scale': 0.4, 'n_changepoints': 150, 'seasonality_mode': 'multiplicative'}\n"
     ]
    },
    {
     "name": "stderr",
     "output_type": "stream",
     "text": [
      "09:06:41 - cmdstanpy - INFO - Chain [1] start processing\n",
      "09:07:09 - cmdstanpy - INFO - Chain [1] done processing\n"
     ]
    },
    {
     "name": "stdout",
     "output_type": "stream",
     "text": [
      "Mean Absolute Error: 2236.596\n",
      "{'changepoint_prior_scale': 0.2, 'holidays_prior_scale': 0.4, 'n_changepoints': 150, 'seasonality_mode': 'additive'}\n"
     ]
    },
    {
     "name": "stderr",
     "output_type": "stream",
     "text": [
      "09:07:11 - cmdstanpy - INFO - Chain [1] start processing\n",
      "09:07:37 - cmdstanpy - INFO - Chain [1] done processing\n"
     ]
    },
    {
     "name": "stdout",
     "output_type": "stream",
     "text": [
      "Mean Absolute Error: 2110.535\n",
      "{'changepoint_prior_scale': 0.2, 'holidays_prior_scale': 0.4, 'n_changepoints': 200, 'seasonality_mode': 'multiplicative'}\n"
     ]
    },
    {
     "name": "stderr",
     "output_type": "stream",
     "text": [
      "09:07:39 - cmdstanpy - INFO - Chain [1] start processing\n",
      "09:08:15 - cmdstanpy - INFO - Chain [1] done processing\n"
     ]
    },
    {
     "name": "stdout",
     "output_type": "stream",
     "text": [
      "Mean Absolute Error: 2219.476\n",
      "{'changepoint_prior_scale': 0.2, 'holidays_prior_scale': 0.4, 'n_changepoints': 200, 'seasonality_mode': 'additive'}\n"
     ]
    },
    {
     "name": "stderr",
     "output_type": "stream",
     "text": [
      "09:08:17 - cmdstanpy - INFO - Chain [1] start processing\n",
      "09:08:50 - cmdstanpy - INFO - Chain [1] done processing\n"
     ]
    },
    {
     "name": "stdout",
     "output_type": "stream",
     "text": [
      "Mean Absolute Error: 2109.156\n",
      "{'changepoint_prior_scale': 0.2, 'holidays_prior_scale': 0.5, 'n_changepoints': 100, 'seasonality_mode': 'multiplicative'}\n"
     ]
    },
    {
     "name": "stderr",
     "output_type": "stream",
     "text": [
      "09:08:52 - cmdstanpy - INFO - Chain [1] start processing\n",
      "09:09:12 - cmdstanpy - INFO - Chain [1] done processing\n"
     ]
    },
    {
     "name": "stdout",
     "output_type": "stream",
     "text": [
      "Mean Absolute Error: 2236.445\n",
      "{'changepoint_prior_scale': 0.2, 'holidays_prior_scale': 0.5, 'n_changepoints': 100, 'seasonality_mode': 'additive'}\n"
     ]
    },
    {
     "name": "stderr",
     "output_type": "stream",
     "text": [
      "09:09:14 - cmdstanpy - INFO - Chain [1] start processing\n",
      "09:09:33 - cmdstanpy - INFO - Chain [1] done processing\n"
     ]
    },
    {
     "name": "stdout",
     "output_type": "stream",
     "text": [
      "Mean Absolute Error: 2108.259\n",
      "{'changepoint_prior_scale': 0.2, 'holidays_prior_scale': 0.5, 'n_changepoints': 150, 'seasonality_mode': 'multiplicative'}\n"
     ]
    },
    {
     "name": "stderr",
     "output_type": "stream",
     "text": [
      "09:09:35 - cmdstanpy - INFO - Chain [1] start processing\n",
      "09:10:03 - cmdstanpy - INFO - Chain [1] done processing\n"
     ]
    },
    {
     "name": "stdout",
     "output_type": "stream",
     "text": [
      "Mean Absolute Error: 2230.806\n",
      "{'changepoint_prior_scale': 0.2, 'holidays_prior_scale': 0.5, 'n_changepoints': 150, 'seasonality_mode': 'additive'}\n"
     ]
    },
    {
     "name": "stderr",
     "output_type": "stream",
     "text": [
      "09:10:05 - cmdstanpy - INFO - Chain [1] start processing\n",
      "09:10:31 - cmdstanpy - INFO - Chain [1] done processing\n"
     ]
    },
    {
     "name": "stdout",
     "output_type": "stream",
     "text": [
      "Mean Absolute Error: 2111.036\n",
      "{'changepoint_prior_scale': 0.2, 'holidays_prior_scale': 0.5, 'n_changepoints': 200, 'seasonality_mode': 'multiplicative'}\n"
     ]
    },
    {
     "name": "stderr",
     "output_type": "stream",
     "text": [
      "09:10:33 - cmdstanpy - INFO - Chain [1] start processing\n",
      "09:11:09 - cmdstanpy - INFO - Chain [1] done processing\n"
     ]
    },
    {
     "name": "stdout",
     "output_type": "stream",
     "text": [
      "Mean Absolute Error: 2239.869\n",
      "{'changepoint_prior_scale': 0.2, 'holidays_prior_scale': 0.5, 'n_changepoints': 200, 'seasonality_mode': 'additive'}\n"
     ]
    },
    {
     "name": "stderr",
     "output_type": "stream",
     "text": [
      "09:11:11 - cmdstanpy - INFO - Chain [1] start processing\n",
      "09:11:45 - cmdstanpy - INFO - Chain [1] done processing\n"
     ]
    },
    {
     "name": "stdout",
     "output_type": "stream",
     "text": [
      "Mean Absolute Error: 2113.892\n",
      "{'changepoint_prior_scale': 0.3, 'holidays_prior_scale': 0.1, 'n_changepoints': 100, 'seasonality_mode': 'multiplicative'}\n"
     ]
    },
    {
     "name": "stderr",
     "output_type": "stream",
     "text": [
      "09:11:48 - cmdstanpy - INFO - Chain [1] start processing\n",
      "09:12:08 - cmdstanpy - INFO - Chain [1] done processing\n"
     ]
    },
    {
     "name": "stdout",
     "output_type": "stream",
     "text": [
      "Mean Absolute Error: 2249.491\n",
      "{'changepoint_prior_scale': 0.3, 'holidays_prior_scale': 0.1, 'n_changepoints': 100, 'seasonality_mode': 'additive'}\n"
     ]
    },
    {
     "name": "stderr",
     "output_type": "stream",
     "text": [
      "09:12:10 - cmdstanpy - INFO - Chain [1] start processing\n",
      "09:12:29 - cmdstanpy - INFO - Chain [1] done processing\n"
     ]
    },
    {
     "name": "stdout",
     "output_type": "stream",
     "text": [
      "Mean Absolute Error: 2123.476\n",
      "{'changepoint_prior_scale': 0.3, 'holidays_prior_scale': 0.1, 'n_changepoints': 150, 'seasonality_mode': 'multiplicative'}\n"
     ]
    },
    {
     "name": "stderr",
     "output_type": "stream",
     "text": [
      "09:12:32 - cmdstanpy - INFO - Chain [1] start processing\n",
      "09:12:59 - cmdstanpy - INFO - Chain [1] done processing\n"
     ]
    },
    {
     "name": "stdout",
     "output_type": "stream",
     "text": [
      "Mean Absolute Error: 2239.521\n",
      "{'changepoint_prior_scale': 0.3, 'holidays_prior_scale': 0.1, 'n_changepoints': 150, 'seasonality_mode': 'additive'}\n"
     ]
    },
    {
     "name": "stderr",
     "output_type": "stream",
     "text": [
      "09:13:01 - cmdstanpy - INFO - Chain [1] start processing\n",
      "09:13:27 - cmdstanpy - INFO - Chain [1] done processing\n"
     ]
    },
    {
     "name": "stdout",
     "output_type": "stream",
     "text": [
      "Mean Absolute Error: 2138.052\n",
      "{'changepoint_prior_scale': 0.3, 'holidays_prior_scale': 0.1, 'n_changepoints': 200, 'seasonality_mode': 'multiplicative'}\n"
     ]
    },
    {
     "name": "stderr",
     "output_type": "stream",
     "text": [
      "09:13:29 - cmdstanpy - INFO - Chain [1] start processing\n",
      "09:14:05 - cmdstanpy - INFO - Chain [1] done processing\n"
     ]
    },
    {
     "name": "stdout",
     "output_type": "stream",
     "text": [
      "Mean Absolute Error: 2247.256\n",
      "{'changepoint_prior_scale': 0.3, 'holidays_prior_scale': 0.1, 'n_changepoints': 200, 'seasonality_mode': 'additive'}\n"
     ]
    },
    {
     "name": "stderr",
     "output_type": "stream",
     "text": [
      "09:14:07 - cmdstanpy - INFO - Chain [1] start processing\n",
      "09:14:41 - cmdstanpy - INFO - Chain [1] done processing\n"
     ]
    },
    {
     "name": "stdout",
     "output_type": "stream",
     "text": [
      "Mean Absolute Error: 2137.408\n",
      "{'changepoint_prior_scale': 0.3, 'holidays_prior_scale': 0.2, 'n_changepoints': 100, 'seasonality_mode': 'multiplicative'}\n"
     ]
    },
    {
     "name": "stderr",
     "output_type": "stream",
     "text": [
      "09:14:43 - cmdstanpy - INFO - Chain [1] start processing\n",
      "09:15:03 - cmdstanpy - INFO - Chain [1] done processing\n"
     ]
    },
    {
     "name": "stdout",
     "output_type": "stream",
     "text": [
      "Mean Absolute Error: 2211.609\n",
      "{'changepoint_prior_scale': 0.3, 'holidays_prior_scale': 0.2, 'n_changepoints': 100, 'seasonality_mode': 'additive'}\n"
     ]
    },
    {
     "name": "stderr",
     "output_type": "stream",
     "text": [
      "09:15:06 - cmdstanpy - INFO - Chain [1] start processing\n",
      "09:15:25 - cmdstanpy - INFO - Chain [1] done processing\n"
     ]
    },
    {
     "name": "stdout",
     "output_type": "stream",
     "text": [
      "Mean Absolute Error: 2120.183\n",
      "{'changepoint_prior_scale': 0.3, 'holidays_prior_scale': 0.2, 'n_changepoints': 150, 'seasonality_mode': 'multiplicative'}\n"
     ]
    },
    {
     "name": "stderr",
     "output_type": "stream",
     "text": [
      "09:15:27 - cmdstanpy - INFO - Chain [1] start processing\n",
      "09:15:55 - cmdstanpy - INFO - Chain [1] done processing\n"
     ]
    },
    {
     "name": "stdout",
     "output_type": "stream",
     "text": [
      "Mean Absolute Error: 2245.277\n",
      "{'changepoint_prior_scale': 0.3, 'holidays_prior_scale': 0.2, 'n_changepoints': 150, 'seasonality_mode': 'additive'}\n"
     ]
    },
    {
     "name": "stderr",
     "output_type": "stream",
     "text": [
      "09:15:57 - cmdstanpy - INFO - Chain [1] start processing\n",
      "09:16:23 - cmdstanpy - INFO - Chain [1] done processing\n"
     ]
    },
    {
     "name": "stdout",
     "output_type": "stream",
     "text": [
      "Mean Absolute Error: 2128.280\n",
      "{'changepoint_prior_scale': 0.3, 'holidays_prior_scale': 0.2, 'n_changepoints': 200, 'seasonality_mode': 'multiplicative'}\n"
     ]
    },
    {
     "name": "stderr",
     "output_type": "stream",
     "text": [
      "09:16:25 - cmdstanpy - INFO - Chain [1] start processing\n",
      "09:17:01 - cmdstanpy - INFO - Chain [1] done processing\n"
     ]
    },
    {
     "name": "stdout",
     "output_type": "stream",
     "text": [
      "Mean Absolute Error: 2241.255\n",
      "{'changepoint_prior_scale': 0.3, 'holidays_prior_scale': 0.2, 'n_changepoints': 200, 'seasonality_mode': 'additive'}\n"
     ]
    },
    {
     "name": "stderr",
     "output_type": "stream",
     "text": [
      "09:17:03 - cmdstanpy - INFO - Chain [1] start processing\n",
      "09:17:36 - cmdstanpy - INFO - Chain [1] done processing\n"
     ]
    },
    {
     "name": "stdout",
     "output_type": "stream",
     "text": [
      "Mean Absolute Error: 2136.802\n",
      "{'changepoint_prior_scale': 0.3, 'holidays_prior_scale': 0.3, 'n_changepoints': 100, 'seasonality_mode': 'multiplicative'}\n"
     ]
    },
    {
     "name": "stderr",
     "output_type": "stream",
     "text": [
      "09:17:39 - cmdstanpy - INFO - Chain [1] start processing\n",
      "09:17:59 - cmdstanpy - INFO - Chain [1] done processing\n"
     ]
    },
    {
     "name": "stdout",
     "output_type": "stream",
     "text": [
      "Mean Absolute Error: 2237.139\n",
      "{'changepoint_prior_scale': 0.3, 'holidays_prior_scale': 0.3, 'n_changepoints': 100, 'seasonality_mode': 'additive'}\n"
     ]
    },
    {
     "name": "stderr",
     "output_type": "stream",
     "text": [
      "09:18:01 - cmdstanpy - INFO - Chain [1] start processing\n",
      "09:18:21 - cmdstanpy - INFO - Chain [1] done processing\n"
     ]
    },
    {
     "name": "stdout",
     "output_type": "stream",
     "text": [
      "Mean Absolute Error: 2129.132\n",
      "{'changepoint_prior_scale': 0.3, 'holidays_prior_scale': 0.3, 'n_changepoints': 150, 'seasonality_mode': 'multiplicative'}\n"
     ]
    },
    {
     "name": "stderr",
     "output_type": "stream",
     "text": [
      "09:18:23 - cmdstanpy - INFO - Chain [1] start processing\n",
      "09:18:50 - cmdstanpy - INFO - Chain [1] done processing\n"
     ]
    },
    {
     "name": "stdout",
     "output_type": "stream",
     "text": [
      "Mean Absolute Error: 2232.908\n",
      "{'changepoint_prior_scale': 0.3, 'holidays_prior_scale': 0.3, 'n_changepoints': 150, 'seasonality_mode': 'additive'}\n"
     ]
    },
    {
     "name": "stderr",
     "output_type": "stream",
     "text": [
      "09:18:52 - cmdstanpy - INFO - Chain [1] start processing\n",
      "09:19:18 - cmdstanpy - INFO - Chain [1] done processing\n"
     ]
    },
    {
     "name": "stdout",
     "output_type": "stream",
     "text": [
      "Mean Absolute Error: 2134.288\n",
      "{'changepoint_prior_scale': 0.3, 'holidays_prior_scale': 0.3, 'n_changepoints': 200, 'seasonality_mode': 'multiplicative'}\n"
     ]
    },
    {
     "name": "stderr",
     "output_type": "stream",
     "text": [
      "09:19:20 - cmdstanpy - INFO - Chain [1] start processing\n",
      "09:19:51 - cmdstanpy - INFO - Chain [1] done processing\n"
     ]
    },
    {
     "name": "stdout",
     "output_type": "stream",
     "text": [
      "Mean Absolute Error: 2238.809\n",
      "{'changepoint_prior_scale': 0.3, 'holidays_prior_scale': 0.3, 'n_changepoints': 200, 'seasonality_mode': 'additive'}\n"
     ]
    },
    {
     "name": "stderr",
     "output_type": "stream",
     "text": [
      "09:19:54 - cmdstanpy - INFO - Chain [1] start processing\n",
      "09:20:27 - cmdstanpy - INFO - Chain [1] done processing\n"
     ]
    },
    {
     "name": "stdout",
     "output_type": "stream",
     "text": [
      "Mean Absolute Error: 2132.268\n",
      "{'changepoint_prior_scale': 0.3, 'holidays_prior_scale': 0.4, 'n_changepoints': 100, 'seasonality_mode': 'multiplicative'}\n"
     ]
    },
    {
     "name": "stderr",
     "output_type": "stream",
     "text": [
      "09:20:30 - cmdstanpy - INFO - Chain [1] start processing\n",
      "09:20:50 - cmdstanpy - INFO - Chain [1] done processing\n"
     ]
    },
    {
     "name": "stdout",
     "output_type": "stream",
     "text": [
      "Mean Absolute Error: 2245.481\n",
      "{'changepoint_prior_scale': 0.3, 'holidays_prior_scale': 0.4, 'n_changepoints': 100, 'seasonality_mode': 'additive'}\n"
     ]
    },
    {
     "name": "stderr",
     "output_type": "stream",
     "text": [
      "09:20:53 - cmdstanpy - INFO - Chain [1] start processing\n",
      "09:21:12 - cmdstanpy - INFO - Chain [1] done processing\n"
     ]
    },
    {
     "name": "stdout",
     "output_type": "stream",
     "text": [
      "Mean Absolute Error: 2125.063\n",
      "{'changepoint_prior_scale': 0.3, 'holidays_prior_scale': 0.4, 'n_changepoints': 150, 'seasonality_mode': 'multiplicative'}\n"
     ]
    },
    {
     "name": "stderr",
     "output_type": "stream",
     "text": [
      "09:21:14 - cmdstanpy - INFO - Chain [1] start processing\n",
      "09:21:42 - cmdstanpy - INFO - Chain [1] done processing\n"
     ]
    },
    {
     "name": "stdout",
     "output_type": "stream",
     "text": [
      "Mean Absolute Error: 2216.742\n",
      "{'changepoint_prior_scale': 0.3, 'holidays_prior_scale': 0.4, 'n_changepoints': 150, 'seasonality_mode': 'additive'}\n"
     ]
    },
    {
     "name": "stderr",
     "output_type": "stream",
     "text": [
      "09:21:44 - cmdstanpy - INFO - Chain [1] start processing\n",
      "09:22:09 - cmdstanpy - INFO - Chain [1] done processing\n"
     ]
    },
    {
     "name": "stdout",
     "output_type": "stream",
     "text": [
      "Mean Absolute Error: 2122.591\n",
      "{'changepoint_prior_scale': 0.3, 'holidays_prior_scale': 0.4, 'n_changepoints': 200, 'seasonality_mode': 'multiplicative'}\n"
     ]
    },
    {
     "name": "stderr",
     "output_type": "stream",
     "text": [
      "09:22:12 - cmdstanpy - INFO - Chain [1] start processing\n",
      "09:22:47 - cmdstanpy - INFO - Chain [1] done processing\n"
     ]
    },
    {
     "name": "stdout",
     "output_type": "stream",
     "text": [
      "Mean Absolute Error: 2238.929\n",
      "{'changepoint_prior_scale': 0.3, 'holidays_prior_scale': 0.4, 'n_changepoints': 200, 'seasonality_mode': 'additive'}\n"
     ]
    },
    {
     "name": "stderr",
     "output_type": "stream",
     "text": [
      "09:22:49 - cmdstanpy - INFO - Chain [1] start processing\n",
      "09:23:23 - cmdstanpy - INFO - Chain [1] done processing\n"
     ]
    },
    {
     "name": "stdout",
     "output_type": "stream",
     "text": [
      "Mean Absolute Error: 2131.031\n",
      "{'changepoint_prior_scale': 0.3, 'holidays_prior_scale': 0.5, 'n_changepoints': 100, 'seasonality_mode': 'multiplicative'}\n"
     ]
    },
    {
     "name": "stderr",
     "output_type": "stream",
     "text": [
      "09:23:25 - cmdstanpy - INFO - Chain [1] start processing\n",
      "09:23:46 - cmdstanpy - INFO - Chain [1] done processing\n"
     ]
    },
    {
     "name": "stdout",
     "output_type": "stream",
     "text": [
      "Mean Absolute Error: 2237.568\n",
      "{'changepoint_prior_scale': 0.3, 'holidays_prior_scale': 0.5, 'n_changepoints': 100, 'seasonality_mode': 'additive'}\n"
     ]
    },
    {
     "name": "stderr",
     "output_type": "stream",
     "text": [
      "09:23:48 - cmdstanpy - INFO - Chain [1] start processing\n",
      "09:24:07 - cmdstanpy - INFO - Chain [1] done processing\n"
     ]
    },
    {
     "name": "stdout",
     "output_type": "stream",
     "text": [
      "Mean Absolute Error: 2130.542\n",
      "{'changepoint_prior_scale': 0.3, 'holidays_prior_scale': 0.5, 'n_changepoints': 150, 'seasonality_mode': 'multiplicative'}\n"
     ]
    },
    {
     "name": "stderr",
     "output_type": "stream",
     "text": [
      "09:24:09 - cmdstanpy - INFO - Chain [1] start processing\n",
      "09:24:37 - cmdstanpy - INFO - Chain [1] done processing\n"
     ]
    },
    {
     "name": "stdout",
     "output_type": "stream",
     "text": [
      "Mean Absolute Error: 2238.412\n",
      "{'changepoint_prior_scale': 0.3, 'holidays_prior_scale': 0.5, 'n_changepoints': 150, 'seasonality_mode': 'additive'}\n"
     ]
    },
    {
     "name": "stderr",
     "output_type": "stream",
     "text": [
      "09:24:39 - cmdstanpy - INFO - Chain [1] start processing\n",
      "09:25:04 - cmdstanpy - INFO - Chain [1] done processing\n"
     ]
    },
    {
     "name": "stdout",
     "output_type": "stream",
     "text": [
      "Mean Absolute Error: 2130.144\n",
      "{'changepoint_prior_scale': 0.3, 'holidays_prior_scale': 0.5, 'n_changepoints': 200, 'seasonality_mode': 'multiplicative'}\n"
     ]
    },
    {
     "name": "stderr",
     "output_type": "stream",
     "text": [
      "09:25:07 - cmdstanpy - INFO - Chain [1] start processing\n",
      "09:25:43 - cmdstanpy - INFO - Chain [1] done processing\n"
     ]
    },
    {
     "name": "stdout",
     "output_type": "stream",
     "text": [
      "Mean Absolute Error: 2239.277\n",
      "{'changepoint_prior_scale': 0.3, 'holidays_prior_scale': 0.5, 'n_changepoints': 200, 'seasonality_mode': 'additive'}\n"
     ]
    },
    {
     "name": "stderr",
     "output_type": "stream",
     "text": [
      "09:25:45 - cmdstanpy - INFO - Chain [1] start processing\n",
      "09:26:18 - cmdstanpy - INFO - Chain [1] done processing\n"
     ]
    },
    {
     "name": "stdout",
     "output_type": "stream",
     "text": [
      "Mean Absolute Error: 2125.654\n",
      "{'changepoint_prior_scale': 0.4, 'holidays_prior_scale': 0.1, 'n_changepoints': 100, 'seasonality_mode': 'multiplicative'}\n"
     ]
    },
    {
     "name": "stderr",
     "output_type": "stream",
     "text": [
      "09:26:20 - cmdstanpy - INFO - Chain [1] start processing\n",
      "09:26:41 - cmdstanpy - INFO - Chain [1] done processing\n"
     ]
    },
    {
     "name": "stdout",
     "output_type": "stream",
     "text": [
      "Mean Absolute Error: 2240.721\n",
      "{'changepoint_prior_scale': 0.4, 'holidays_prior_scale': 0.1, 'n_changepoints': 100, 'seasonality_mode': 'additive'}\n"
     ]
    },
    {
     "name": "stderr",
     "output_type": "stream",
     "text": [
      "09:26:43 - cmdstanpy - INFO - Chain [1] start processing\n",
      "09:27:02 - cmdstanpy - INFO - Chain [1] done processing\n"
     ]
    },
    {
     "name": "stdout",
     "output_type": "stream",
     "text": [
      "Mean Absolute Error: 2134.322\n",
      "{'changepoint_prior_scale': 0.4, 'holidays_prior_scale': 0.1, 'n_changepoints': 150, 'seasonality_mode': 'multiplicative'}\n"
     ]
    },
    {
     "name": "stderr",
     "output_type": "stream",
     "text": [
      "09:27:04 - cmdstanpy - INFO - Chain [1] start processing\n",
      "09:27:32 - cmdstanpy - INFO - Chain [1] done processing\n"
     ]
    },
    {
     "name": "stdout",
     "output_type": "stream",
     "text": [
      "Mean Absolute Error: 2262.627\n",
      "{'changepoint_prior_scale': 0.4, 'holidays_prior_scale': 0.1, 'n_changepoints': 150, 'seasonality_mode': 'additive'}\n"
     ]
    },
    {
     "name": "stderr",
     "output_type": "stream",
     "text": [
      "09:27:34 - cmdstanpy - INFO - Chain [1] start processing\n",
      "09:27:59 - cmdstanpy - INFO - Chain [1] done processing\n"
     ]
    },
    {
     "name": "stdout",
     "output_type": "stream",
     "text": [
      "Mean Absolute Error: 2147.517\n",
      "{'changepoint_prior_scale': 0.4, 'holidays_prior_scale': 0.1, 'n_changepoints': 200, 'seasonality_mode': 'multiplicative'}\n"
     ]
    },
    {
     "name": "stderr",
     "output_type": "stream",
     "text": [
      "09:28:02 - cmdstanpy - INFO - Chain [1] start processing\n",
      "09:28:37 - cmdstanpy - INFO - Chain [1] done processing\n"
     ]
    },
    {
     "name": "stdout",
     "output_type": "stream",
     "text": [
      "Mean Absolute Error: 2239.603\n",
      "{'changepoint_prior_scale': 0.4, 'holidays_prior_scale': 0.1, 'n_changepoints': 200, 'seasonality_mode': 'additive'}\n"
     ]
    },
    {
     "name": "stderr",
     "output_type": "stream",
     "text": [
      "09:28:40 - cmdstanpy - INFO - Chain [1] start processing\n",
      "09:29:13 - cmdstanpy - INFO - Chain [1] done processing\n"
     ]
    },
    {
     "name": "stdout",
     "output_type": "stream",
     "text": [
      "Mean Absolute Error: 2142.611\n",
      "{'changepoint_prior_scale': 0.4, 'holidays_prior_scale': 0.2, 'n_changepoints': 100, 'seasonality_mode': 'multiplicative'}\n"
     ]
    },
    {
     "name": "stderr",
     "output_type": "stream",
     "text": [
      "09:29:15 - cmdstanpy - INFO - Chain [1] start processing\n",
      "09:29:36 - cmdstanpy - INFO - Chain [1] done processing\n"
     ]
    },
    {
     "name": "stdout",
     "output_type": "stream",
     "text": [
      "Mean Absolute Error: 2245.814\n",
      "{'changepoint_prior_scale': 0.4, 'holidays_prior_scale': 0.2, 'n_changepoints': 100, 'seasonality_mode': 'additive'}\n"
     ]
    },
    {
     "name": "stderr",
     "output_type": "stream",
     "text": [
      "09:29:38 - cmdstanpy - INFO - Chain [1] start processing\n",
      "09:29:57 - cmdstanpy - INFO - Chain [1] done processing\n"
     ]
    },
    {
     "name": "stdout",
     "output_type": "stream",
     "text": [
      "Mean Absolute Error: 2143.200\n",
      "{'changepoint_prior_scale': 0.4, 'holidays_prior_scale': 0.2, 'n_changepoints': 150, 'seasonality_mode': 'multiplicative'}\n"
     ]
    },
    {
     "name": "stderr",
     "output_type": "stream",
     "text": [
      "09:29:59 - cmdstanpy - INFO - Chain [1] start processing\n",
      "09:30:27 - cmdstanpy - INFO - Chain [1] done processing\n"
     ]
    },
    {
     "name": "stdout",
     "output_type": "stream",
     "text": [
      "Mean Absolute Error: 2240.676\n",
      "{'changepoint_prior_scale': 0.4, 'holidays_prior_scale': 0.2, 'n_changepoints': 150, 'seasonality_mode': 'additive'}\n"
     ]
    },
    {
     "name": "stderr",
     "output_type": "stream",
     "text": [
      "09:30:29 - cmdstanpy - INFO - Chain [1] start processing\n",
      "09:30:55 - cmdstanpy - INFO - Chain [1] done processing\n"
     ]
    },
    {
     "name": "stdout",
     "output_type": "stream",
     "text": [
      "Mean Absolute Error: 2158.993\n",
      "{'changepoint_prior_scale': 0.4, 'holidays_prior_scale': 0.2, 'n_changepoints': 200, 'seasonality_mode': 'multiplicative'}\n"
     ]
    },
    {
     "name": "stderr",
     "output_type": "stream",
     "text": [
      "09:30:57 - cmdstanpy - INFO - Chain [1] start processing\n",
      "09:31:33 - cmdstanpy - INFO - Chain [1] done processing\n"
     ]
    },
    {
     "name": "stdout",
     "output_type": "stream",
     "text": [
      "Mean Absolute Error: 2236.627\n",
      "{'changepoint_prior_scale': 0.4, 'holidays_prior_scale': 0.2, 'n_changepoints': 200, 'seasonality_mode': 'additive'}\n"
     ]
    },
    {
     "name": "stderr",
     "output_type": "stream",
     "text": [
      "09:31:35 - cmdstanpy - INFO - Chain [1] start processing\n",
      "09:32:08 - cmdstanpy - INFO - Chain [1] done processing\n"
     ]
    },
    {
     "name": "stdout",
     "output_type": "stream",
     "text": [
      "Mean Absolute Error: 2138.238\n",
      "{'changepoint_prior_scale': 0.4, 'holidays_prior_scale': 0.3, 'n_changepoints': 100, 'seasonality_mode': 'multiplicative'}\n"
     ]
    },
    {
     "name": "stderr",
     "output_type": "stream",
     "text": [
      "09:32:11 - cmdstanpy - INFO - Chain [1] start processing\n",
      "09:32:31 - cmdstanpy - INFO - Chain [1] done processing\n"
     ]
    },
    {
     "name": "stdout",
     "output_type": "stream",
     "text": [
      "Mean Absolute Error: 2222.370\n",
      "{'changepoint_prior_scale': 0.4, 'holidays_prior_scale': 0.3, 'n_changepoints': 100, 'seasonality_mode': 'additive'}\n"
     ]
    },
    {
     "name": "stderr",
     "output_type": "stream",
     "text": [
      "09:32:33 - cmdstanpy - INFO - Chain [1] start processing\n",
      "09:32:53 - cmdstanpy - INFO - Chain [1] done processing\n"
     ]
    },
    {
     "name": "stdout",
     "output_type": "stream",
     "text": [
      "Mean Absolute Error: 2147.080\n",
      "{'changepoint_prior_scale': 0.4, 'holidays_prior_scale': 0.3, 'n_changepoints': 150, 'seasonality_mode': 'multiplicative'}\n"
     ]
    },
    {
     "name": "stderr",
     "output_type": "stream",
     "text": [
      "09:32:55 - cmdstanpy - INFO - Chain [1] start processing\n",
      "09:33:22 - cmdstanpy - INFO - Chain [1] done processing\n"
     ]
    },
    {
     "name": "stdout",
     "output_type": "stream",
     "text": [
      "Mean Absolute Error: 2229.134\n",
      "{'changepoint_prior_scale': 0.4, 'holidays_prior_scale': 0.3, 'n_changepoints': 150, 'seasonality_mode': 'additive'}\n"
     ]
    },
    {
     "name": "stderr",
     "output_type": "stream",
     "text": [
      "09:33:24 - cmdstanpy - INFO - Chain [1] start processing\n",
      "09:33:50 - cmdstanpy - INFO - Chain [1] done processing\n"
     ]
    },
    {
     "name": "stdout",
     "output_type": "stream",
     "text": [
      "Mean Absolute Error: 2141.746\n",
      "{'changepoint_prior_scale': 0.4, 'holidays_prior_scale': 0.3, 'n_changepoints': 200, 'seasonality_mode': 'multiplicative'}\n"
     ]
    },
    {
     "name": "stderr",
     "output_type": "stream",
     "text": [
      "09:33:52 - cmdstanpy - INFO - Chain [1] start processing\n",
      "09:34:28 - cmdstanpy - INFO - Chain [1] done processing\n"
     ]
    },
    {
     "name": "stdout",
     "output_type": "stream",
     "text": [
      "Mean Absolute Error: 2229.985\n",
      "{'changepoint_prior_scale': 0.4, 'holidays_prior_scale': 0.3, 'n_changepoints': 200, 'seasonality_mode': 'additive'}\n"
     ]
    },
    {
     "name": "stderr",
     "output_type": "stream",
     "text": [
      "09:34:30 - cmdstanpy - INFO - Chain [1] start processing\n",
      "09:35:03 - cmdstanpy - INFO - Chain [1] done processing\n"
     ]
    },
    {
     "name": "stdout",
     "output_type": "stream",
     "text": [
      "Mean Absolute Error: 2141.514\n",
      "{'changepoint_prior_scale': 0.4, 'holidays_prior_scale': 0.4, 'n_changepoints': 100, 'seasonality_mode': 'multiplicative'}\n"
     ]
    },
    {
     "name": "stderr",
     "output_type": "stream",
     "text": [
      "09:35:05 - cmdstanpy - INFO - Chain [1] start processing\n",
      "09:35:26 - cmdstanpy - INFO - Chain [1] done processing\n"
     ]
    },
    {
     "name": "stdout",
     "output_type": "stream",
     "text": [
      "Mean Absolute Error: 2235.732\n",
      "{'changepoint_prior_scale': 0.4, 'holidays_prior_scale': 0.4, 'n_changepoints': 100, 'seasonality_mode': 'additive'}\n"
     ]
    },
    {
     "name": "stderr",
     "output_type": "stream",
     "text": [
      "09:35:28 - cmdstanpy - INFO - Chain [1] start processing\n",
      "09:35:47 - cmdstanpy - INFO - Chain [1] done processing\n"
     ]
    },
    {
     "name": "stdout",
     "output_type": "stream",
     "text": [
      "Mean Absolute Error: 2142.064\n",
      "{'changepoint_prior_scale': 0.4, 'holidays_prior_scale': 0.4, 'n_changepoints': 150, 'seasonality_mode': 'multiplicative'}\n"
     ]
    },
    {
     "name": "stderr",
     "output_type": "stream",
     "text": [
      "09:35:49 - cmdstanpy - INFO - Chain [1] start processing\n",
      "09:36:17 - cmdstanpy - INFO - Chain [1] done processing\n"
     ]
    },
    {
     "name": "stdout",
     "output_type": "stream",
     "text": [
      "Mean Absolute Error: 2226.625\n",
      "{'changepoint_prior_scale': 0.4, 'holidays_prior_scale': 0.4, 'n_changepoints': 150, 'seasonality_mode': 'additive'}\n"
     ]
    },
    {
     "name": "stderr",
     "output_type": "stream",
     "text": [
      "09:36:19 - cmdstanpy - INFO - Chain [1] start processing\n",
      "09:36:44 - cmdstanpy - INFO - Chain [1] done processing\n"
     ]
    },
    {
     "name": "stdout",
     "output_type": "stream",
     "text": [
      "Mean Absolute Error: 2143.769\n",
      "{'changepoint_prior_scale': 0.4, 'holidays_prior_scale': 0.4, 'n_changepoints': 200, 'seasonality_mode': 'multiplicative'}\n"
     ]
    },
    {
     "name": "stderr",
     "output_type": "stream",
     "text": [
      "09:36:47 - cmdstanpy - INFO - Chain [1] start processing\n",
      "09:37:23 - cmdstanpy - INFO - Chain [1] done processing\n"
     ]
    },
    {
     "name": "stdout",
     "output_type": "stream",
     "text": [
      "Mean Absolute Error: 2233.778\n",
      "{'changepoint_prior_scale': 0.4, 'holidays_prior_scale': 0.4, 'n_changepoints': 200, 'seasonality_mode': 'additive'}\n"
     ]
    },
    {
     "name": "stderr",
     "output_type": "stream",
     "text": [
      "09:37:25 - cmdstanpy - INFO - Chain [1] start processing\n",
      "09:37:58 - cmdstanpy - INFO - Chain [1] done processing\n"
     ]
    },
    {
     "name": "stdout",
     "output_type": "stream",
     "text": [
      "Mean Absolute Error: 2159.862\n",
      "{'changepoint_prior_scale': 0.4, 'holidays_prior_scale': 0.5, 'n_changepoints': 100, 'seasonality_mode': 'multiplicative'}\n"
     ]
    },
    {
     "name": "stderr",
     "output_type": "stream",
     "text": [
      "09:38:00 - cmdstanpy - INFO - Chain [1] start processing\n",
      "09:38:21 - cmdstanpy - INFO - Chain [1] done processing\n"
     ]
    },
    {
     "name": "stdout",
     "output_type": "stream",
     "text": [
      "Mean Absolute Error: 2236.663\n",
      "{'changepoint_prior_scale': 0.4, 'holidays_prior_scale': 0.5, 'n_changepoints': 100, 'seasonality_mode': 'additive'}\n"
     ]
    },
    {
     "name": "stderr",
     "output_type": "stream",
     "text": [
      "09:38:23 - cmdstanpy - INFO - Chain [1] start processing\n",
      "09:38:42 - cmdstanpy - INFO - Chain [1] done processing\n"
     ]
    },
    {
     "name": "stdout",
     "output_type": "stream",
     "text": [
      "Mean Absolute Error: 2149.134\n",
      "{'changepoint_prior_scale': 0.4, 'holidays_prior_scale': 0.5, 'n_changepoints': 150, 'seasonality_mode': 'multiplicative'}\n"
     ]
    },
    {
     "name": "stderr",
     "output_type": "stream",
     "text": [
      "09:38:44 - cmdstanpy - INFO - Chain [1] start processing\n",
      "09:39:12 - cmdstanpy - INFO - Chain [1] done processing\n"
     ]
    },
    {
     "name": "stdout",
     "output_type": "stream",
     "text": [
      "Mean Absolute Error: 2236.535\n",
      "{'changepoint_prior_scale': 0.4, 'holidays_prior_scale': 0.5, 'n_changepoints': 150, 'seasonality_mode': 'additive'}\n"
     ]
    },
    {
     "name": "stderr",
     "output_type": "stream",
     "text": [
      "09:39:14 - cmdstanpy - INFO - Chain [1] start processing\n",
      "09:39:40 - cmdstanpy - INFO - Chain [1] done processing\n"
     ]
    },
    {
     "name": "stdout",
     "output_type": "stream",
     "text": [
      "Mean Absolute Error: 2158.326\n",
      "{'changepoint_prior_scale': 0.4, 'holidays_prior_scale': 0.5, 'n_changepoints': 200, 'seasonality_mode': 'multiplicative'}\n"
     ]
    },
    {
     "name": "stderr",
     "output_type": "stream",
     "text": [
      "09:39:42 - cmdstanpy - INFO - Chain [1] start processing\n",
      "09:40:18 - cmdstanpy - INFO - Chain [1] done processing\n"
     ]
    },
    {
     "name": "stdout",
     "output_type": "stream",
     "text": [
      "Mean Absolute Error: 2239.797\n",
      "{'changepoint_prior_scale': 0.4, 'holidays_prior_scale': 0.5, 'n_changepoints': 200, 'seasonality_mode': 'additive'}\n"
     ]
    },
    {
     "name": "stderr",
     "output_type": "stream",
     "text": [
      "09:40:20 - cmdstanpy - INFO - Chain [1] start processing\n",
      "09:40:54 - cmdstanpy - INFO - Chain [1] done processing\n"
     ]
    },
    {
     "name": "stdout",
     "output_type": "stream",
     "text": [
      "Mean Absolute Error: 2143.738\n",
      "{'changepoint_prior_scale': 0.5, 'holidays_prior_scale': 0.1, 'n_changepoints': 100, 'seasonality_mode': 'multiplicative'}\n"
     ]
    },
    {
     "name": "stderr",
     "output_type": "stream",
     "text": [
      "09:40:56 - cmdstanpy - INFO - Chain [1] start processing\n",
      "09:41:17 - cmdstanpy - INFO - Chain [1] done processing\n"
     ]
    },
    {
     "name": "stdout",
     "output_type": "stream",
     "text": [
      "Mean Absolute Error: 2251.507\n",
      "{'changepoint_prior_scale': 0.5, 'holidays_prior_scale': 0.1, 'n_changepoints': 100, 'seasonality_mode': 'additive'}\n"
     ]
    },
    {
     "name": "stderr",
     "output_type": "stream",
     "text": [
      "09:41:19 - cmdstanpy - INFO - Chain [1] start processing\n",
      "09:41:38 - cmdstanpy - INFO - Chain [1] done processing\n"
     ]
    },
    {
     "name": "stdout",
     "output_type": "stream",
     "text": [
      "Mean Absolute Error: 2141.786\n",
      "{'changepoint_prior_scale': 0.5, 'holidays_prior_scale': 0.1, 'n_changepoints': 150, 'seasonality_mode': 'multiplicative'}\n"
     ]
    },
    {
     "name": "stderr",
     "output_type": "stream",
     "text": [
      "09:41:40 - cmdstanpy - INFO - Chain [1] start processing\n",
      "09:42:08 - cmdstanpy - INFO - Chain [1] done processing\n"
     ]
    },
    {
     "name": "stdout",
     "output_type": "stream",
     "text": [
      "Mean Absolute Error: 2238.190\n",
      "{'changepoint_prior_scale': 0.5, 'holidays_prior_scale': 0.1, 'n_changepoints': 150, 'seasonality_mode': 'additive'}\n"
     ]
    },
    {
     "name": "stderr",
     "output_type": "stream",
     "text": [
      "09:42:10 - cmdstanpy - INFO - Chain [1] start processing\n",
      "09:42:36 - cmdstanpy - INFO - Chain [1] done processing\n"
     ]
    },
    {
     "name": "stdout",
     "output_type": "stream",
     "text": [
      "Mean Absolute Error: 2161.128\n",
      "{'changepoint_prior_scale': 0.5, 'holidays_prior_scale': 0.1, 'n_changepoints': 200, 'seasonality_mode': 'multiplicative'}\n"
     ]
    },
    {
     "name": "stderr",
     "output_type": "stream",
     "text": [
      "09:42:38 - cmdstanpy - INFO - Chain [1] start processing\n",
      "09:43:13 - cmdstanpy - INFO - Chain [1] done processing\n"
     ]
    },
    {
     "name": "stdout",
     "output_type": "stream",
     "text": [
      "Mean Absolute Error: 2254.047\n",
      "{'changepoint_prior_scale': 0.5, 'holidays_prior_scale': 0.1, 'n_changepoints': 200, 'seasonality_mode': 'additive'}\n"
     ]
    },
    {
     "name": "stderr",
     "output_type": "stream",
     "text": [
      "09:43:16 - cmdstanpy - INFO - Chain [1] start processing\n",
      "09:43:49 - cmdstanpy - INFO - Chain [1] done processing\n"
     ]
    },
    {
     "name": "stdout",
     "output_type": "stream",
     "text": [
      "Mean Absolute Error: 2163.814\n",
      "{'changepoint_prior_scale': 0.5, 'holidays_prior_scale': 0.2, 'n_changepoints': 100, 'seasonality_mode': 'multiplicative'}\n"
     ]
    },
    {
     "name": "stderr",
     "output_type": "stream",
     "text": [
      "09:43:51 - cmdstanpy - INFO - Chain [1] start processing\n",
      "09:44:12 - cmdstanpy - INFO - Chain [1] done processing\n"
     ]
    },
    {
     "name": "stdout",
     "output_type": "stream",
     "text": [
      "Mean Absolute Error: 2244.880\n",
      "{'changepoint_prior_scale': 0.5, 'holidays_prior_scale': 0.2, 'n_changepoints': 100, 'seasonality_mode': 'additive'}\n"
     ]
    },
    {
     "name": "stderr",
     "output_type": "stream",
     "text": [
      "09:44:14 - cmdstanpy - INFO - Chain [1] start processing\n",
      "09:44:34 - cmdstanpy - INFO - Chain [1] done processing\n"
     ]
    },
    {
     "name": "stdout",
     "output_type": "stream",
     "text": [
      "Mean Absolute Error: 2148.772\n",
      "{'changepoint_prior_scale': 0.5, 'holidays_prior_scale': 0.2, 'n_changepoints': 150, 'seasonality_mode': 'multiplicative'}\n"
     ]
    },
    {
     "name": "stderr",
     "output_type": "stream",
     "text": [
      "09:44:36 - cmdstanpy - INFO - Chain [1] start processing\n",
      "09:45:03 - cmdstanpy - INFO - Chain [1] done processing\n"
     ]
    },
    {
     "name": "stdout",
     "output_type": "stream",
     "text": [
      "Mean Absolute Error: 2244.716\n",
      "{'changepoint_prior_scale': 0.5, 'holidays_prior_scale': 0.2, 'n_changepoints': 150, 'seasonality_mode': 'additive'}\n"
     ]
    },
    {
     "name": "stderr",
     "output_type": "stream",
     "text": [
      "09:45:05 - cmdstanpy - INFO - Chain [1] start processing\n",
      "09:45:31 - cmdstanpy - INFO - Chain [1] done processing\n"
     ]
    },
    {
     "name": "stdout",
     "output_type": "stream",
     "text": [
      "Mean Absolute Error: 2155.612\n",
      "{'changepoint_prior_scale': 0.5, 'holidays_prior_scale': 0.2, 'n_changepoints': 200, 'seasonality_mode': 'multiplicative'}\n"
     ]
    },
    {
     "name": "stderr",
     "output_type": "stream",
     "text": [
      "09:45:33 - cmdstanpy - INFO - Chain [1] start processing\n",
      "09:46:08 - cmdstanpy - INFO - Chain [1] done processing\n"
     ]
    },
    {
     "name": "stdout",
     "output_type": "stream",
     "text": [
      "Mean Absolute Error: 2241.026\n",
      "{'changepoint_prior_scale': 0.5, 'holidays_prior_scale': 0.2, 'n_changepoints': 200, 'seasonality_mode': 'additive'}\n"
     ]
    },
    {
     "name": "stderr",
     "output_type": "stream",
     "text": [
      "09:46:10 - cmdstanpy - INFO - Chain [1] start processing\n",
      "09:46:43 - cmdstanpy - INFO - Chain [1] done processing\n"
     ]
    },
    {
     "name": "stdout",
     "output_type": "stream",
     "text": [
      "Mean Absolute Error: 2163.858\n",
      "{'changepoint_prior_scale': 0.5, 'holidays_prior_scale': 0.3, 'n_changepoints': 100, 'seasonality_mode': 'multiplicative'}\n"
     ]
    },
    {
     "name": "stderr",
     "output_type": "stream",
     "text": [
      "09:46:46 - cmdstanpy - INFO - Chain [1] start processing\n",
      "09:47:06 - cmdstanpy - INFO - Chain [1] done processing\n"
     ]
    },
    {
     "name": "stdout",
     "output_type": "stream",
     "text": [
      "Mean Absolute Error: 2237.294\n",
      "{'changepoint_prior_scale': 0.5, 'holidays_prior_scale': 0.3, 'n_changepoints': 100, 'seasonality_mode': 'additive'}\n"
     ]
    },
    {
     "name": "stderr",
     "output_type": "stream",
     "text": [
      "09:47:08 - cmdstanpy - INFO - Chain [1] start processing\n",
      "09:47:28 - cmdstanpy - INFO - Chain [1] done processing\n"
     ]
    },
    {
     "name": "stdout",
     "output_type": "stream",
     "text": [
      "Mean Absolute Error: 2146.586\n",
      "{'changepoint_prior_scale': 0.5, 'holidays_prior_scale': 0.3, 'n_changepoints': 150, 'seasonality_mode': 'multiplicative'}\n"
     ]
    },
    {
     "name": "stderr",
     "output_type": "stream",
     "text": [
      "09:47:30 - cmdstanpy - INFO - Chain [1] start processing\n",
      "09:47:57 - cmdstanpy - INFO - Chain [1] done processing\n"
     ]
    },
    {
     "name": "stdout",
     "output_type": "stream",
     "text": [
      "Mean Absolute Error: 2220.285\n",
      "{'changepoint_prior_scale': 0.5, 'holidays_prior_scale': 0.3, 'n_changepoints': 150, 'seasonality_mode': 'additive'}\n"
     ]
    },
    {
     "name": "stderr",
     "output_type": "stream",
     "text": [
      "09:47:59 - cmdstanpy - INFO - Chain [1] start processing\n",
      "09:48:25 - cmdstanpy - INFO - Chain [1] done processing\n"
     ]
    },
    {
     "name": "stdout",
     "output_type": "stream",
     "text": [
      "Mean Absolute Error: 2146.887\n",
      "{'changepoint_prior_scale': 0.5, 'holidays_prior_scale': 0.3, 'n_changepoints': 200, 'seasonality_mode': 'multiplicative'}\n"
     ]
    },
    {
     "name": "stderr",
     "output_type": "stream",
     "text": [
      "09:48:27 - cmdstanpy - INFO - Chain [1] start processing\n",
      "09:49:03 - cmdstanpy - INFO - Chain [1] done processing\n"
     ]
    },
    {
     "name": "stdout",
     "output_type": "stream",
     "text": [
      "Mean Absolute Error: 2234.581\n",
      "{'changepoint_prior_scale': 0.5, 'holidays_prior_scale': 0.3, 'n_changepoints': 200, 'seasonality_mode': 'additive'}\n"
     ]
    },
    {
     "name": "stderr",
     "output_type": "stream",
     "text": [
      "09:49:05 - cmdstanpy - INFO - Chain [1] start processing\n",
      "09:49:38 - cmdstanpy - INFO - Chain [1] done processing\n"
     ]
    },
    {
     "name": "stdout",
     "output_type": "stream",
     "text": [
      "Mean Absolute Error: 2157.744\n",
      "{'changepoint_prior_scale': 0.5, 'holidays_prior_scale': 0.4, 'n_changepoints': 100, 'seasonality_mode': 'multiplicative'}\n"
     ]
    },
    {
     "name": "stderr",
     "output_type": "stream",
     "text": [
      "09:49:40 - cmdstanpy - INFO - Chain [1] start processing\n",
      "09:50:01 - cmdstanpy - INFO - Chain [1] done processing\n"
     ]
    },
    {
     "name": "stdout",
     "output_type": "stream",
     "text": [
      "Mean Absolute Error: 2228.536\n",
      "{'changepoint_prior_scale': 0.5, 'holidays_prior_scale': 0.4, 'n_changepoints': 100, 'seasonality_mode': 'additive'}\n"
     ]
    },
    {
     "name": "stderr",
     "output_type": "stream",
     "text": [
      "09:50:03 - cmdstanpy - INFO - Chain [1] start processing\n",
      "09:50:22 - cmdstanpy - INFO - Chain [1] done processing\n"
     ]
    },
    {
     "name": "stdout",
     "output_type": "stream",
     "text": [
      "Mean Absolute Error: 2146.857\n",
      "{'changepoint_prior_scale': 0.5, 'holidays_prior_scale': 0.4, 'n_changepoints': 150, 'seasonality_mode': 'multiplicative'}\n"
     ]
    },
    {
     "name": "stderr",
     "output_type": "stream",
     "text": [
      "09:50:24 - cmdstanpy - INFO - Chain [1] start processing\n",
      "09:50:52 - cmdstanpy - INFO - Chain [1] done processing\n"
     ]
    },
    {
     "name": "stdout",
     "output_type": "stream",
     "text": [
      "Mean Absolute Error: 2228.745\n",
      "{'changepoint_prior_scale': 0.5, 'holidays_prior_scale': 0.4, 'n_changepoints': 150, 'seasonality_mode': 'additive'}\n"
     ]
    },
    {
     "name": "stderr",
     "output_type": "stream",
     "text": [
      "09:50:54 - cmdstanpy - INFO - Chain [1] start processing\n",
      "09:51:20 - cmdstanpy - INFO - Chain [1] done processing\n"
     ]
    },
    {
     "name": "stdout",
     "output_type": "stream",
     "text": [
      "Mean Absolute Error: 2157.981\n",
      "{'changepoint_prior_scale': 0.5, 'holidays_prior_scale': 0.4, 'n_changepoints': 200, 'seasonality_mode': 'multiplicative'}\n"
     ]
    },
    {
     "name": "stderr",
     "output_type": "stream",
     "text": [
      "09:51:22 - cmdstanpy - INFO - Chain [1] start processing\n",
      "09:51:57 - cmdstanpy - INFO - Chain [1] done processing\n"
     ]
    },
    {
     "name": "stdout",
     "output_type": "stream",
     "text": [
      "Mean Absolute Error: 2217.542\n",
      "{'changepoint_prior_scale': 0.5, 'holidays_prior_scale': 0.4, 'n_changepoints': 200, 'seasonality_mode': 'additive'}\n"
     ]
    },
    {
     "name": "stderr",
     "output_type": "stream",
     "text": [
      "09:51:59 - cmdstanpy - INFO - Chain [1] start processing\n",
      "09:52:33 - cmdstanpy - INFO - Chain [1] done processing\n"
     ]
    },
    {
     "name": "stdout",
     "output_type": "stream",
     "text": [
      "Mean Absolute Error: 2159.996\n",
      "{'changepoint_prior_scale': 0.5, 'holidays_prior_scale': 0.5, 'n_changepoints': 100, 'seasonality_mode': 'multiplicative'}\n"
     ]
    },
    {
     "name": "stderr",
     "output_type": "stream",
     "text": [
      "09:52:35 - cmdstanpy - INFO - Chain [1] start processing\n",
      "09:52:55 - cmdstanpy - INFO - Chain [1] done processing\n"
     ]
    },
    {
     "name": "stdout",
     "output_type": "stream",
     "text": [
      "Mean Absolute Error: 2231.897\n",
      "{'changepoint_prior_scale': 0.5, 'holidays_prior_scale': 0.5, 'n_changepoints': 100, 'seasonality_mode': 'additive'}\n"
     ]
    },
    {
     "name": "stderr",
     "output_type": "stream",
     "text": [
      "09:52:58 - cmdstanpy - INFO - Chain [1] start processing\n",
      "09:53:17 - cmdstanpy - INFO - Chain [1] done processing\n"
     ]
    },
    {
     "name": "stdout",
     "output_type": "stream",
     "text": [
      "Mean Absolute Error: 2159.760\n",
      "{'changepoint_prior_scale': 0.5, 'holidays_prior_scale': 0.5, 'n_changepoints': 150, 'seasonality_mode': 'multiplicative'}\n"
     ]
    },
    {
     "name": "stderr",
     "output_type": "stream",
     "text": [
      "09:53:19 - cmdstanpy - INFO - Chain [1] start processing\n",
      "09:53:46 - cmdstanpy - INFO - Chain [1] done processing\n"
     ]
    },
    {
     "name": "stdout",
     "output_type": "stream",
     "text": [
      "Mean Absolute Error: 2219.001\n",
      "{'changepoint_prior_scale': 0.5, 'holidays_prior_scale': 0.5, 'n_changepoints': 150, 'seasonality_mode': 'additive'}\n"
     ]
    },
    {
     "name": "stderr",
     "output_type": "stream",
     "text": [
      "09:53:49 - cmdstanpy - INFO - Chain [1] start processing\n",
      "09:54:14 - cmdstanpy - INFO - Chain [1] done processing\n"
     ]
    },
    {
     "name": "stdout",
     "output_type": "stream",
     "text": [
      "Mean Absolute Error: 2176.550\n",
      "{'changepoint_prior_scale': 0.5, 'holidays_prior_scale': 0.5, 'n_changepoints': 200, 'seasonality_mode': 'multiplicative'}\n"
     ]
    },
    {
     "name": "stderr",
     "output_type": "stream",
     "text": [
      "09:54:16 - cmdstanpy - INFO - Chain [1] start processing\n",
      "09:54:52 - cmdstanpy - INFO - Chain [1] done processing\n"
     ]
    },
    {
     "name": "stdout",
     "output_type": "stream",
     "text": [
      "Mean Absolute Error: 2219.333\n",
      "{'changepoint_prior_scale': 0.5, 'holidays_prior_scale': 0.5, 'n_changepoints': 200, 'seasonality_mode': 'additive'}\n"
     ]
    },
    {
     "name": "stderr",
     "output_type": "stream",
     "text": [
      "09:54:54 - cmdstanpy - INFO - Chain [1] start processing\n",
      "09:55:27 - cmdstanpy - INFO - Chain [1] done processing\n"
     ]
    },
    {
     "name": "stdout",
     "output_type": "stream",
     "text": [
      "Mean Absolute Error: 2156.214\n"
     ]
    }
   ],
   "source": [
    "# model_parameters = pd.DataFrame(columns = ['MAE','Parameters'])\n",
    "# for p in grid:\n",
    "#     LOL = pd.DataFrame()\n",
    "#     print(p)\n",
    "# #    random.seed(0)\n",
    "#     train_model =Prophet(changepoint_prior_scale = p['changepoint_prior_scale'],\n",
    "#                          holidays_prior_scale = p['holidays_prior_scale'],\n",
    "#                          n_changepoints = p['n_changepoints'],\n",
    "#                          seasonality_mode = p['seasonality_mode'],\n",
    "                         \n",
    "#                          daily_seasonality = True,\n",
    "#                          yearly_seasonality = True,\n",
    "#                          holidays=holiday, \n",
    "#                          interval_width=0.95)\n",
    "    \n",
    "#     train_model.fit(train)\n",
    "#     future = train_model.make_future_dataframe(periods=366, freq='D',include_history = False)\n",
    "#     train_forecast = train_model.predict(future)\n",
    "#     LOL=train_forecast[['ds','yhat']]\n",
    "#     y_true= test['y'].values\n",
    "#     y_pred = LOL['yhat'][:len(y_true)].values\n",
    "#     mae = mean_absolute_error(y_true, y_pred)\n",
    "#     print('Mean Absolute Error: %.3f' % mae)\n",
    "#     model_parameters = model_parameters.append({'MAE':mae,'Parameters':p},ignore_index=True)"
   ]
  },
  {
   "cell_type": "code",
   "execution_count": 29,
   "metadata": {},
   "outputs": [],
   "source": [
    "# parameters = model_parameters.sort_values(by=['MAE'])\n",
    "# parameters = parameters.reset_index(drop=True)\n",
    "# parameters.head()"
   ]
  },
  {
   "cell_type": "code",
   "execution_count": 30,
   "metadata": {},
   "outputs": [],
   "source": [
    "# parameters['Parameters'][0]"
   ]
  },
  {
   "cell_type": "code",
   "execution_count": 25,
   "metadata": {},
   "outputs": [
    {
     "data": {
      "text/plain": [
       "Index(['ds', 'YM', 'MD', 'Product', 'y', 'KRW_USD_EXR', 'Annual_Call_Rate',\n",
       "       'item_PPI', 'item_CPI', 'Food_Price_Index', 'Cereals_Price_Index',\n",
       "       'DayAvg_Temperature', 'DayDiff_Temperature', 'DayAvg_RelativeHumidity',\n",
       "       'DaySum_Rainfall', 'DayAvg_WindSpeed', 'DaySum_Sunshine',\n",
       "       'Warning_Count', 'outlier'],\n",
       "      dtype='object')"
      ]
     },
     "execution_count": 25,
     "metadata": {},
     "output_type": "execute_result"
    }
   ],
   "source": [
    "df.columns"
   ]
  },
  {
   "cell_type": "code",
   "execution_count": 26,
   "metadata": {},
   "outputs": [
    {
     "data": {
      "text/plain": [
       "Index(['ds', 'y', 'DayAvg_Temperature', 'DayDiff_Temperature',\n",
       "       'DayAvg_RelativeHumidity', 'DaySum_Rainfall', 'DayAvg_WindSpeed',\n",
       "       'DaySum_Sunshine', 'Warning_Count'],\n",
       "      dtype='object')"
      ]
     },
     "execution_count": 26,
     "metadata": {},
     "output_type": "execute_result"
    }
   ],
   "source": [
    "train = train.drop(columns=['YM', 'MD', 'Product', 'KRW_USD_EXR', 'Annual_Call_Rate',\n",
    "       'item_PPI', 'item_CPI', 'Food_Price_Index', 'Cereals_Price_Index', 'outlier'\n",
    "       ])\n",
    "train['Warning_Count'] = np.exp(train['Warning_Count'])\n",
    "train.columns"
   ]
  },
  {
   "cell_type": "code",
   "execution_count": 27,
   "metadata": {},
   "outputs": [
    {
     "data": {
      "text/html": [
       "<div>\n",
       "<style scoped>\n",
       "    .dataframe tbody tr th:only-of-type {\n",
       "        vertical-align: middle;\n",
       "    }\n",
       "\n",
       "    .dataframe tbody tr th {\n",
       "        vertical-align: top;\n",
       "    }\n",
       "\n",
       "    .dataframe thead th {\n",
       "        text-align: right;\n",
       "    }\n",
       "</style>\n",
       "<table border=\"1\" class=\"dataframe\">\n",
       "  <thead>\n",
       "    <tr style=\"text-align: right;\">\n",
       "      <th></th>\n",
       "      <th>ds</th>\n",
       "      <th>YM</th>\n",
       "      <th>MD</th>\n",
       "      <th>Product</th>\n",
       "      <th>y</th>\n",
       "      <th>KRW_USD_EXR</th>\n",
       "      <th>Annual_Call_Rate</th>\n",
       "      <th>item_PPI</th>\n",
       "      <th>item_CPI</th>\n",
       "      <th>Food_Price_Index</th>\n",
       "      <th>Cereals_Price_Index</th>\n",
       "      <th>DayAvg_Temperature</th>\n",
       "      <th>DayDiff_Temperature</th>\n",
       "      <th>DayAvg_RelativeHumidity</th>\n",
       "      <th>DaySum_Rainfall</th>\n",
       "      <th>DayAvg_WindSpeed</th>\n",
       "      <th>DaySum_Sunshine</th>\n",
       "      <th>Warning_Count</th>\n",
       "      <th>outlier</th>\n",
       "    </tr>\n",
       "  </thead>\n",
       "  <tbody>\n",
       "    <tr>\n",
       "      <th>0</th>\n",
       "      <td>2005-01-01</td>\n",
       "      <td>NaN</td>\n",
       "      <td>NaN</td>\n",
       "      <td>NaN</td>\n",
       "      <td>NaN</td>\n",
       "      <td>NaN</td>\n",
       "      <td>NaN</td>\n",
       "      <td>NaN</td>\n",
       "      <td>NaN</td>\n",
       "      <td>NaN</td>\n",
       "      <td>NaN</td>\n",
       "      <td>NaN</td>\n",
       "      <td>NaN</td>\n",
       "      <td>NaN</td>\n",
       "      <td>NaN</td>\n",
       "      <td>NaN</td>\n",
       "      <td>NaN</td>\n",
       "      <td>NaN</td>\n",
       "      <td>NaN</td>\n",
       "    </tr>\n",
       "    <tr>\n",
       "      <th>1</th>\n",
       "      <td>2005-01-02</td>\n",
       "      <td>NaN</td>\n",
       "      <td>NaN</td>\n",
       "      <td>NaN</td>\n",
       "      <td>NaN</td>\n",
       "      <td>NaN</td>\n",
       "      <td>NaN</td>\n",
       "      <td>NaN</td>\n",
       "      <td>NaN</td>\n",
       "      <td>NaN</td>\n",
       "      <td>NaN</td>\n",
       "      <td>NaN</td>\n",
       "      <td>NaN</td>\n",
       "      <td>NaN</td>\n",
       "      <td>NaN</td>\n",
       "      <td>NaN</td>\n",
       "      <td>NaN</td>\n",
       "      <td>NaN</td>\n",
       "      <td>NaN</td>\n",
       "    </tr>\n",
       "    <tr>\n",
       "      <th>2</th>\n",
       "      <td>2005-01-03</td>\n",
       "      <td>200501.0</td>\n",
       "      <td>103.0</td>\n",
       "      <td>고구마</td>\n",
       "      <td>8.364301</td>\n",
       "      <td>1013.00</td>\n",
       "      <td>3.33</td>\n",
       "      <td>53.12</td>\n",
       "      <td>41.811</td>\n",
       "      <td>65.4</td>\n",
       "      <td>60.5</td>\n",
       "      <td>4.000000</td>\n",
       "      <td>7.000000</td>\n",
       "      <td>0.000000</td>\n",
       "      <td>1.000000</td>\n",
       "      <td>4.000000</td>\n",
       "      <td>0.000000</td>\n",
       "      <td>0.000000</td>\n",
       "      <td>no</td>\n",
       "    </tr>\n",
       "    <tr>\n",
       "      <th>3</th>\n",
       "      <td>2005-01-04</td>\n",
       "      <td>200501.0</td>\n",
       "      <td>104.0</td>\n",
       "      <td>고구마</td>\n",
       "      <td>8.383535</td>\n",
       "      <td>1013.00</td>\n",
       "      <td>3.33</td>\n",
       "      <td>53.12</td>\n",
       "      <td>41.811</td>\n",
       "      <td>65.4</td>\n",
       "      <td>60.5</td>\n",
       "      <td>-3.000000</td>\n",
       "      <td>5.000000</td>\n",
       "      <td>0.000000</td>\n",
       "      <td>0.000000</td>\n",
       "      <td>4.000000</td>\n",
       "      <td>0.000000</td>\n",
       "      <td>0.000000</td>\n",
       "      <td>no</td>\n",
       "    </tr>\n",
       "    <tr>\n",
       "      <th>4</th>\n",
       "      <td>2005-01-05</td>\n",
       "      <td>200501.0</td>\n",
       "      <td>105.0</td>\n",
       "      <td>고구마</td>\n",
       "      <td>8.434620</td>\n",
       "      <td>1013.00</td>\n",
       "      <td>3.33</td>\n",
       "      <td>53.12</td>\n",
       "      <td>41.811</td>\n",
       "      <td>65.4</td>\n",
       "      <td>60.5</td>\n",
       "      <td>-5.000000</td>\n",
       "      <td>13.000000</td>\n",
       "      <td>0.000000</td>\n",
       "      <td>0.000000</td>\n",
       "      <td>0.000000</td>\n",
       "      <td>0.000000</td>\n",
       "      <td>0.000000</td>\n",
       "      <td>no</td>\n",
       "    </tr>\n",
       "    <tr>\n",
       "      <th>...</th>\n",
       "      <td>...</td>\n",
       "      <td>...</td>\n",
       "      <td>...</td>\n",
       "      <td>...</td>\n",
       "      <td>...</td>\n",
       "      <td>...</td>\n",
       "      <td>...</td>\n",
       "      <td>...</td>\n",
       "      <td>...</td>\n",
       "      <td>...</td>\n",
       "      <td>...</td>\n",
       "      <td>...</td>\n",
       "      <td>...</td>\n",
       "      <td>...</td>\n",
       "      <td>...</td>\n",
       "      <td>...</td>\n",
       "      <td>...</td>\n",
       "      <td>...</td>\n",
       "      <td>...</td>\n",
       "    </tr>\n",
       "    <tr>\n",
       "      <th>5839</th>\n",
       "      <td>2020-12-27</td>\n",
       "      <td>NaN</td>\n",
       "      <td>NaN</td>\n",
       "      <td>NaN</td>\n",
       "      <td>NaN</td>\n",
       "      <td>NaN</td>\n",
       "      <td>NaN</td>\n",
       "      <td>NaN</td>\n",
       "      <td>NaN</td>\n",
       "      <td>NaN</td>\n",
       "      <td>NaN</td>\n",
       "      <td>NaN</td>\n",
       "      <td>NaN</td>\n",
       "      <td>NaN</td>\n",
       "      <td>NaN</td>\n",
       "      <td>NaN</td>\n",
       "      <td>NaN</td>\n",
       "      <td>NaN</td>\n",
       "      <td>NaN</td>\n",
       "    </tr>\n",
       "    <tr>\n",
       "      <th>5840</th>\n",
       "      <td>2020-12-28</td>\n",
       "      <td>202012.0</td>\n",
       "      <td>1228.0</td>\n",
       "      <td>고구마</td>\n",
       "      <td>9.252568</td>\n",
       "      <td>1180.05</td>\n",
       "      <td>0.70</td>\n",
       "      <td>137.90</td>\n",
       "      <td>96.130</td>\n",
       "      <td>108.6</td>\n",
       "      <td>116.4</td>\n",
       "      <td>3.941176</td>\n",
       "      <td>11.941176</td>\n",
       "      <td>80.352941</td>\n",
       "      <td>0.058824</td>\n",
       "      <td>0.411765</td>\n",
       "      <td>3.117647</td>\n",
       "      <td>0.000000</td>\n",
       "      <td>no</td>\n",
       "    </tr>\n",
       "    <tr>\n",
       "      <th>5841</th>\n",
       "      <td>2020-12-29</td>\n",
       "      <td>202012.0</td>\n",
       "      <td>1229.0</td>\n",
       "      <td>고구마</td>\n",
       "      <td>9.252568</td>\n",
       "      <td>1180.05</td>\n",
       "      <td>0.70</td>\n",
       "      <td>137.90</td>\n",
       "      <td>96.130</td>\n",
       "      <td>108.6</td>\n",
       "      <td>116.4</td>\n",
       "      <td>1.590909</td>\n",
       "      <td>9.227273</td>\n",
       "      <td>77.227273</td>\n",
       "      <td>1.272727</td>\n",
       "      <td>1.863636</td>\n",
       "      <td>0.636364</td>\n",
       "      <td>0.772727</td>\n",
       "      <td>no</td>\n",
       "    </tr>\n",
       "    <tr>\n",
       "      <th>5842</th>\n",
       "      <td>2020-12-30</td>\n",
       "      <td>202012.0</td>\n",
       "      <td>1230.0</td>\n",
       "      <td>고구마</td>\n",
       "      <td>9.255384</td>\n",
       "      <td>1180.05</td>\n",
       "      <td>0.70</td>\n",
       "      <td>137.90</td>\n",
       "      <td>96.130</td>\n",
       "      <td>108.6</td>\n",
       "      <td>116.4</td>\n",
       "      <td>-5.500000</td>\n",
       "      <td>6.250000</td>\n",
       "      <td>65.375000</td>\n",
       "      <td>0.291667</td>\n",
       "      <td>3.958333</td>\n",
       "      <td>2.666667</td>\n",
       "      <td>0.833333</td>\n",
       "      <td>no</td>\n",
       "    </tr>\n",
       "    <tr>\n",
       "      <th>5843</th>\n",
       "      <td>2020-12-31</td>\n",
       "      <td>202012.0</td>\n",
       "      <td>1231.0</td>\n",
       "      <td>고구마</td>\n",
       "      <td>9.278027</td>\n",
       "      <td>1180.05</td>\n",
       "      <td>0.70</td>\n",
       "      <td>137.90</td>\n",
       "      <td>96.130</td>\n",
       "      <td>108.6</td>\n",
       "      <td>116.4</td>\n",
       "      <td>-5.222222</td>\n",
       "      <td>9.222222</td>\n",
       "      <td>66.944444</td>\n",
       "      <td>0.333333</td>\n",
       "      <td>1.666667</td>\n",
       "      <td>3.611111</td>\n",
       "      <td>0.555556</td>\n",
       "      <td>no</td>\n",
       "    </tr>\n",
       "  </tbody>\n",
       "</table>\n",
       "<p>5844 rows × 19 columns</p>\n",
       "</div>"
      ],
      "text/plain": [
       "             ds        YM      MD Product         y  KRW_USD_EXR  \\\n",
       "0    2005-01-01       NaN     NaN     NaN       NaN          NaN   \n",
       "1    2005-01-02       NaN     NaN     NaN       NaN          NaN   \n",
       "2    2005-01-03  200501.0   103.0     고구마  8.364301      1013.00   \n",
       "3    2005-01-04  200501.0   104.0     고구마  8.383535      1013.00   \n",
       "4    2005-01-05  200501.0   105.0     고구마  8.434620      1013.00   \n",
       "...         ...       ...     ...     ...       ...          ...   \n",
       "5839 2020-12-27       NaN     NaN     NaN       NaN          NaN   \n",
       "5840 2020-12-28  202012.0  1228.0     고구마  9.252568      1180.05   \n",
       "5841 2020-12-29  202012.0  1229.0     고구마  9.252568      1180.05   \n",
       "5842 2020-12-30  202012.0  1230.0     고구마  9.255384      1180.05   \n",
       "5843 2020-12-31  202012.0  1231.0     고구마  9.278027      1180.05   \n",
       "\n",
       "      Annual_Call_Rate  item_PPI  item_CPI  Food_Price_Index  \\\n",
       "0                  NaN       NaN       NaN               NaN   \n",
       "1                  NaN       NaN       NaN               NaN   \n",
       "2                 3.33     53.12    41.811              65.4   \n",
       "3                 3.33     53.12    41.811              65.4   \n",
       "4                 3.33     53.12    41.811              65.4   \n",
       "...                ...       ...       ...               ...   \n",
       "5839               NaN       NaN       NaN               NaN   \n",
       "5840              0.70    137.90    96.130             108.6   \n",
       "5841              0.70    137.90    96.130             108.6   \n",
       "5842              0.70    137.90    96.130             108.6   \n",
       "5843              0.70    137.90    96.130             108.6   \n",
       "\n",
       "      Cereals_Price_Index  DayAvg_Temperature  DayDiff_Temperature  \\\n",
       "0                     NaN                 NaN                  NaN   \n",
       "1                     NaN                 NaN                  NaN   \n",
       "2                    60.5            4.000000             7.000000   \n",
       "3                    60.5           -3.000000             5.000000   \n",
       "4                    60.5           -5.000000            13.000000   \n",
       "...                   ...                 ...                  ...   \n",
       "5839                  NaN                 NaN                  NaN   \n",
       "5840                116.4            3.941176            11.941176   \n",
       "5841                116.4            1.590909             9.227273   \n",
       "5842                116.4           -5.500000             6.250000   \n",
       "5843                116.4           -5.222222             9.222222   \n",
       "\n",
       "      DayAvg_RelativeHumidity  DaySum_Rainfall  DayAvg_WindSpeed  \\\n",
       "0                         NaN              NaN               NaN   \n",
       "1                         NaN              NaN               NaN   \n",
       "2                    0.000000         1.000000          4.000000   \n",
       "3                    0.000000         0.000000          4.000000   \n",
       "4                    0.000000         0.000000          0.000000   \n",
       "...                       ...              ...               ...   \n",
       "5839                      NaN              NaN               NaN   \n",
       "5840                80.352941         0.058824          0.411765   \n",
       "5841                77.227273         1.272727          1.863636   \n",
       "5842                65.375000         0.291667          3.958333   \n",
       "5843                66.944444         0.333333          1.666667   \n",
       "\n",
       "      DaySum_Sunshine  Warning_Count outlier  \n",
       "0                 NaN            NaN     NaN  \n",
       "1                 NaN            NaN     NaN  \n",
       "2            0.000000       0.000000      no  \n",
       "3            0.000000       0.000000      no  \n",
       "4            0.000000       0.000000      no  \n",
       "...               ...            ...     ...  \n",
       "5839              NaN            NaN     NaN  \n",
       "5840         3.117647       0.000000      no  \n",
       "5841         0.636364       0.772727      no  \n",
       "5842         2.666667       0.833333      no  \n",
       "5843         3.611111       0.555556      no  \n",
       "\n",
       "[5844 rows x 19 columns]"
      ]
     },
     "execution_count": 27,
     "metadata": {},
     "output_type": "execute_result"
    }
   ],
   "source": [
    "df = pd.merge(dates, df, how='outer', on='ds')\n",
    "df"
   ]
  },
  {
   "cell_type": "code",
   "execution_count": 41,
   "metadata": {},
   "outputs": [
    {
     "name": "stderr",
     "output_type": "stream",
     "text": [
      "14:49:59 - cmdstanpy - INFO - Chain [1] start processing\n",
      "14:50:50 - cmdstanpy - INFO - Chain [1] done processing\n"
     ]
    },
    {
     "data": {
      "text/plain": [
       "<prophet.forecaster.Prophet at 0x7f99093471f0>"
      ]
     },
     "execution_count": 41,
     "metadata": {},
     "output_type": "execute_result"
    }
   ],
   "source": [
    "final_model = Prophet(holidays=holiday,\n",
    "                      changepoint_prior_scale= 0.5,\n",
    "                      holidays_prior_scale = 0.5,\n",
    "                      n_changepoints = 200,\n",
    "                      seasonality_mode = 'additive',\n",
    "                      weekly_seasonality=True,\n",
    "                      daily_seasonality = True,\n",
    "                      yearly_seasonality = True,\n",
    "                      interval_width=0.95)\n",
    "final_model.fit(train)"
   ]
  },
  {
   "cell_type": "code",
   "execution_count": 29,
   "metadata": {},
   "outputs": [
    {
     "data": {
      "text/html": [
       "<div>\n",
       "<style scoped>\n",
       "    .dataframe tbody tr th:only-of-type {\n",
       "        vertical-align: middle;\n",
       "    }\n",
       "\n",
       "    .dataframe tbody tr th {\n",
       "        vertical-align: top;\n",
       "    }\n",
       "\n",
       "    .dataframe thead th {\n",
       "        text-align: right;\n",
       "    }\n",
       "</style>\n",
       "<table border=\"1\" class=\"dataframe\">\n",
       "  <thead>\n",
       "    <tr style=\"text-align: right;\">\n",
       "      <th></th>\n",
       "      <th>ds</th>\n",
       "      <th>yhat</th>\n",
       "      <th>yhat_lower</th>\n",
       "      <th>yhat_upper</th>\n",
       "    </tr>\n",
       "  </thead>\n",
       "  <tbody>\n",
       "    <tr>\n",
       "      <th>4081</th>\n",
       "      <td>2020-12-25</td>\n",
       "      <td>9.121486</td>\n",
       "      <td>7.519453</td>\n",
       "      <td>10.776583</td>\n",
       "    </tr>\n",
       "    <tr>\n",
       "      <th>4082</th>\n",
       "      <td>2020-12-26</td>\n",
       "      <td>9.086223</td>\n",
       "      <td>7.488402</td>\n",
       "      <td>10.757684</td>\n",
       "    </tr>\n",
       "    <tr>\n",
       "      <th>4083</th>\n",
       "      <td>2020-12-27</td>\n",
       "      <td>9.042281</td>\n",
       "      <td>7.445925</td>\n",
       "      <td>10.726440</td>\n",
       "    </tr>\n",
       "    <tr>\n",
       "      <th>4084</th>\n",
       "      <td>2020-12-28</td>\n",
       "      <td>9.100842</td>\n",
       "      <td>7.516740</td>\n",
       "      <td>10.788853</td>\n",
       "    </tr>\n",
       "    <tr>\n",
       "      <th>4085</th>\n",
       "      <td>2020-12-29</td>\n",
       "      <td>9.102786</td>\n",
       "      <td>7.491810</td>\n",
       "      <td>10.833218</td>\n",
       "    </tr>\n",
       "    <tr>\n",
       "      <th>4086</th>\n",
       "      <td>2020-12-30</td>\n",
       "      <td>9.105879</td>\n",
       "      <td>7.541293</td>\n",
       "      <td>10.761228</td>\n",
       "    </tr>\n",
       "    <tr>\n",
       "      <th>4087</th>\n",
       "      <td>2020-12-31</td>\n",
       "      <td>9.108601</td>\n",
       "      <td>7.487906</td>\n",
       "      <td>10.805726</td>\n",
       "    </tr>\n",
       "  </tbody>\n",
       "</table>\n",
       "</div>"
      ],
      "text/plain": [
       "             ds      yhat  yhat_lower  yhat_upper\n",
       "4081 2020-12-25  9.121486    7.519453   10.776583\n",
       "4082 2020-12-26  9.086223    7.488402   10.757684\n",
       "4083 2020-12-27  9.042281    7.445925   10.726440\n",
       "4084 2020-12-28  9.100842    7.516740   10.788853\n",
       "4085 2020-12-29  9.102786    7.491810   10.833218\n",
       "4086 2020-12-30  9.105879    7.541293   10.761228\n",
       "4087 2020-12-31  9.108601    7.487906   10.805726"
      ]
     },
     "execution_count": 29,
     "metadata": {},
     "output_type": "execute_result"
    }
   ],
   "source": [
    "future = final_model.make_future_dataframe(periods=366, freq='D')\n",
    "forecast = final_model.predict(future)\n",
    "forecast[['ds', 'yhat', 'yhat_lower', 'yhat_upper']].tail(7)"
   ]
  },
  {
   "cell_type": "code",
   "execution_count": 30,
   "metadata": {},
   "outputs": [],
   "source": [
    "# figure = plt.figure(figsize=(12, 6), dpi=80)\n",
    "# plt.plot(y_true, label='Actual')\n",
    "# plt.plot(y_pred, label='Predicted')\n",
    "# plt.xlabel('Time ->>>', fontsize = 18)\n",
    "# plt.ylabel('$ Price ->>>', fontsize = 18)\n",
    "# plt.title('Stock price prediction with Fb Prophet', fontsize = 26)\n",
    "# plt.legend()\n",
    "# plt.show()"
   ]
  },
  {
   "cell_type": "code",
   "execution_count": 31,
   "metadata": {},
   "outputs": [],
   "source": [
    "df['y']=np.exp(df['y'])\n",
    "forecast['yhat']=np.exp(forecast['yhat'])"
   ]
  },
  {
   "cell_type": "code",
   "execution_count": 43,
   "metadata": {},
   "outputs": [
    {
     "data": {
      "image/png": "[encoded data removed]",
      "text/plain": [
       "<Figure size 1200x600 with 1 Axes>"
      ]
     },
     "metadata": {},
     "output_type": "display_data"
    }
   ],
   "source": [
    "plt.figure(figsize=(12,6))\n",
    "plt.plot(df['ds'], df['y'], label='real')\n",
    "plt.plot(forecast['ds'], forecast['yhat'], label='forecast')\n",
    "plt.grid()\n",
    "plt.legend()\n",
    "# plt.title(\"cp : 0.05, hp : 0.9\")\n",
    "plt.show()"
   ]
  },
  {
   "cell_type": "code",
   "execution_count": 87,
   "metadata": {},
   "outputs": [],
   "source": [
    "con = pd.concat([df, forecast], axis=1)\n",
    "con = con.dropna(axis=0)\n",
    "df1 = con[df.columns]\n",
    "forecast1 = con[forecast.columns]"
   ]
  },
  {
   "cell_type": "code",
   "execution_count": 88,
   "metadata": {},
   "outputs": [
    {
     "name": "stdout",
     "output_type": "stream",
     "text": [
      "Mean Absolute Error: 2243.420\n"
     ]
    }
   ],
   "source": [
    "y_true= df1['y'].values\n",
    "y_pred = forecast1['yhat'].values\n",
    "mae = mean_absolute_error(y_true, y_pred)\n",
    "print('Mean Absolute Error: %.3f' % mae)"
   ]
  },
  {
   "cell_type": "code",
   "execution_count": 89,
   "metadata": {},
   "outputs": [
    {
     "data": {
      "application/vnd.jupyter.widget-view+json": {
       "model_id": "457f5d266f58407585182164124eedbf",
       "version_major": 2,
       "version_minor": 0
      },
      "text/plain": [
       "  0%|          | 0/27 [00:00<?, ?it/s]"
      ]
     },
     "metadata": {},
     "output_type": "display_data"
    },
    {
     "name": "stderr",
     "output_type": "stream",
     "text": [
      "13:29:17 - cmdstanpy - INFO - Chain [1] start processing\n",
      "13:29:21 - cmdstanpy - INFO - Chain [1] done processing\n",
      "13:29:23 - cmdstanpy - INFO - Chain [1] start processing\n",
      "13:29:28 - cmdstanpy - INFO - Chain [1] done processing\n",
      "13:29:30 - cmdstanpy - INFO - Chain [1] start processing\n",
      "13:29:36 - cmdstanpy - INFO - Chain [1] done processing\n",
      "13:29:38 - cmdstanpy - INFO - Chain [1] start processing\n",
      "13:29:45 - cmdstanpy - INFO - Chain [1] done processing\n",
      "13:29:47 - cmdstanpy - INFO - Chain [1] start processing\n",
      "13:29:55 - cmdstanpy - INFO - Chain [1] done processing\n",
      "13:29:57 - cmdstanpy - INFO - Chain [1] start processing\n",
      "13:30:06 - cmdstanpy - INFO - Chain [1] done processing\n",
      "13:30:08 - cmdstanpy - INFO - Chain [1] start processing\n",
      "13:30:19 - cmdstanpy - INFO - Chain [1] done processing\n",
      "13:30:20 - cmdstanpy - INFO - Chain [1] start processing\n",
      "13:30:32 - cmdstanpy - INFO - Chain [1] done processing\n",
      "13:30:34 - cmdstanpy - INFO - Chain [1] start processing\n",
      "13:30:46 - cmdstanpy - INFO - Chain [1] done processing\n",
      "13:30:48 - cmdstanpy - INFO - Chain [1] start processing\n",
      "13:31:02 - cmdstanpy - INFO - Chain [1] done processing\n",
      "13:31:04 - cmdstanpy - INFO - Chain [1] start processing\n",
      "13:31:19 - cmdstanpy - INFO - Chain [1] done processing\n",
      "13:31:21 - cmdstanpy - INFO - Chain [1] start processing\n",
      "13:31:39 - cmdstanpy - INFO - Chain [1] done processing\n",
      "13:31:41 - cmdstanpy - INFO - Chain [1] start processing\n",
      "13:31:57 - cmdstanpy - INFO - Chain [1] done processing\n",
      "13:31:59 - cmdstanpy - INFO - Chain [1] start processing\n",
      "13:32:17 - cmdstanpy - INFO - Chain [1] done processing\n",
      "13:32:19 - cmdstanpy - INFO - Chain [1] start processing\n",
      "13:32:41 - cmdstanpy - INFO - Chain [1] done processing\n",
      "13:32:43 - cmdstanpy - INFO - Chain [1] start processing\n",
      "13:33:08 - cmdstanpy - INFO - Chain [1] done processing\n",
      "13:33:10 - cmdstanpy - INFO - Chain [1] start processing\n",
      "13:33:36 - cmdstanpy - INFO - Chain [1] done processing\n",
      "13:33:38 - cmdstanpy - INFO - Chain [1] start processing\n",
      "13:34:06 - cmdstanpy - INFO - Chain [1] done processing\n",
      "13:34:09 - cmdstanpy - INFO - Chain [1] start processing\n",
      "13:34:39 - cmdstanpy - INFO - Chain [1] done processing\n",
      "13:34:41 - cmdstanpy - INFO - Chain [1] start processing\n",
      "13:35:12 - cmdstanpy - INFO - Chain [1] done processing\n",
      "13:35:14 - cmdstanpy - INFO - Chain [1] start processing\n",
      "13:35:47 - cmdstanpy - INFO - Chain [1] done processing\n",
      "13:35:50 - cmdstanpy - INFO - Chain [1] start processing\n",
      "13:36:26 - cmdstanpy - INFO - Chain [1] done processing\n",
      "13:36:28 - cmdstanpy - INFO - Chain [1] start processing\n",
      "13:37:09 - cmdstanpy - INFO - Chain [1] done processing\n",
      "13:37:11 - cmdstanpy - INFO - Chain [1] start processing\n",
      "13:37:55 - cmdstanpy - INFO - Chain [1] done processing\n",
      "13:37:57 - cmdstanpy - INFO - Chain [1] start processing\n",
      "13:38:42 - cmdstanpy - INFO - Chain [1] done processing\n",
      "13:38:44 - cmdstanpy - INFO - Chain [1] start processing\n",
      "13:39:33 - cmdstanpy - INFO - Chain [1] done processing\n",
      "13:39:35 - cmdstanpy - INFO - Chain [1] start processing\n",
      "13:40:25 - cmdstanpy - INFO - Chain [1] done processing\n"
     ]
    },
    {
     "data": {
      "text/html": [
       "<div>\n",
       "<style scoped>\n",
       "    .dataframe tbody tr th:only-of-type {\n",
       "        vertical-align: middle;\n",
       "    }\n",
       "\n",
       "    .dataframe tbody tr th {\n",
       "        vertical-align: top;\n",
       "    }\n",
       "\n",
       "    .dataframe thead th {\n",
       "        text-align: right;\n",
       "    }\n",
       "</style>\n",
       "<table border=\"1\" class=\"dataframe\">\n",
       "  <thead>\n",
       "    <tr style=\"text-align: right;\">\n",
       "      <th></th>\n",
       "      <th>horizon</th>\n",
       "      <th>mse</th>\n",
       "      <th>rmse</th>\n",
       "      <th>mae</th>\n",
       "      <th>mape</th>\n",
       "      <th>mdape</th>\n",
       "      <th>smape</th>\n",
       "      <th>coverage</th>\n",
       "    </tr>\n",
       "  </thead>\n",
       "  <tbody>\n",
       "    <tr>\n",
       "      <th>3</th>\n",
       "      <td>6 days</td>\n",
       "      <td>0.018936</td>\n",
       "      <td>0.137609</td>\n",
       "      <td>0.116159</td>\n",
       "      <td>0.012742</td>\n",
       "      <td>0.012370</td>\n",
       "      <td>0.012725</td>\n",
       "      <td>0.311111</td>\n",
       "    </tr>\n",
       "    <tr>\n",
       "      <th>4</th>\n",
       "      <td>7 days</td>\n",
       "      <td>0.019555</td>\n",
       "      <td>0.139841</td>\n",
       "      <td>0.116335</td>\n",
       "      <td>0.012768</td>\n",
       "      <td>0.012370</td>\n",
       "      <td>0.012744</td>\n",
       "      <td>0.303743</td>\n",
       "    </tr>\n",
       "    <tr>\n",
       "      <th>0</th>\n",
       "      <td>3 days</td>\n",
       "      <td>0.020506</td>\n",
       "      <td>0.143200</td>\n",
       "      <td>0.119863</td>\n",
       "      <td>0.013199</td>\n",
       "      <td>0.013268</td>\n",
       "      <td>0.013171</td>\n",
       "      <td>0.391388</td>\n",
       "    </tr>\n",
       "    <tr>\n",
       "      <th>2</th>\n",
       "      <td>5 days</td>\n",
       "      <td>0.019892</td>\n",
       "      <td>0.141040</td>\n",
       "      <td>0.121446</td>\n",
       "      <td>0.013361</td>\n",
       "      <td>0.012557</td>\n",
       "      <td>0.013346</td>\n",
       "      <td>0.303349</td>\n",
       "    </tr>\n",
       "    <tr>\n",
       "      <th>1</th>\n",
       "      <td>4 days</td>\n",
       "      <td>0.021356</td>\n",
       "      <td>0.146138</td>\n",
       "      <td>0.124325</td>\n",
       "      <td>0.013688</td>\n",
       "      <td>0.013268</td>\n",
       "      <td>0.013672</td>\n",
       "      <td>0.354067</td>\n",
       "    </tr>\n",
       "  </tbody>\n",
       "</table>\n",
       "</div>"
      ],
      "text/plain": [
       "  horizon       mse      rmse       mae      mape     mdape     smape  \\\n",
       "3  6 days  0.018936  0.137609  0.116159  0.012742  0.012370  0.012725   \n",
       "4  7 days  0.019555  0.139841  0.116335  0.012768  0.012370  0.012744   \n",
       "0  3 days  0.020506  0.143200  0.119863  0.013199  0.013268  0.013171   \n",
       "2  5 days  0.019892  0.141040  0.121446  0.013361  0.012557  0.013346   \n",
       "1  4 days  0.021356  0.146138  0.124325  0.013688  0.013268  0.013672   \n",
       "\n",
       "   coverage  \n",
       "3  0.311111  \n",
       "4  0.303743  \n",
       "0  0.391388  \n",
       "2  0.303349  \n",
       "1  0.354067  "
      ]
     },
     "execution_count": 89,
     "metadata": {},
     "output_type": "execute_result"
    }
   ],
   "source": [
    "evaluation_model = cross_validation(final_model, initial='720 days', period='180 days', horizon = '30 days')\n",
    "evaluation_metrix = performance_metrics(evaluation_model)\n",
    "evaluation_metrix.sort_values('mae').head(5)"
   ]
  }
 ],
 "metadata": {
  "kernelspec": {
   "display_name": "Python 3.8 (NGC 22.09 / TensorFlow 2.9.1) on Backend.AI",
   "language": "python",
   "name": "python3"
  },
  "language_info": {
   "codemirror_mode": {
    "name": "ipython",
    "version": 3
   },
   "file_extension": ".py",
   "mimetype": "text/x-python",
   "name": "python",
   "nbconvert_exporter": "python",
   "pygments_lexer": "ipython3",
   "version": "3.8.10"
  },
  "vscode": {
   "interpreter": {
    "hash": "9d268cb7956bb84fc0274ccbb143d35389b26d51ddaa2a526d5eae67d93f8abb"
   }
  }
 },
 "nbformat": 4,
 "nbformat_minor": 2
}
