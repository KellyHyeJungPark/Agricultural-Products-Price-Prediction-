{
 "cells": [
  {
   "cell_type": "code",
   "execution_count": 2,
   "metadata": {},
   "outputs": [],
   "source": [
    "import pandas as pd\n",
    "import numpy as np\n",
    "import matplotlib.pyplot as plt\n",
    "import koreanize_matplotlib\n",
    "%config InlineBackend.figure_format = 'retina'"
   ]
  },
  {
   "cell_type": "code",
   "execution_count": 3,
   "metadata": {},
   "outputs": [],
   "source": [
    "# 경로 자신에게 맞게 확인\n",
    "df = pd.read_csv('../data/PriceList.csv')"
   ]
  },
  {
   "cell_type": "code",
   "execution_count": 4,
   "metadata": {},
   "outputs": [],
   "source": [
    "df['YMD'] = df['YMD'].astype(str)"
   ]
  },
  {
   "cell_type": "code",
   "execution_count": 5,
   "metadata": {},
   "outputs": [],
   "source": [
    "# Wholesale : 도매\n",
    "df_w = df[df['WR']=='도매']"
   ]
  },
  {
   "cell_type": "code",
   "execution_count": 6,
   "metadata": {},
   "outputs": [],
   "source": [
    "# Retail : 소매\n",
    "df_r = df[df['WR']=='소매']"
   ]
  },
  {
   "cell_type": "code",
   "execution_count": 7,
   "metadata": {
    "scrolled": true
   },
   "outputs": [],
   "source": [
    "product_w = df_w['Product'].unique()\n",
    "product_w = product_w.tolist()"
   ]
  },
  {
   "cell_type": "code",
   "execution_count": 8,
   "metadata": {
    "scrolled": true
   },
   "outputs": [],
   "source": [
    "product_r = df_r['Product'].unique()\n",
    "product_r = product_r.tolist()"
   ]
  },
  {
   "cell_type": "code",
   "execution_count": 9,
   "metadata": {},
   "outputs": [
    {
     "name": "stdout",
     "output_type": "stream",
     "text": [
      "23\n"
     ]
    }
   ],
   "source": [
    "crop_list = ['호박', '고구마', '양파', '무', '배', '배추', '피마늘', '양배추', '시금치', '콩', '땅콩', '풋고추', '오이', '깻잎', '생강', '사과', '포도', '당근', '복숭아', '미나리', '감자', '열무', '쌀']\n",
    "\n",
    "print(len(crop_list))"
   ]
  },
  {
   "cell_type": "markdown",
   "metadata": {},
   "source": [
    "# 물가지수 파일과 겹치는 품목 확인"
   ]
  },
  {
   "cell_type": "code",
   "execution_count": 10,
   "metadata": {},
   "outputs": [],
   "source": [
    "df_1 = pd.read_csv('../data/소비자물가지수_품목별_연도별_월별_filtered.csv')"
   ]
  },
  {
   "cell_type": "code",
   "execution_count": 11,
   "metadata": {
    "scrolled": true
   },
   "outputs": [
    {
     "data": {
      "text/plain": [
       "array(['총지수', '농축수산물', '\\u3000\\u3000\\u3000(농산물)곡물',\n",
       "       '\\u3000\\u3000\\u3000\\u3000\\u3000\\u3000쌀',\n",
       "       '\\u3000\\u3000\\u3000\\u3000\\u3000\\u3000현미',\n",
       "       '\\u3000\\u3000\\u3000\\u3000\\u3000\\u3000찹쌀',\n",
       "       '\\u3000\\u3000\\u3000\\u3000\\u3000\\u3000보리쌀',\n",
       "       '\\u3000\\u3000\\u3000\\u3000\\u3000\\u3000콩',\n",
       "       '\\u3000\\u3000\\u3000\\u3000\\u3000\\u3000땅콩',\n",
       "       '\\u3000\\u3000\\u3000\\u3000\\u3000\\u3000혼식곡',\n",
       "       '\\u3000\\u3000\\u3000(농산물)채소',\n",
       "       '\\u3000\\u3000\\u3000\\u3000\\u3000\\u3000배추',\n",
       "       '\\u3000\\u3000\\u3000\\u3000\\u3000\\u3000상추',\n",
       "       '\\u3000\\u3000\\u3000\\u3000\\u3000\\u3000시금치',\n",
       "       '\\u3000\\u3000\\u3000\\u3000\\u3000\\u3000양배추',\n",
       "       '\\u3000\\u3000\\u3000\\u3000\\u3000\\u3000미나리',\n",
       "       '\\u3000\\u3000\\u3000\\u3000\\u3000\\u3000깻잎',\n",
       "       '\\u3000\\u3000\\u3000\\u3000\\u3000\\u3000부추',\n",
       "       '\\u3000\\u3000\\u3000\\u3000\\u3000\\u3000무',\n",
       "       '\\u3000\\u3000\\u3000\\u3000\\u3000\\u3000열무',\n",
       "       '\\u3000\\u3000\\u3000\\u3000\\u3000\\u3000당근',\n",
       "       '\\u3000\\u3000\\u3000\\u3000\\u3000\\u3000감자',\n",
       "       '\\u3000\\u3000\\u3000\\u3000\\u3000\\u3000고구마',\n",
       "       '\\u3000\\u3000\\u3000\\u3000\\u3000\\u3000도라지',\n",
       "       '\\u3000\\u3000\\u3000\\u3000\\u3000\\u3000콩나물',\n",
       "       '\\u3000\\u3000\\u3000\\u3000\\u3000\\u3000버섯',\n",
       "       '\\u3000\\u3000\\u3000\\u3000\\u3000\\u3000오이',\n",
       "       '\\u3000\\u3000\\u3000\\u3000\\u3000\\u3000풋고추',\n",
       "       '\\u3000\\u3000\\u3000\\u3000\\u3000\\u3000호박',\n",
       "       '\\u3000\\u3000\\u3000\\u3000\\u3000\\u3000가지',\n",
       "       '\\u3000\\u3000\\u3000\\u3000\\u3000\\u3000토마토',\n",
       "       '\\u3000\\u3000\\u3000\\u3000\\u3000\\u3000파',\n",
       "       '\\u3000\\u3000\\u3000\\u3000\\u3000\\u3000양파',\n",
       "       '\\u3000\\u3000\\u3000\\u3000\\u3000\\u3000마늘',\n",
       "       '\\u3000\\u3000\\u3000\\u3000\\u3000\\u3000브로콜리',\n",
       "       '\\u3000\\u3000\\u3000\\u3000\\u3000\\u3000고사리',\n",
       "       '\\u3000\\u3000\\u3000\\u3000\\u3000\\u3000파프리카',\n",
       "       '\\u3000\\u3000\\u3000\\u3000\\u3000\\u3000생강',\n",
       "       '\\u3000\\u3000\\u3000(농산물)과실',\n",
       "       '\\u3000\\u3000\\u3000\\u3000\\u3000\\u3000사과',\n",
       "       '\\u3000\\u3000\\u3000\\u3000\\u3000\\u3000배',\n",
       "       '\\u3000\\u3000\\u3000\\u3000\\u3000\\u3000복숭아',\n",
       "       '\\u3000\\u3000\\u3000\\u3000\\u3000\\u3000포도',\n",
       "       '\\u3000\\u3000\\u3000\\u3000\\u3000\\u3000밤',\n",
       "       '\\u3000\\u3000\\u3000\\u3000\\u3000\\u3000감',\n",
       "       '\\u3000\\u3000\\u3000\\u3000\\u3000\\u3000귤',\n",
       "       '\\u3000\\u3000\\u3000\\u3000\\u3000\\u3000오렌지',\n",
       "       '\\u3000\\u3000\\u3000\\u3000\\u3000\\u3000참외',\n",
       "       '\\u3000\\u3000\\u3000\\u3000\\u3000\\u3000수박',\n",
       "       '\\u3000\\u3000\\u3000\\u3000\\u3000\\u3000딸기',\n",
       "       '\\u3000\\u3000\\u3000\\u3000\\u3000\\u3000바나나',\n",
       "       '\\u3000\\u3000\\u3000\\u3000\\u3000\\u3000키위'], dtype=object)"
      ]
     },
     "execution_count": 11,
     "metadata": {},
     "output_type": "execute_result"
    }
   ],
   "source": [
    "df_1['품목별'].unique()"
   ]
  },
  {
   "cell_type": "code",
   "execution_count": 12,
   "metadata": {},
   "outputs": [],
   "source": [
    "# replace로 \\u3000 값이 사라지지 않는다.. 이유는 모르겠음\n",
    "df_1['품목별'] = df_1['품목별'].replace('\\u3000', '')"
   ]
  },
  {
   "cell_type": "code",
   "execution_count": 13,
   "metadata": {
    "scrolled": false
   },
   "outputs": [],
   "source": [
    "df_1['품목별'] = df_1['품목별'].map(lambda x:x.strip(('\\u3000')))"
   ]
  },
  {
   "cell_type": "code",
   "execution_count": 14,
   "metadata": {},
   "outputs": [
    {
     "data": {
      "text/plain": [
       "array(['총지수', '농축수산물', '(농산물)곡물', '쌀', '현미', '찹쌀', '보리쌀', '콩', '땅콩',\n",
       "       '혼식곡', '(농산물)채소', '배추', '상추', '시금치', '양배추', '미나리', '깻잎', '부추', '무',\n",
       "       '열무', '당근', '감자', '고구마', '도라지', '콩나물', '버섯', '오이', '풋고추', '호박',\n",
       "       '가지', '토마토', '파', '양파', '마늘', '브로콜리', '고사리', '파프리카', '생강',\n",
       "       '(농산물)과실', '사과', '배', '복숭아', '포도', '밤', '감', '귤', '오렌지', '참외',\n",
       "       '수박', '딸기', '바나나', '키위'], dtype=object)"
      ]
     },
     "execution_count": 14,
     "metadata": {},
     "output_type": "execute_result"
    }
   ],
   "source": [
    "df_1['품목별'].unique()"
   ]
  },
  {
   "cell_type": "code",
   "execution_count": 15,
   "metadata": {},
   "outputs": [
    {
     "data": {
      "text/plain": [
       "array(['쌀', '찹쌀', '콩', '팥', '녹두', '메밀', '고구마', '감자', '배추', '양배추', '시금치',\n",
       "       '상추', '수박', '오이', '호박', '토마토', '무', '당근', '건고추', '풋고추', '붉은고추',\n",
       "       '피마늘', '깐마늘(국산)', '깐마늘(수입)', '양파', '파', '생강', '미나리', '깻잎', '피망',\n",
       "       '참깨', '들깨', '땅콩', '느타리버섯', '팽이버섯', '사과', '배', '포도', '감귤', '단감',\n",
       "       '바나나', '참다래', '오렌지', '방울토마토', '고등어', '갈치', '명태', '물오징어', '건멸치',\n",
       "       '북어', '건오징어', '김', '건미역', '굴', '수입조기', '돼지고기', '닭고기', '계란', '우유',\n",
       "       '딸기', '참외', '복숭아', '쇠고기', '파프리카', '멜론', '새송이버섯', '얼갈이배추', '열무',\n",
       "       '건포도', '건블루베리', '레몬', '체리', '아몬드', '자몽', '호두', '고춧가루', '굵은소금',\n",
       "       '멸치액젓', '새우젓', '망고', '파인애플', '갓', '가지', '부추', '새우', '전복', '꽁치',\n",
       "       '브로콜리', '청경채', '케일', '양송이버섯', '표고버섯', '귀리', '보리', '수수', '율무',\n",
       "       '양상추', '혼합곡'], dtype=object)"
      ]
     },
     "execution_count": 15,
     "metadata": {},
     "output_type": "execute_result"
    }
   ],
   "source": [
    "df['Product'].unique()"
   ]
  },
  {
   "cell_type": "code",
   "execution_count": 16,
   "metadata": {},
   "outputs": [
    {
     "name": "stdout",
     "output_type": "stream",
     "text": [
      "['쌀', '찹쌀', '콩', '고구마', '감자', '배추', '양배추', '시금치', '상추', '수박', '오이', '호박', '토마토', '무', '당근', '풋고추', '양파', '파', '생강', '미나리', '깻잎', '땅콩', '사과', '배', '포도', '바나나', '오렌지', '딸기', '참외', '복숭아', '파프리카', '열무', '가지', '부추', '브로콜리']\n"
     ]
    }
   ],
   "source": [
    "Product_list=[]\n",
    "\n",
    "for i in df['Product'].unique():\n",
    "    if i in df_1['품목별'].unique():\n",
    "        Product_list.append(i)\n",
    "\n",
    "print(Product_list)"
   ]
  },
  {
   "cell_type": "code",
   "execution_count": 17,
   "metadata": {},
   "outputs": [
    {
     "data": {
      "text/plain": [
       "35"
      ]
     },
     "execution_count": 17,
     "metadata": {},
     "output_type": "execute_result"
    }
   ],
   "source": [
    "len(Product_list)"
   ]
  },
  {
   "cell_type": "markdown",
   "metadata": {},
   "source": [
    "# crop_list 이외 품목 삭제"
   ]
  },
  {
   "cell_type": "code",
   "execution_count": 18,
   "metadata": {},
   "outputs": [],
   "source": [
    "df_w = df_w[df_w[\"Product\"].isin(crop_list)]"
   ]
  },
  {
   "cell_type": "code",
   "execution_count": 19,
   "metadata": {},
   "outputs": [
    {
     "data": {
      "text/plain": [
       "23"
      ]
     },
     "execution_count": 19,
     "metadata": {},
     "output_type": "execute_result"
    }
   ],
   "source": [
    "len(df_w[\"Product\"].unique())"
   ]
  },
  {
   "cell_type": "code",
   "execution_count": 20,
   "metadata": {},
   "outputs": [
    {
     "data": {
      "text/html": [
       "<div>\n",
       "<style scoped>\n",
       "    .dataframe tbody tr th:only-of-type {\n",
       "        vertical-align: middle;\n",
       "    }\n",
       "\n",
       "    .dataframe tbody tr th {\n",
       "        vertical-align: top;\n",
       "    }\n",
       "\n",
       "    .dataframe thead th {\n",
       "        text-align: right;\n",
       "    }\n",
       "</style>\n",
       "<table border=\"1\" class=\"dataframe\">\n",
       "  <thead>\n",
       "    <tr style=\"text-align: right;\">\n",
       "      <th></th>\n",
       "      <th>YMD</th>\n",
       "      <th>Region</th>\n",
       "      <th>Product</th>\n",
       "      <th>WR</th>\n",
       "      <th>Grade</th>\n",
       "      <th>Price</th>\n",
       "      <th>Y</th>\n",
       "      <th>M</th>\n",
       "      <th>D</th>\n",
       "      <th>YearMonth</th>\n",
       "    </tr>\n",
       "  </thead>\n",
       "  <tbody>\n",
       "    <tr>\n",
       "      <th>0</th>\n",
       "      <td>20050103</td>\n",
       "      <td>서울</td>\n",
       "      <td>쌀</td>\n",
       "      <td>도매</td>\n",
       "      <td>상품</td>\n",
       "      <td>40000.0</td>\n",
       "      <td>2005</td>\n",
       "      <td>1</td>\n",
       "      <td>3</td>\n",
       "      <td>200501</td>\n",
       "    </tr>\n",
       "    <tr>\n",
       "      <th>1</th>\n",
       "      <td>20050103</td>\n",
       "      <td>부산</td>\n",
       "      <td>쌀</td>\n",
       "      <td>도매</td>\n",
       "      <td>상품</td>\n",
       "      <td>40000.0</td>\n",
       "      <td>2005</td>\n",
       "      <td>1</td>\n",
       "      <td>3</td>\n",
       "      <td>200501</td>\n",
       "    </tr>\n",
       "    <tr>\n",
       "      <th>2</th>\n",
       "      <td>20050103</td>\n",
       "      <td>대구</td>\n",
       "      <td>쌀</td>\n",
       "      <td>도매</td>\n",
       "      <td>상품</td>\n",
       "      <td>40000.0</td>\n",
       "      <td>2005</td>\n",
       "      <td>1</td>\n",
       "      <td>3</td>\n",
       "      <td>200501</td>\n",
       "    </tr>\n",
       "    <tr>\n",
       "      <th>3</th>\n",
       "      <td>20050103</td>\n",
       "      <td>광주</td>\n",
       "      <td>쌀</td>\n",
       "      <td>도매</td>\n",
       "      <td>상품</td>\n",
       "      <td>40000.0</td>\n",
       "      <td>2005</td>\n",
       "      <td>1</td>\n",
       "      <td>3</td>\n",
       "      <td>200501</td>\n",
       "    </tr>\n",
       "    <tr>\n",
       "      <th>4</th>\n",
       "      <td>20050103</td>\n",
       "      <td>대전</td>\n",
       "      <td>쌀</td>\n",
       "      <td>도매</td>\n",
       "      <td>상품</td>\n",
       "      <td>40000.0</td>\n",
       "      <td>2005</td>\n",
       "      <td>1</td>\n",
       "      <td>3</td>\n",
       "      <td>200501</td>\n",
       "    </tr>\n",
       "  </tbody>\n",
       "</table>\n",
       "</div>"
      ],
      "text/plain": [
       "        YMD Region Product  WR Grade    Price     Y  M  D  YearMonth\n",
       "0  20050103     서울       쌀  도매    상품  40000.0  2005  1  3     200501\n",
       "1  20050103     부산       쌀  도매    상품  40000.0  2005  1  3     200501\n",
       "2  20050103     대구       쌀  도매    상품  40000.0  2005  1  3     200501\n",
       "3  20050103     광주       쌀  도매    상품  40000.0  2005  1  3     200501\n",
       "4  20050103     대전       쌀  도매    상품  40000.0  2005  1  3     200501"
      ]
     },
     "execution_count": 20,
     "metadata": {},
     "output_type": "execute_result"
    }
   ],
   "source": [
    "df_w.head()"
   ]
  },
  {
   "cell_type": "markdown",
   "metadata": {},
   "source": [
    "# Grade (상품, 중품) 평균가격으로 Price 계산"
   ]
  },
  {
   "cell_type": "code",
   "execution_count": 23,
   "metadata": {},
   "outputs": [
    {
     "data": {
      "text/html": [
       "<div>\n",
       "<style scoped>\n",
       "    .dataframe tbody tr th:only-of-type {\n",
       "        vertical-align: middle;\n",
       "    }\n",
       "\n",
       "    .dataframe tbody tr th {\n",
       "        vertical-align: top;\n",
       "    }\n",
       "\n",
       "    .dataframe thead th {\n",
       "        text-align: right;\n",
       "    }\n",
       "</style>\n",
       "<table border=\"1\" class=\"dataframe\">\n",
       "  <thead>\n",
       "    <tr style=\"text-align: right;\">\n",
       "      <th></th>\n",
       "      <th>YMD</th>\n",
       "      <th>Product</th>\n",
       "      <th>Price</th>\n",
       "      <th>Y</th>\n",
       "      <th>MD</th>\n",
       "    </tr>\n",
       "  </thead>\n",
       "  <tbody>\n",
       "    <tr>\n",
       "      <th>0</th>\n",
       "      <td>20050103</td>\n",
       "      <td>감자</td>\n",
       "      <td>21200.000000</td>\n",
       "      <td>2005</td>\n",
       "      <td>0103</td>\n",
       "    </tr>\n",
       "    <tr>\n",
       "      <th>1</th>\n",
       "      <td>20050103</td>\n",
       "      <td>고구마</td>\n",
       "      <td>11300.000000</td>\n",
       "      <td>2005</td>\n",
       "      <td>0103</td>\n",
       "    </tr>\n",
       "    <tr>\n",
       "      <th>2</th>\n",
       "      <td>20050103</td>\n",
       "      <td>깻잎</td>\n",
       "      <td>16500.000000</td>\n",
       "      <td>2005</td>\n",
       "      <td>0103</td>\n",
       "    </tr>\n",
       "    <tr>\n",
       "      <th>3</th>\n",
       "      <td>20050103</td>\n",
       "      <td>당근</td>\n",
       "      <td>21300.000000</td>\n",
       "      <td>2005</td>\n",
       "      <td>0103</td>\n",
       "    </tr>\n",
       "    <tr>\n",
       "      <th>4</th>\n",
       "      <td>20050103</td>\n",
       "      <td>땅콩</td>\n",
       "      <td>105600.000000</td>\n",
       "      <td>2005</td>\n",
       "      <td>0103</td>\n",
       "    </tr>\n",
       "    <tr>\n",
       "      <th>...</th>\n",
       "      <td>...</td>\n",
       "      <td>...</td>\n",
       "      <td>...</td>\n",
       "      <td>...</td>\n",
       "      <td>...</td>\n",
       "    </tr>\n",
       "    <tr>\n",
       "      <th>85917</th>\n",
       "      <td>20201231</td>\n",
       "      <td>콩</td>\n",
       "      <td>184214.285714</td>\n",
       "      <td>2020</td>\n",
       "      <td>1231</td>\n",
       "    </tr>\n",
       "    <tr>\n",
       "      <th>85918</th>\n",
       "      <td>20201231</td>\n",
       "      <td>포도</td>\n",
       "      <td>23790.000000</td>\n",
       "      <td>2020</td>\n",
       "      <td>1231</td>\n",
       "    </tr>\n",
       "    <tr>\n",
       "      <th>85919</th>\n",
       "      <td>20201231</td>\n",
       "      <td>풋고추</td>\n",
       "      <td>34323.333333</td>\n",
       "      <td>2020</td>\n",
       "      <td>1231</td>\n",
       "    </tr>\n",
       "    <tr>\n",
       "      <th>85920</th>\n",
       "      <td>20201231</td>\n",
       "      <td>피마늘</td>\n",
       "      <td>53533.333333</td>\n",
       "      <td>2020</td>\n",
       "      <td>1231</td>\n",
       "    </tr>\n",
       "    <tr>\n",
       "      <th>85921</th>\n",
       "      <td>20201231</td>\n",
       "      <td>호박</td>\n",
       "      <td>18536.500000</td>\n",
       "      <td>2020</td>\n",
       "      <td>1231</td>\n",
       "    </tr>\n",
       "  </tbody>\n",
       "</table>\n",
       "<p>85922 rows × 5 columns</p>\n",
       "</div>"
      ],
      "text/plain": [
       "            YMD Product          Price     Y    MD\n",
       "0      20050103      감자   21200.000000  2005  0103\n",
       "1      20050103     고구마   11300.000000  2005  0103\n",
       "2      20050103      깻잎   16500.000000  2005  0103\n",
       "3      20050103      당근   21300.000000  2005  0103\n",
       "4      20050103      땅콩  105600.000000  2005  0103\n",
       "...         ...     ...            ...   ...   ...\n",
       "85917  20201231       콩  184214.285714  2020  1231\n",
       "85918  20201231      포도   23790.000000  2020  1231\n",
       "85919  20201231     풋고추   34323.333333  2020  1231\n",
       "85920  20201231     피마늘   53533.333333  2020  1231\n",
       "85921  20201231      호박   18536.500000  2020  1231\n",
       "\n",
       "[85922 rows x 5 columns]"
      ]
     },
     "execution_count": 23,
     "metadata": {},
     "output_type": "execute_result"
    }
   ],
   "source": [
    "df_gw= pd.DataFrame(data=df_w.groupby([\"YMD\",\"Product\"])[\"Price\"].mean().reset_index())\n",
    "df_gw['Y'] = df_gw['YMD'].map(lambda x:x[:4]).astype('int32')\n",
    "df_gw['MD'] = df_gw['YMD'].map(lambda x:x[4:]).astype('str')\n",
    "\n",
    "\n",
    "df_gw"
   ]
  },
  {
   "cell_type": "code",
   "execution_count": 24,
   "metadata": {},
   "outputs": [
    {
     "data": {
      "text/html": [
       "<div>\n",
       "<style scoped>\n",
       "    .dataframe tbody tr th:only-of-type {\n",
       "        vertical-align: middle;\n",
       "    }\n",
       "\n",
       "    .dataframe tbody tr th {\n",
       "        vertical-align: top;\n",
       "    }\n",
       "\n",
       "    .dataframe thead th {\n",
       "        text-align: right;\n",
       "    }\n",
       "</style>\n",
       "<table border=\"1\" class=\"dataframe\">\n",
       "  <thead>\n",
       "    <tr style=\"text-align: right;\">\n",
       "      <th></th>\n",
       "      <th>YMD</th>\n",
       "      <th>Product</th>\n",
       "      <th>Price</th>\n",
       "      <th>Y</th>\n",
       "      <th>MD</th>\n",
       "    </tr>\n",
       "  </thead>\n",
       "  <tbody>\n",
       "    <tr>\n",
       "      <th>0</th>\n",
       "      <td>20050103</td>\n",
       "      <td>갈치</td>\n",
       "      <td>7360.606061</td>\n",
       "      <td>2005</td>\n",
       "      <td>0103</td>\n",
       "    </tr>\n",
       "    <tr>\n",
       "      <th>1</th>\n",
       "      <td>20050103</td>\n",
       "      <td>감귤</td>\n",
       "      <td>1793.461538</td>\n",
       "      <td>2005</td>\n",
       "      <td>0103</td>\n",
       "    </tr>\n",
       "    <tr>\n",
       "      <th>2</th>\n",
       "      <td>20050103</td>\n",
       "      <td>감자</td>\n",
       "      <td>250.897959</td>\n",
       "      <td>2005</td>\n",
       "      <td>0103</td>\n",
       "    </tr>\n",
       "    <tr>\n",
       "      <th>3</th>\n",
       "      <td>20050103</td>\n",
       "      <td>건고추</td>\n",
       "      <td>7034.864865</td>\n",
       "      <td>2005</td>\n",
       "      <td>0103</td>\n",
       "    </tr>\n",
       "    <tr>\n",
       "      <th>4</th>\n",
       "      <td>20050103</td>\n",
       "      <td>건멸치</td>\n",
       "      <td>2010.000000</td>\n",
       "      <td>2005</td>\n",
       "      <td>0103</td>\n",
       "    </tr>\n",
       "    <tr>\n",
       "      <th>...</th>\n",
       "      <td>...</td>\n",
       "      <td>...</td>\n",
       "      <td>...</td>\n",
       "      <td>...</td>\n",
       "      <td>...</td>\n",
       "    </tr>\n",
       "    <tr>\n",
       "      <th>250187</th>\n",
       "      <td>20201231</td>\n",
       "      <td>포도</td>\n",
       "      <td>32576.363636</td>\n",
       "      <td>2020</td>\n",
       "      <td>1231</td>\n",
       "    </tr>\n",
       "    <tr>\n",
       "      <th>250188</th>\n",
       "      <td>20201231</td>\n",
       "      <td>풋고추</td>\n",
       "      <td>932.195122</td>\n",
       "      <td>2020</td>\n",
       "      <td>1231</td>\n",
       "    </tr>\n",
       "    <tr>\n",
       "      <th>250189</th>\n",
       "      <td>20201231</td>\n",
       "      <td>피망</td>\n",
       "      <td>1073.191489</td>\n",
       "      <td>2020</td>\n",
       "      <td>1231</td>\n",
       "    </tr>\n",
       "    <tr>\n",
       "      <th>250190</th>\n",
       "      <td>20201231</td>\n",
       "      <td>호두</td>\n",
       "      <td>1466.341463</td>\n",
       "      <td>2020</td>\n",
       "      <td>1231</td>\n",
       "    </tr>\n",
       "    <tr>\n",
       "      <th>250191</th>\n",
       "      <td>20201231</td>\n",
       "      <td>호박</td>\n",
       "      <td>1569.130435</td>\n",
       "      <td>2020</td>\n",
       "      <td>1231</td>\n",
       "    </tr>\n",
       "  </tbody>\n",
       "</table>\n",
       "<p>250192 rows × 5 columns</p>\n",
       "</div>"
      ],
      "text/plain": [
       "             YMD Product         Price     Y    MD\n",
       "0       20050103      갈치   7360.606061  2005  0103\n",
       "1       20050103      감귤   1793.461538  2005  0103\n",
       "2       20050103      감자    250.897959  2005  0103\n",
       "3       20050103     건고추   7034.864865  2005  0103\n",
       "4       20050103     건멸치   2010.000000  2005  0103\n",
       "...          ...     ...           ...   ...   ...\n",
       "250187  20201231      포도  32576.363636  2020  1231\n",
       "250188  20201231     풋고추    932.195122  2020  1231\n",
       "250189  20201231      피망   1073.191489  2020  1231\n",
       "250190  20201231      호두   1466.341463  2020  1231\n",
       "250191  20201231      호박   1569.130435  2020  1231\n",
       "\n",
       "[250192 rows x 5 columns]"
      ]
     },
     "execution_count": 24,
     "metadata": {},
     "output_type": "execute_result"
    }
   ],
   "source": [
    "df_gr= pd.DataFrame(data=df_r.groupby([\"YMD\",\"Product\"])[\"Price\"].mean().reset_index())\n",
    "df_gr['Y'] = df_gr['YMD'].map(lambda x:x[:4]).astype('int32')\n",
    "df_gr['MD'] = df_gr['YMD'].map(lambda x:x[4:]).astype('str')\n",
    "df_gr"
   ]
  },
  {
   "cell_type": "markdown",
   "metadata": {},
   "source": [
    "# 파일로 저장"
   ]
  },
  {
   "cell_type": "code",
   "execution_count": null,
   "metadata": {},
   "outputs": [],
   "source": [
    "df_gw.to_csv(\"../data/df_gw.csv\", index = False)"
   ]
  },
  {
   "cell_type": "code",
   "execution_count": null,
   "metadata": {},
   "outputs": [],
   "source": [
    "df_gr.to_csv(\"../data/df_gr.csv\", index = False)"
   ]
  }
 ],
 "metadata": {
  "kernelspec": {
   "display_name": "Python 3 (ipykernel)",
   "language": "python",
   "name": "python3"
  },
  "language_info": {
   "codemirror_mode": {
    "name": "ipython",
    "version": 3
   },
   "file_extension": ".py",
   "mimetype": "text/x-python",
   "name": "python",
   "nbconvert_exporter": "python",
   "pygments_lexer": "ipython3",
   "version": "3.10.8 | packaged by conda-forge | (main, Nov 22 2022, 08:16:53) [MSC v.1929 64 bit (AMD64)]"
  },
  "toc": {
   "base_numbering": 1,
   "nav_menu": {},
   "number_sections": true,
   "sideBar": true,
   "skip_h1_title": false,
   "title_cell": "Table of Contents",
   "title_sidebar": "Contents",
   "toc_cell": false,
   "toc_position": {},
   "toc_section_display": true,
   "toc_window_display": false
  },
  "vscode": {
   "interpreter": {
    "hash": "07badbe185019afce09527cdf66b20ec507f3045aabcc27b0da70607b5630dc4"
   }
  }
 },
 "nbformat": 4,
 "nbformat_minor": 4
}
