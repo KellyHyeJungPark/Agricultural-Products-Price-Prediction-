{
 "cells": [
  {
   "cell_type": "code",
   "execution_count": 1,
   "metadata": {},
   "outputs": [],
   "source": [
    "from pprint import pprint\n",
    "\n",
    "import numpy as np\n",
    "import pandas as pd\n",
    "\n",
    "root_path = \"../\"\n",
    "data_path = f\"{root_path}data/\""
   ]
  },
  {
   "cell_type": "code",
   "execution_count": 6,
   "metadata": {},
   "outputs": [
    {
     "name": "stdout",
     "output_type": "stream",
     "text": [
      "['총지수',\n",
      " '농축수산물',\n",
      " '(농산물)곡물',\n",
      " '쌀',\n",
      " '현미',\n",
      " '찹쌀',\n",
      " '보리쌀',\n",
      " '콩',\n",
      " '땅콩',\n",
      " '혼식곡',\n",
      " '(농산물)채소',\n",
      " '배추',\n",
      " '상추',\n",
      " '시금치',\n",
      " '양배추',\n",
      " '미나리',\n",
      " '깻잎',\n",
      " '부추',\n",
      " '무',\n",
      " '열무',\n",
      " '당근',\n",
      " '감자',\n",
      " '고구마',\n",
      " '도라지',\n",
      " '콩나물',\n",
      " '버섯',\n",
      " '오이',\n",
      " '풋고추',\n",
      " '호박',\n",
      " '가지',\n",
      " '토마토',\n",
      " '파',\n",
      " '양파',\n",
      " '마늘',\n",
      " '브로콜리',\n",
      " '고사리',\n",
      " '파프리카',\n",
      " '생강',\n",
      " '(농산물)과실',\n",
      " '사과',\n",
      " '배',\n",
      " '복숭아',\n",
      " '포도',\n",
      " '밤',\n",
      " '감',\n",
      " '귤',\n",
      " '오렌지',\n",
      " '참외',\n",
      " '수박',\n",
      " '딸기',\n",
      " '바나나',\n",
      " '키위']\n"
     ]
    }
   ],
   "source": [
    "file_path = f\"{data_path}소비자물가지수_품목별_연도별_월별_filtered.csv\"\n",
    "df_filtered = pd.read_csv(file_path)\n",
    "\n",
    "corp_list = list(df_filtered[\"품목별\"].map(lambda x:x.strip(('\\u3000'))).values)\n",
    "pprint(corp_list)"
   ]
  },
  {
   "cell_type": "code",
   "execution_count": 7,
   "metadata": {},
   "outputs": [
    {
     "name": "stdout",
     "output_type": "stream",
     "text": [
      "['쌀',\n",
      " '현미',\n",
      " '찹쌀',\n",
      " '보리쌀',\n",
      " '콩',\n",
      " '땅콩',\n",
      " '혼식곡',\n",
      " '배추',\n",
      " '상추',\n",
      " '시금치',\n",
      " '양배추',\n",
      " '미나리',\n",
      " '깻잎',\n",
      " '부추',\n",
      " '무',\n",
      " '열무',\n",
      " '당근',\n",
      " '감자',\n",
      " '고구마',\n",
      " '도라지',\n",
      " '콩나물',\n",
      " '버섯',\n",
      " '오이',\n",
      " '풋고추',\n",
      " '호박',\n",
      " '가지',\n",
      " '토마토',\n",
      " '파',\n",
      " '양파',\n",
      " '마늘',\n",
      " '브로콜리',\n",
      " '고사리',\n",
      " '파프리카',\n",
      " '생강',\n",
      " '사과',\n",
      " '배',\n",
      " '복숭아',\n",
      " '포도',\n",
      " '밤',\n",
      " '감',\n",
      " '귤',\n",
      " '오렌지',\n",
      " '참외',\n",
      " '수박',\n",
      " '딸기',\n",
      " '바나나',\n",
      " '키위']\n"
     ]
    }
   ],
   "source": [
    "remove_list = ['총지수', '농축수산물', '(농산물)곡물', '(농산물)채소', '(농산물)과실']\n",
    "\n",
    "for i in remove_list:\n",
    "    corp_list.remove(i)\n",
    "\n",
    "pprint(corp_list)"
   ]
  }
 ],
 "metadata": {
  "kernelspec": {
   "display_name": "asd1",
   "language": "python",
   "name": "python3"
  },
  "language_info": {
   "codemirror_mode": {
    "name": "ipython",
    "version": 3
   },
   "file_extension": ".py",
   "mimetype": "text/x-python",
   "name": "python",
   "nbconvert_exporter": "python",
   "pygments_lexer": "ipython3",
   "version": "3.10.8"
  },
  "orig_nbformat": 4,
  "vscode": {
   "interpreter": {
    "hash": "07badbe185019afce09527cdf66b20ec507f3045aabcc27b0da70607b5630dc4"
   }
  }
 },
 "nbformat": 4,
 "nbformat_minor": 2
}
