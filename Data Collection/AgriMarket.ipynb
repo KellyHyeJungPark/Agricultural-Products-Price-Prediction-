{
 "cells": [
  {
   "cell_type": "markdown",
   "metadata": {},
   "source": [
    "# AgriMarket\n",
    "\n",
    "## 농수산물\n",
    "\n",
    "\n",
    "- Data Source : [농식품 빅데이터 거래소](https://kadx.co.kr/product/detail/94534d90-595d-11eb-acdd-9560621d9652)\n",
    "\n",
    "- Collection Method : Download\n",
    "\n",
    "- Data Format : CSV\n",
    "\n",
    "### 데이터 설명\n",
    "\n",
    "- 일반농산물 도매 69품목 116품종, 소매 90품목 143품종 및 친환경농산물 38품목 44종 대상 가격 자료\n",
    "\n",
    "\n",
    "## 소비자 물가지수 \n",
    "\n",
    "\n",
    "- Data Source : [국가통계포털](https://kosis.kr/statHtml/statHtml.do?orgId=101&tblId=DT_1J20112&conn_path=I2)\n",
    "\n",
    "- Collection Method : Download\n",
    "\n",
    "- Data Format : CSV\n",
    "\n",
    "### 데이터 설명\n",
    "\n",
    "- 농산물 중 필수재라고 판단되는 곡물,채소 포함\n",
    "\n",
    "- 사치재인 과실, 기타 농산물 제외"
   ]
  },
  {
   "cell_type": "code",
   "execution_count": 7,
   "metadata": {},
   "outputs": [],
   "source": [
    "import pandas as pd\n",
    "import numpy as np\n",
    "import seaborn as sns\n",
    "import matplotlib.pyplot as plt\n",
    "import koreanize_matplotlib\n",
    "%config InlineBackend.figure_format = 'retina'\n",
    "\n",
    "root_path = \"../\"\n",
    "data_path = f\"{root_path}data\"\n",
    "\n",
    "col_detail={\n",
    "'prce_reg_ymd' : '가격등록일자',\n",
    "'mrkt_esnt_no' : '시장고유번호',\n",
    "'mrkt_code' : '시장코드',\n",
    "'mrkt_nm' : '시장명',\n",
    "'ct_code' : '시도코드',\n",
    "'ctnp_nm' : '시도명',\n",
    "'sggu_code' : '시군구코드',\n",
    "'sggu_nm' : '시군구명',\n",
    "'pdlt_code' : '품목코드',\n",
    "'pdlt_nm' : '품목명',\n",
    "'spcs_code' : '품종코드',\n",
    "'spcs_nm' : '품종명',\n",
    "'wsrt_exmn_se_code' : '도소매조사구분코드',\n",
    "'exmn_se_nm' : '조사구분명',\n",
    "'bulk_grad_code' : '산물등급코드',\n",
    "'bulk_grad_nm' : '산물등급명',\n",
    "'pdlt_prce' : '품목가격',\n",
    "'mtc_smt_unit_mg' : '산지출하단위크기',\n",
    "'mtc_smt_unit_nm' : '산지출하단위명',\n",
    "'whsl_smt_unit_mg' : '도매출하단위크기',\n",
    "'whsl_smt_unit_nm' : '도매출하단위명',\n",
    "'rtsl_smt_unit_mg' : '소매출하단위크기',\n",
    "'rtsl_smt_unit_nm' : '소매출하단위명',\n",
    "'evfd_fmpd_smt_unit_mg' : '친환경농산물출하단위크기',\n",
    "'evfd_fmpd_smt_unit_nm' : '친환경농산물출하단위명',\n",
    "'dcnt_prce_yn' : '할인가격여부',\n",
    "'etl_ldg_dt' : 'ETL적재일시'\n",
    "}"
   ]
  },
  {
   "cell_type": "markdown",
   "metadata": {},
   "source": [
    "# 파일 호출, 변수명 및 불러오기 경로는 자신에게 맞게 변경해주시면 됩니다."
   ]
  },
  {
   "cell_type": "code",
   "execution_count": 11,
   "metadata": {},
   "outputs": [
    {
     "name": "stdout",
     "output_type": "stream",
     "text": [
      "['TB_TAT_KAMIS_PRC_MK_TB-2022.csv', 'TB_TAT_KAMIS_PRC_MK_TB-1996.csv', 'TB_TAT_KAMIS_PRC_MK_TB-1997.csv', 'TB_TAT_KAMIS_PRC_MK_TB-1998.csv', 'TB_TAT_KAMIS_PRC_MK_TB-1999.csv', 'TB_TAT_KAMIS_PRC_MK_TB-2000.csv', 'TB_TAT_KAMIS_PRC_MK_TB-2001.csv', 'TB_TAT_KAMIS_PRC_MK_TB-2002.csv', 'TB_TAT_KAMIS_PRC_MK_TB-2003.csv', 'TB_TAT_KAMIS_PRC_MK_TB-2004.csv', 'TB_TAT_KAMIS_PRC_MK_TB-2005.csv', 'TB_TAT_KAMIS_PRC_MK_TB-2006.csv', 'TB_TAT_KAMIS_PRC_MK_TB-2007.csv', 'TB_TAT_KAMIS_PRC_MK_TB-2008.csv', 'TB_TAT_KAMIS_PRC_MK_TB-2009.csv', 'TB_TAT_KAMIS_PRC_MK_TB-2010.csv', 'TB_TAT_KAMIS_PRC_MK_TB-2011.csv', 'TB_TAT_KAMIS_PRC_MK_TB-2012.csv', 'TB_TAT_KAMIS_PRC_MK_TB-2013.csv', 'TB_TAT_KAMIS_PRC_MK_TB-2014.csv', 'TB_TAT_KAMIS_PRC_MK_TB-2015.csv', 'TB_TAT_KAMIS_PRC_MK_TB-2016.csv', 'TB_TAT_KAMIS_PRC_MK_TB-2017.csv', 'TB_TAT_KAMIS_PRC_MK_TB-2018.csv', 'TB_TAT_KAMIS_PRC_MK_TB-2019.csv', 'TB_TAT_KAMIS_PRC_MK_TB-2020.csv', 'TB_TAT_KAMIS_PRC_MK_TB-2021.csv']\n"
     ]
    }
   ],
   "source": [
    "import os\n",
    "files_path = f'{data_path}/TB_TAT_KAMIS_PRC_MK_TB/'\n",
    "files = os.listdir(files_path)\n",
    "print(files)"
   ]
  },
  {
   "cell_type": "code",
   "execution_count": 12,
   "metadata": {},
   "outputs": [],
   "source": [
    "df = pd.DataFrame()\n",
    "for file in files:\n",
    "    df_sub = pd.read_csv(f'{files_path}/{file}', encoding='cp949', low_memory=False)\n",
    "    df_sub = df_sub[['PRCE_REG_YMD', 'CTNP_NM', 'PDLT_NM', 'EXMN_SE_NM', 'BULK_GRAD_NM', 'PDLT_PRCE']]\n",
    "    df_sub = df_sub[~df_sub['PDLT_NM'].isna()]\n",
    "    df_sub.columns=['YMD', 'Region', 'Product', 'WR', 'Grade', 'Price']\n",
    "    df = pd.concat([df, df_sub])"
   ]
  },
  {
   "cell_type": "markdown",
   "metadata": {},
   "source": [
    "# 1. 년·월·일 에서 연·월 로 변경\n",
    "# 2. Y(년), M(월) 컬럼 생성"
   ]
  },
  {
   "cell_type": "code",
   "execution_count": 13,
   "metadata": {},
   "outputs": [],
   "source": [
    "df['YMD'] = df['YMD'].astype(str)\n",
    "df['YMD'] = df['YMD'].map(lambda x:x[:6])\n",
    "\n",
    "df['Y'] = df['YMD'].map(lambda x:x[:4]).astype('int16')\n",
    "df['M'] = df['YMD'].map(lambda x:x[4:]).astype('int8')"
   ]
  },
  {
   "cell_type": "code",
   "execution_count": 14,
   "metadata": {},
   "outputs": [],
   "source": [
    "# 20년 데이터만 있는 품목 제외\n",
    "\n",
    "df = df[~df['Product'].isin(['즉석밥', '두부', '김치', '고추장', '된장', '간장', '맛김(조미김)', '콩나물'])]"
   ]
  },
  {
   "cell_type": "code",
   "execution_count": 15,
   "metadata": {},
   "outputs": [],
   "source": [
    "# Wholesale : 도매\n",
    "df_w = df[df['WR']=='도매']"
   ]
  },
  {
   "cell_type": "code",
   "execution_count": 16,
   "metadata": {},
   "outputs": [],
   "source": [
    "# Retail : 소매\n",
    "df_r = df[df['WR']=='소매']"
   ]
  },
  {
   "cell_type": "code",
   "execution_count": 17,
   "metadata": {
    "scrolled": true
   },
   "outputs": [],
   "source": [
    "product_w = df_w['Product'].unique()\n",
    "product_w = product_w.tolist()"
   ]
  },
  {
   "cell_type": "code",
   "execution_count": 18,
   "metadata": {
    "scrolled": true
   },
   "outputs": [],
   "source": [
    "product_r = df_r['Product'].unique()\n",
    "product_r = product_r.tolist()"
   ]
  },
  {
   "cell_type": "markdown",
   "metadata": {},
   "source": [
    "# 물가지수 파일과 겹치는 품목 확인"
   ]
  },
  {
   "cell_type": "code",
   "execution_count": 21,
   "metadata": {},
   "outputs": [],
   "source": [
    "df_1 = pd.read_csv(f'{data_path}/소비자물가지수_품목별_연도별_월별_filtered.csv')"
   ]
  },
  {
   "cell_type": "code",
   "execution_count": 34,
   "metadata": {
    "scrolled": true
   },
   "outputs": [
    {
     "data": {
      "text/plain": [
       "array(['총지수', '농축수산물', '(농산물)곡물', '쌀', '현미', '찹쌀', '보리쌀', '콩', '땅콩',\n",
       "       '혼식곡', '(농산물)채소', '배추', '상추', '시금치', '양배추', '미나리', '깻잎', '부추', '무',\n",
       "       '열무', '당근', '감자', '고구마', '도라지', '콩나물', '버섯', '오이', '풋고추', '호박',\n",
       "       '가지', '토마토', '파', '양파', '피마늘', '브로콜리', '고사리', '파프리카', '생강',\n",
       "       '(농산물)과실', '사과', '배', '복숭아', '포도', '밤', '감', '귤', '오렌지', '참외',\n",
       "       '수박', '딸기', '바나나', '키위'], dtype=object)"
      ]
     },
     "execution_count": 34,
     "metadata": {},
     "output_type": "execute_result"
    }
   ],
   "source": [
    "df_1['품목별'].unique()"
   ]
  },
  {
   "cell_type": "code",
   "execution_count": 23,
   "metadata": {},
   "outputs": [],
   "source": [
    "# replace로 \\u3000 값이 사라지지 않는다.. 이유는 모르겠음\n",
    "df_1['품목별'] = df_1['품목별'].replace('\\u3000', '')"
   ]
  },
  {
   "cell_type": "code",
   "execution_count": 24,
   "metadata": {
    "scrolled": false
   },
   "outputs": [],
   "source": [
    "df_1['품목별'] = df_1['품목별'].map(lambda x:x.strip(('\\u3000')))"
   ]
  },
  {
   "cell_type": "code",
   "execution_count": 26,
   "metadata": {},
   "outputs": [
    {
     "data": {
      "text/plain": [
       "array(['감귤', '김', '방울토마토', '포도', '쇠고기', '팥', '쌀', '찹쌀', '콩', '녹두', '고구마',\n",
       "       '감자', '배추', '양배추', '상추', '오이', '호박', '토마토', '딸기', '무', '당근', '건고추',\n",
       "       '풋고추', '붉은고추', '깐마늘(국산)', '양파', '파', '생강', '미나리', '깻잎', '피망',\n",
       "       '파프리카', '멜론', '참깨', '땅콩', '느타리버섯', '팽이버섯', '새송이버섯', '사과', '배',\n",
       "       '단감', '바나나', '돼지고기', '닭고기', '계란', '명태', '건멸치', '건오징어', '건미역', '굴',\n",
       "       '수입조기', '호두', '아몬드', '레몬', '건포도', '파인애플', '고춧가루', '새우젓', '멸치액젓',\n",
       "       '굵은소금', '새우', '얼갈이배추', '수박', '우유', '고등어', '건블루베리', '참다래', '전복',\n",
       "       '꽁치', '시금치', '열무', '오렌지', '갈치', '물오징어', '망고', '피마늘', '들깨', '북어',\n",
       "       '갓', '양송이버섯', '표고버섯', '귀리', '보리', '수수', '가지', '부추', '브로콜리', '양상추',\n",
       "       '기장', '율무', '연근', '우엉', '참외', '아보카도', '블루베리', '체리', '메밀', '복숭아',\n",
       "       '조기', '절임배추', '깐마늘(수입)', '자몽', '청경채', '케일', '혼합곡'], dtype=object)"
      ]
     },
     "execution_count": 26,
     "metadata": {},
     "output_type": "execute_result"
    }
   ],
   "source": [
    "df['Product'].unique()"
   ]
  }
 ],
 "metadata": {
  "kernelspec": {
   "display_name": "Python 3 (ipykernel)",
   "language": "python",
   "name": "python3"
  },
  "language_info": {
   "codemirror_mode": {
    "name": "ipython",
    "version": 3
   },
   "file_extension": ".py",
   "mimetype": "text/x-python",
   "name": "python",
   "nbconvert_exporter": "python",
   "pygments_lexer": "ipython3",
   "version": "3.10.8 | packaged by conda-forge | (main, Nov 22 2022, 08:16:53) [MSC v.1929 64 bit (AMD64)]"
  },
  "vscode": {
   "interpreter": {
    "hash": "07badbe185019afce09527cdf66b20ec507f3045aabcc27b0da70607b5630dc4"
   }
  }
 },
 "nbformat": 4,
 "nbformat_minor": 4
}
