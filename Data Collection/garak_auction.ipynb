{
 "cells": [
  {
   "cell_type": "code",
   "execution_count": 1,
   "metadata": {},
   "outputs": [],
   "source": [
    "import time\n",
    "import requests\n",
    "import xml.etree.ElementTree as ET\n",
    "import math"
   ]
  },
  {
   "cell_type": "code",
   "execution_count": 5,
   "metadata": {},
   "outputs": [],
   "source": [
    "def garak_xml(page, s_date, corporate_body, item, sangi):\n",
    "\n",
    "    url = 'http://garak.co.kr/publicdata/dataOpen.do?'\n",
    "\n",
    "    params = (\n",
    "        ('id', '필수입력'),\n",
    "        ('passwd', '필수입력'),\n",
    "        ('dataid', '필수입력'),\n",
    "        ('pagesize', '10'),\n",
    "        ('pageidx', page),\n",
    "        ('portal.templet', 'false'),\n",
    "        ('s_date', s_date),\n",
    "        ('s_bubin', s_bubin),\n",
    "        ('s_pummok', s_pummok),\n",
    "        ('s_sangi', s_sangi)\n",
    "    )\n",
    "\n",
    "    response = requests.get(url, params=params)\n",
    "\n",
    "    status = response.status_code\n",
    "\n",
    "    if (status != 200):\n",
    "        raise Exception('Solr has a problem')\n",
    "\n",
    "    text = response.text\n",
    "\n",
    "    return text\n",
    "\n",
    "\n",
    "def garak(s_date, s_bubin, s_pummok, s_sangi):\n",
    "\n",
    "    page = 1\n",
    "\n",
    "    while True:\n",
    "        text = garak_xml(page, s_date, s_bubin, s_pummok, s_sangi)\n",
    "        root = ET.fromstring(text)\n",
    "        list_total_count = root.find('list_total_count').text\n",
    "        total_page = math.ceil(int(list_total_count) / 10)\n",
    "        print(list_total_count, total_page, page)\n",
    "\n",
    "        for item in root.findall('list'):\n",
    "            PUMMOK = item.find('PUMMOK').text\n",
    "            PUMJONG = item.find('PUMJONG').text\n",
    "            PUM_NAME_IMSI = item.find('PUM_NAME_IMSI').text\n",
    "            UUN = item.find('UUN').text\n",
    "            DDD = item.find('DDD').text\n",
    "            PPRICE = item.find('PPRICE').text\n",
    "            SSANGI = item.find('SSANGI').text\n",
    "            CORP_NM = item.find('CORP_NM').text\n",
    "            ADJ_DT = item.find('ADJ_DT').text\n",
    "            INJUNG_GUBUN = item.find('INJUNG_GUBUN').text\n",
    "            print(PUMMOK, PUMJONG, PUM_NAME_IMSI, UUN, DDD, PPRICE, SSANGI, CORP_NM, ADJ_DT, INJUNG_GUBUN)\n",
    "\n",
    "\n",
    "        if (total_page == page or total_page == 0):\n",
    "            break\n",
    "        time.sleep(1)\n",
    "        page+=1\n",
    "\n",
    "if __name__ == '__main__':\n",
    "    '''\n",
    "    서울청과 : 11000101\n",
    "    농협(공) : 11000102\n",
    "    중앙청과 : 11000103\n",
    "    동화청과 : 11000104\n",
    "    한국청과 : 11000105\n",
    "    대아청과 : 11000106\n",
    "    '''"
   ]
  },
  {
   "cell_type": "code",
   "execution_count": null,
   "metadata": {},
   "outputs": [],
   "source": []
  }
 ],
 "metadata": {
  "kernelspec": {
   "display_name": "asd1",
   "language": "python",
   "name": "python3"
  },
  "language_info": {
   "codemirror_mode": {
    "name": "ipython",
    "version": 3
   },
   "file_extension": ".py",
   "mimetype": "text/x-python",
   "name": "python",
   "nbconvert_exporter": "python",
   "pygments_lexer": "ipython3",
   "version": "3.10.8 | packaged by conda-forge | (main, Nov 22 2022, 08:16:53) [MSC v.1929 64 bit (AMD64)]"
  },
  "orig_nbformat": 4,
  "vscode": {
   "interpreter": {
    "hash": "07badbe185019afce09527cdf66b20ec507f3045aabcc27b0da70607b5630dc4"
   }
  }
 },
 "nbformat": 4,
 "nbformat_minor": 2
}
