{
 "cells": [
  {
   "attachments": {},
   "cell_type": "markdown",
   "metadata": {},
   "source": [
    "# crop_list\n",
    "\n",
    "이번 프로젝트에서 분석, 예측할 수 있는 작물들의 목록.\n",
    "\n",
    "통계청 품목별 생산자물가지수, 소비자물가지수의 품목 목록과\n",
    "\n",
    "'[기상청_작물별 농업주산지 상세날씨 조회서비스 - 일통계조회](https://www.data.go.kr/data/15059518/openapi.do)'에서 '주산지_작물명' 컬럼에서\n",
    "\n",
    "공통적으로 존재하는 품목들의 목록임."
   ]
  },
  {
   "cell_type": "code",
   "execution_count": 2,
   "metadata": {},
   "outputs": [],
   "source": [
    "from pprint import pprint\n",
    "\n",
    "import numpy as np\n",
    "import pandas as pd\n",
    "\n",
    "root_path = \"../\"\n",
    "data_path = f\"{root_path}data/\""
   ]
  },
  {
   "attachments": {},
   "cell_type": "markdown",
   "metadata": {},
   "source": [
    "# 통계청 품목별 생산자물가지수, 소비자물가지수의 품목 목록"
   ]
  },
  {
   "cell_type": "code",
   "execution_count": 3,
   "metadata": {},
   "outputs": [
    {
     "name": "stdout",
     "output_type": "stream",
     "text": [
      "['총지수', '농축수산물', '(농산물)곡물', '쌀', '현미', '찹쌀', '보리쌀', '콩', '땅콩', '혼식곡', '(농산물)채소', '배추', '상추', '시금치', '양배추', '미나리', '깻잎', '부추', '무', '열무', '당근', '감자', '고구마', '도라지', '콩나물', '버섯', '오이', '풋고추', '호박', '가지', '토마토', '파', '양파', '마늘', '브로콜리', '고사리', '파프리카', '생강', '(농산물)과실', '사과', '배', '복숭아', '포도', '밤', '감', '귤', '오렌지', '참외', '수박', '딸기', '바나나', '키위']\n"
     ]
    }
   ],
   "source": [
    "file_path = f\"{data_path}소비자물가지수_품목별_연도별_월별_filtered.csv\"\n",
    "df_filtered = pd.read_csv(file_path)\n",
    "\n",
    "crop_list = list(df_filtered[\"품목별\"].map(lambda x:x.strip(('\\u3000'))).values)\n",
    "print(crop_list)"
   ]
  },
  {
   "cell_type": "code",
   "execution_count": 4,
   "metadata": {},
   "outputs": [
    {
     "name": "stdout",
     "output_type": "stream",
     "text": [
      "['쌀', '현미', '찹쌀', '보리쌀', '콩', '땅콩', '혼식곡', '배추', '상추', '시금치', '양배추', '미나리', '깻잎', '부추', '무', '열무', '당근', '감자', '고구마', '도라지', '콩나물', '버섯', '오이', '풋고추', '호박', '가지', '토마토', '파', '양파', '마늘', '브로콜리', '고사리', '파프리카', '생강', '사과', '배', '복숭아', '포도', '밤', '감', '귤', '오렌지', '참외', '수박', '딸기', '바나나', '키위']\n"
     ]
    }
   ],
   "source": [
    "remove_list = ['총지수', '농축수산물', '(농산물)곡물', '(농산물)채소', '(농산물)과실']\n",
    "\n",
    "for i in remove_list:\n",
    "    crop_list.remove(i)\n",
    "\n",
    "print(crop_list)"
   ]
  },
  {
   "attachments": {},
   "cell_type": "markdown",
   "metadata": {},
   "source": [
    "# '[기상청_작물별 농업주산지 상세날씨 조회서비스 - 일통계조회](https://www.data.go.kr/data/15059518/openapi.do)'에서 '주산지_작물명' 컬럼"
   ]
  },
  {
   "cell_type": "code",
   "execution_count": 7,
   "metadata": {},
   "outputs": [
    {
     "data": {
      "text/plain": [
       "array(['호박', '풋고추', '포도', '팥', '콩', '참다래', '참깨', '쪽파', '오이', '열무',\n",
       "       '얼갈이배추', '양파', '양배추', '쌀', '시금치', '생강', '사과', '붉은고추', '복숭아', '배추',\n",
       "       '배', '방울토마토', '미나리', '무', '마늘', '땅콩', '들깨', '대파', '당근', '단감', '녹두',\n",
       "       '깻잎', '고구마', '건고추', '감자', '감귤'], dtype=object)"
      ]
     },
     "metadata": {},
     "output_type": "display_data"
    }
   ],
   "source": [
    "df_code_raw = pd.read_excel(f\"{data_path}작물별_농업주산지_상세날씨_조회서비스__지역코드_22.05.xlsx\")\n",
    "\n",
    "display(df_code_raw[\"주산지_작물명\"].unique())"
   ]
  },
  {
   "cell_type": "code",
   "execution_count": 9,
   "metadata": {},
   "outputs": [
    {
     "name": "stdout",
     "output_type": "stream",
     "text": [
      "['쌀', '현미', '찹쌀', '보리쌀', '콩', '땅콩', '혼식곡', '배추', '상추', '시금치', '양배추', '미나리', '깻잎', '부추', '무', '열무', '당근', '감자', '고구마', '도라지', '콩나물', '버섯', '오이', '풋고추', '호박', '가지', '토마토', '파', '양파', '마늘', '브로콜리', '고사리', '파프리카', '생강', '사과', '배', '복숭아', '포도', '밤', '감', '귤', '오렌지', '참외', '수박', '딸기', '바나나', '키위'] \n",
      "\n",
      "47\n"
     ]
    },
    {
     "data": {
      "text/plain": [
       "0    True\n",
       "1    True\n",
       "2    True\n",
       "3    True\n",
       "4    True\n",
       "5    True\n",
       "6    True\n",
       "7    True\n",
       "8    True\n",
       "9    True\n",
       "Name: 주산지_작물명, dtype: bool"
      ]
     },
     "metadata": {},
     "output_type": "display_data"
    },
    {
     "data": {
      "text/plain": [
       "0       True\n",
       "1       True\n",
       "2       True\n",
       "3       True\n",
       "4       True\n",
       "       ...  \n",
       "676     True\n",
       "677     True\n",
       "678    False\n",
       "679    False\n",
       "680    False\n",
       "Name: 주산지_작물명, Length: 681, dtype: bool"
      ]
     },
     "metadata": {},
     "output_type": "display_data"
    }
   ],
   "source": [
    "# crop_list에 있는 작물만\n",
    "\n",
    "print(crop_list, \"\\n\")\n",
    "print(len(crop_list))\n",
    "\n",
    "\n",
    "df_code_filtered = df_code_raw[\"주산지_작물명\"].isin(crop_list)\n",
    "display(df_code_filtered.head(10))\n",
    "display(df_code_filtered)"
   ]
  },
  {
   "attachments": {},
   "cell_type": "markdown",
   "metadata": {},
   "source": [
    "# 최종 crop_list"
   ]
  },
  {
   "cell_type": "code",
   "execution_count": 16,
   "metadata": {},
   "outputs": [
    {
     "name": "stdout",
     "output_type": "stream",
     "text": [
      "['호박', '고구마', '양파', '무', '배', '배추', '마늘', '양배추', '시금치', '콩', '땅콩', '풋고추', '오이', '깻잎', '생강', '사과', '포도', '당근', '복숭아', '미나리', '감자', '열무', '쌀']\n"
     ]
    }
   ],
   "source": [
    "crop_list = list(set(crop_list) & set(df_code_raw[\"주산지_작물명\"].unique()))\n",
    "print(crop_list)"
   ]
  }
 ],
 "metadata": {
  "kernelspec": {
   "display_name": "asd1",
   "language": "python",
   "name": "python3"
  },
  "language_info": {
   "codemirror_mode": {
    "name": "ipython",
    "version": 3
   },
   "file_extension": ".py",
   "mimetype": "text/x-python",
   "name": "python",
   "nbconvert_exporter": "python",
   "pygments_lexer": "ipython3",
   "version": "3.10.8"
  },
  "orig_nbformat": 4,
  "vscode": {
   "interpreter": {
    "hash": "07badbe185019afce09527cdf66b20ec507f3045aabcc27b0da70607b5630dc4"
   }
  }
 },
 "nbformat": 4,
 "nbformat_minor": 2
}
