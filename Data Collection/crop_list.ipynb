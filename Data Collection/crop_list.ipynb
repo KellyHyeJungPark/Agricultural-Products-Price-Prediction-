{
 "cells": [
  {
   "attachments": {},
   "cell_type": "markdown",
   "metadata": {},
   "source": [
    "# crop_list\n",
    "\n",
    "이번 프로젝트에서 분석, 예측할 수 있는 작물들의 목록.\n",
    "\n",
    "통계청 품목별 생산자물가지수, 소비자물가지수의 품목 목록과\n",
    "\n",
    "'[기상청_작물별 농업주산지 상세날씨 조회서비스 - 일통계조회](https://www.data.go.kr/data/15059518/openapi.do)'에서 '주산지_작물명' 컬럼에서\n",
    "\n",
    "공통적으로 존재하는 품목들의 목록임.\n",
    "\n",
    "'```{root_path}/import/definitions.py```'에 최종 목록을 넣어 다른 파일들에서 활용."
   ]
  },
  {
   "cell_type": "code",
   "execution_count": 2,
   "metadata": {},
   "outputs": [],
   "source": [
    "from pprint import pprint\n",
    "\n",
    "import numpy as np\n",
    "import pandas as pd\n",
    "\n",
    "root_path = \"../\"\n",
    "data_path = f\"{root_path}data/\""
   ]
  },
  {
   "attachments": {},
   "cell_type": "markdown",
   "metadata": {},
   "source": [
    "# 통계청 품목별 생산자물가지수, 소비자물가지수의 품목 목록"
   ]
  },
  {
   "cell_type": "code",
   "execution_count": 19,
   "metadata": {},
   "outputs": [
    {
     "name": "stdout",
     "output_type": "stream",
     "text": [
      "['총지수', '농축수산물', '(농산물)곡물', '쌀', '현미', '찹쌀', '보리쌀', '콩', '땅콩', '혼식곡', '(농산물)채소', '배추', '상추', '시금치', '양배추', '미나리', '깻잎', '부추', '무', '열무', '당근', '감자', '고구마', '도라지', '콩나물', '버섯', '오이', '풋고추', '호박', '가지', '토마토', '파', '양파', '마늘', '브로콜리', '고사리', '파프리카', '생강', '(농산물)과실', '사과', '배', '복숭아', '포도', '밤', '감', '귤', '오렌지', '참외', '수박', '딸기', '바나나', '키위']\n"
     ]
    }
   ],
   "source": [
    "df_filtered = pd.read_csv(f\"{data_path}소비자물가지수_품목별_연도별_월별_filtered.csv\")\n",
    "\n",
    "crop_list_1 = list(df_filtered[\"품목별\"].map(lambda x:x.strip(('\\u3000'))).values)\n",
    "print(crop_list_1)"
   ]
  },
  {
   "cell_type": "code",
   "execution_count": 20,
   "metadata": {},
   "outputs": [
    {
     "name": "stdout",
     "output_type": "stream",
     "text": [
      "['쌀', '현미', '찹쌀', '보리쌀', '콩', '땅콩', '혼식곡', '배추', '상추', '시금치', '양배추', '미나리', '깻잎', '부추', '무', '열무', '당근', '감자', '고구마', '도라지', '콩나물', '버섯', '오이', '풋고추', '호박', '가지', '토마토', '파', '양파', '마늘', '브로콜리', '고사리', '파프리카', '생강', '사과', '배', '복숭아', '포도', '밤', '감', '귤', '오렌지', '참외', '수박', '딸기', '바나나', '키위']\n"
     ]
    }
   ],
   "source": [
    "remove = ['총지수', '농축수산물', '(농산물)곡물', '(농산물)채소', '(농산물)과실']\n",
    "\n",
    "for i in remove:\n",
    "    crop_list_1.remove(i)\n",
    "\n",
    "print(crop_list_1)"
   ]
  },
  {
   "attachments": {},
   "cell_type": "markdown",
   "metadata": {},
   "source": [
    "# '[기상청_작물별 농업주산지 상세날씨 조회서비스 - 일통계조회](https://www.data.go.kr/data/15059518/openapi.do)'에서 '주산지_작물명' 컬럼"
   ]
  },
  {
   "cell_type": "code",
   "execution_count": 26,
   "metadata": {},
   "outputs": [
    {
     "name": "stdout",
     "output_type": "stream",
     "text": [
      "['호박' '풋고추' '포도' '팥' '콩' '참다래' '참깨' '쪽파' '오이' '열무' '얼갈이배추' '양파' '양배추' '쌀'\n",
      " '시금치' '생강' '사과' '붉은고추' '복숭아' '배추' '배' '방울토마토' '미나리' '무' '마늘' '땅콩' '들깨'\n",
      " '대파' '당근' '단감' '녹두' '깻잎' '고구마' '건고추' '감자' '감귤']\n"
     ]
    }
   ],
   "source": [
    "df_code_raw = pd.read_excel(f\"{data_path}작물별_농업주산지_상세날씨_조회서비스__지역코드_22.05.xlsx\")\n",
    "\n",
    "crop_list_2 = df_code_raw[\"주산지_작물명\"].unique()\n",
    "\n",
    "print(crop_list_2)"
   ]
  },
  {
   "attachments": {},
   "cell_type": "markdown",
   "metadata": {},
   "source": [
    "# 최종 crop_list"
   ]
  },
  {
   "cell_type": "code",
   "execution_count": 25,
   "metadata": {},
   "outputs": [
    {
     "name": "stdout",
     "output_type": "stream",
     "text": [
      "['호박', '고구마', '양파', '무', '배', '배추', '마늘', '양배추', '시금치', '콩', '땅콩', '풋고추', '오이', '깻잎', '생강', '사과', '포도', '당근', '복숭아', '미나리', '감자', '열무', '쌀']\n"
     ]
    }
   ],
   "source": [
    "crop_list = list(set(crop_list_1) & set(crop_list_2))\n",
    "print(crop_list)"
   ]
  },
  {
   "attachments": {},
   "cell_type": "markdown",
   "metadata": {},
   "source": [
    "## 마늘 -> 피마늘\n",
    "이번 프로젝트에서는 마늘로 통일하기로 함"
   ]
  },
  {
   "cell_type": "code",
   "execution_count": 27,
   "metadata": {},
   "outputs": [
    {
     "name": "stdout",
     "output_type": "stream",
     "text": [
      "['호박', '고구마', '양파', '무', '배', '배추', '피마늘', '양배추', '시금치', '콩', '땅콩', '풋고추', '오이', '깻잎', '생강', '사과', '포도', '당근', '복숭아', '미나리', '감자', '열무', '쌀']\n"
     ]
    }
   ],
   "source": [
    "crop_list[crop_list.index(\"마늘\")] = \"피마늘\"\n",
    "print(crop_list)"
   ]
  },
  {
   "cell_type": "code",
   "execution_count": 28,
   "metadata": {},
   "outputs": [
    {
     "name": "stdout",
     "output_type": "stream",
     "text": [
      "23\n"
     ]
    }
   ],
   "source": [
    "print(len(crop_list))"
   ]
  }
 ],
 "metadata": {
  "kernelspec": {
   "display_name": "asd1",
   "language": "python",
   "name": "python3"
  },
  "language_info": {
   "codemirror_mode": {
    "name": "ipython",
    "version": 3
   },
   "file_extension": ".py",
   "mimetype": "text/x-python",
   "name": "python",
   "nbconvert_exporter": "python",
   "pygments_lexer": "ipython3",
   "version": "3.10.8 | packaged by conda-forge | (main, Nov 22 2022, 08:16:53) [MSC v.1929 64 bit (AMD64)]"
  },
  "orig_nbformat": 4,
  "vscode": {
   "interpreter": {
    "hash": "07badbe185019afce09527cdf66b20ec507f3045aabcc27b0da70607b5630dc4"
   }
  }
 },
 "nbformat": 4,
 "nbformat_minor": 2
}
